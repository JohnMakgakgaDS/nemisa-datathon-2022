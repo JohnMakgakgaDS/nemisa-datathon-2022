{
 "cells": [
  {
   "cell_type": "markdown",
   "metadata": {
    "colab_type": "text",
    "id": "view-in-github"
   },
   "source": [
    "<a href=\"https://colab.research.google.com/github/JohnMakgakgaDS/nemisa-datathon-2022/blob/main/food_prices.ipynb\" target=\"_parent\"><img src=\"https://colab.research.google.com/assets/colab-badge.svg\" alt=\"Open In Colab\"/></a>"
   ]
  },
  {
   "cell_type": "markdown",
   "metadata": {},
   "source": [
    "# South Africa - Food Prices Humanitarian Data Exchange \n",
    "## Data Overview\n",
    "\n",
    "This dataset contains Food Prices data for South Africa, sourced from the World Food Programme Price Database. The World Food Programme Price Database covers foods such as maize, rice, beans, fish, and sugar for 98 countries and some 3000 markets. It is updated weekly but contains to a large extent monthly data. The data goes back as far as 1992 for a few countries, although many countries started reporting from 2003 or thereafter.\n",
    "\n",
    "## Problem statement\n"
   ]
  },
  {
   "cell_type": "markdown",
   "metadata": {},
   "source": [
    "## Tabele of Content\n",
    "\n",
    "1. Importing Packages\n",
    "\n",
    "2. Loading Data\n",
    "\n",
    "3. Exploratory Data Analysis (EDA)\n",
    "\n",
    "4. Data Engineering\n",
    "\n",
    "5. Modeling\n",
    "\n",
    "6. Model Performance\n",
    "\n",
    "7. Model Explanations"
   ]
  },
  {
   "cell_type": "markdown",
   "metadata": {},
   "source": [
    "### Importing Packages"
   ]
  },
  {
   "cell_type": "code",
   "execution_count": null,
   "metadata": {},
   "outputs": [],
   "source": [
    "#from google.colab import files\n",
    "#uploaded = files.upload()"
   ]
  },
  {
   "cell_type": "code",
   "execution_count": 2,
   "metadata": {
    "id": "05b0uT1GN43Y"
   },
   "outputs": [],
   "source": [
    "# data analysis and wrangling\n",
    "import pandas as pd\n",
    "import numpy as np\n",
    "import random as rnd\n",
    "import pandas as pd\n",
    "import datetime\n",
    "\n",
    "# visualization\n",
    "import seaborn as sns\n",
    "import matplotlib.pyplot as plt\n",
    "%matplotlib inline"
   ]
  },
  {
   "cell_type": "markdown",
   "metadata": {},
   "source": [
    "### Loading data\n",
    "- In this section you are required to load the data into a DataFrame."
   ]
  },
  {
   "cell_type": "code",
   "execution_count": 5,
   "metadata": {
    "id": "4suGxcYONe4S"
   },
   "outputs": [],
   "source": [
    "# load data\n",
    "df = pd.read_csv(\"wfp_food_prices_zaf.csv\")"
   ]
  },
  {
   "cell_type": "markdown",
   "metadata": {},
   "source": [
    "### Exploratory Data Analysis\n",
    "- You are required to perform an in-depth analysis of all the variables in the DataFrame."
   ]
  },
  {
   "cell_type": "code",
   "execution_count": 6,
   "metadata": {
    "colab": {
     "base_uri": "https://localhost:8080/",
     "height": 206
    },
    "id": "hK-o4U38N1Tt",
    "outputId": "cef89c13-1013-4a76-9123-0029318ef649",
    "scrolled": true
   },
   "outputs": [
    {
     "data": {
      "text/html": [
       "<div>\n",
       "<style scoped>\n",
       "    .dataframe tbody tr th:only-of-type {\n",
       "        vertical-align: middle;\n",
       "    }\n",
       "\n",
       "    .dataframe tbody tr th {\n",
       "        vertical-align: top;\n",
       "    }\n",
       "\n",
       "    .dataframe thead th {\n",
       "        text-align: right;\n",
       "    }\n",
       "</style>\n",
       "<table border=\"1\" class=\"dataframe\">\n",
       "  <thead>\n",
       "    <tr style=\"text-align: right;\">\n",
       "      <th></th>\n",
       "      <th>date</th>\n",
       "      <th>admin1</th>\n",
       "      <th>admin2</th>\n",
       "      <th>market</th>\n",
       "      <th>latitude</th>\n",
       "      <th>longitude</th>\n",
       "      <th>category</th>\n",
       "      <th>commodity</th>\n",
       "      <th>unit</th>\n",
       "      <th>priceflag</th>\n",
       "      <th>pricetype</th>\n",
       "      <th>currency</th>\n",
       "      <th>price</th>\n",
       "      <th>usdprice</th>\n",
       "    </tr>\n",
       "  </thead>\n",
       "  <tbody>\n",
       "    <tr>\n",
       "      <th>0</th>\n",
       "      <td>#date</td>\n",
       "      <td>#adm1+name</td>\n",
       "      <td>#adm2+name</td>\n",
       "      <td>#loc+market+name</td>\n",
       "      <td>#geo+lat</td>\n",
       "      <td>#geo+lon</td>\n",
       "      <td>#item+type</td>\n",
       "      <td>#item+name</td>\n",
       "      <td>#item+unit</td>\n",
       "      <td>#item+price+flag</td>\n",
       "      <td>#item+price+type</td>\n",
       "      <td>#currency</td>\n",
       "      <td>#value</td>\n",
       "      <td>#value+usd</td>\n",
       "    </tr>\n",
       "    <tr>\n",
       "      <th>1</th>\n",
       "      <td>2000-01-15</td>\n",
       "      <td>Gauteng</td>\n",
       "      <td>West Rand District Municipality</td>\n",
       "      <td>Randfontein</td>\n",
       "      <td>-26.199</td>\n",
       "      <td>27.669</td>\n",
       "      <td>cereals and tubers</td>\n",
       "      <td>Maize (white)</td>\n",
       "      <td>KG</td>\n",
       "      <td>actual</td>\n",
       "      <td>Wholesale</td>\n",
       "      <td>ZAR</td>\n",
       "      <td>0.8</td>\n",
       "      <td>0.1321</td>\n",
       "    </tr>\n",
       "    <tr>\n",
       "      <th>2</th>\n",
       "      <td>2000-01-15</td>\n",
       "      <td>Gauteng</td>\n",
       "      <td>West Rand District Municipality</td>\n",
       "      <td>Randfontein</td>\n",
       "      <td>-26.199</td>\n",
       "      <td>27.669</td>\n",
       "      <td>cereals and tubers</td>\n",
       "      <td>Maize (yellow)</td>\n",
       "      <td>KG</td>\n",
       "      <td>actual</td>\n",
       "      <td>Wholesale</td>\n",
       "      <td>ZAR</td>\n",
       "      <td>0.86</td>\n",
       "      <td>0.1413</td>\n",
       "    </tr>\n",
       "    <tr>\n",
       "      <th>3</th>\n",
       "      <td>2000-01-15</td>\n",
       "      <td>Gauteng</td>\n",
       "      <td>West Rand District Municipality</td>\n",
       "      <td>Randfontein</td>\n",
       "      <td>-26.199</td>\n",
       "      <td>27.669</td>\n",
       "      <td>cereals and tubers</td>\n",
       "      <td>Wheat</td>\n",
       "      <td>KG</td>\n",
       "      <td>actual</td>\n",
       "      <td>Wholesale</td>\n",
       "      <td>ZAR</td>\n",
       "      <td>0.65</td>\n",
       "      <td>0.1068</td>\n",
       "    </tr>\n",
       "    <tr>\n",
       "      <th>4</th>\n",
       "      <td>2000-02-15</td>\n",
       "      <td>Gauteng</td>\n",
       "      <td>West Rand District Municipality</td>\n",
       "      <td>Randfontein</td>\n",
       "      <td>-26.199</td>\n",
       "      <td>27.669</td>\n",
       "      <td>cereals and tubers</td>\n",
       "      <td>Maize (white)</td>\n",
       "      <td>KG</td>\n",
       "      <td>actual</td>\n",
       "      <td>Wholesale</td>\n",
       "      <td>ZAR</td>\n",
       "      <td>0.8</td>\n",
       "      <td>0.126</td>\n",
       "    </tr>\n",
       "  </tbody>\n",
       "</table>\n",
       "</div>"
      ],
      "text/plain": [
       "         date      admin1                           admin2            market  \\\n",
       "0       #date  #adm1+name                       #adm2+name  #loc+market+name   \n",
       "1  2000-01-15     Gauteng  West Rand District Municipality       Randfontein   \n",
       "2  2000-01-15     Gauteng  West Rand District Municipality       Randfontein   \n",
       "3  2000-01-15     Gauteng  West Rand District Municipality       Randfontein   \n",
       "4  2000-02-15     Gauteng  West Rand District Municipality       Randfontein   \n",
       "\n",
       "   latitude longitude            category       commodity        unit  \\\n",
       "0  #geo+lat  #geo+lon          #item+type      #item+name  #item+unit   \n",
       "1   -26.199    27.669  cereals and tubers   Maize (white)          KG   \n",
       "2   -26.199    27.669  cereals and tubers  Maize (yellow)          KG   \n",
       "3   -26.199    27.669  cereals and tubers           Wheat          KG   \n",
       "4   -26.199    27.669  cereals and tubers   Maize (white)          KG   \n",
       "\n",
       "          priceflag         pricetype   currency   price    usdprice  \n",
       "0  #item+price+flag  #item+price+type  #currency  #value  #value+usd  \n",
       "1            actual         Wholesale        ZAR     0.8      0.1321  \n",
       "2            actual         Wholesale        ZAR    0.86      0.1413  \n",
       "3            actual         Wholesale        ZAR    0.65      0.1068  \n",
       "4            actual         Wholesale        ZAR     0.8       0.126  "
      ]
     },
     "execution_count": 6,
     "metadata": {},
     "output_type": "execute_result"
    }
   ],
   "source": [
    "# display the first 5 columns of the table\n",
    "df.head()"
   ]
  },
  {
   "cell_type": "code",
   "execution_count": 7,
   "metadata": {
    "colab": {
     "base_uri": "https://localhost:8080/"
    },
    "id": "0H-DQyj9-56L",
    "outputId": "15652f64-d192-4d7a-8954-6745a565a351"
   },
   "outputs": [
    {
     "data": {
      "text/plain": [
       "(811, 14)"
      ]
     },
     "execution_count": 7,
     "metadata": {},
     "output_type": "execute_result"
    }
   ],
   "source": [
    "# look at data statistics\n",
    "# number of columns & rows\n",
    "df.shape"
   ]
  },
  {
   "cell_type": "code",
   "execution_count": 8,
   "metadata": {},
   "outputs": [
    {
     "data": {
      "text/plain": [
       "date         0\n",
       "admin1       0\n",
       "admin2       0\n",
       "market       0\n",
       "latitude     0\n",
       "longitude    0\n",
       "category     0\n",
       "commodity    0\n",
       "unit         0\n",
       "priceflag    0\n",
       "pricetype    0\n",
       "currency     0\n",
       "price        0\n",
       "usdprice     0\n",
       "dtype: int64"
      ]
     },
     "execution_count": 8,
     "metadata": {},
     "output_type": "execute_result"
    }
   ],
   "source": [
    "# sum of all available nulls\n",
    "df.isna().sum()"
   ]
  },
  {
   "cell_type": "code",
   "execution_count": 9,
   "metadata": {},
   "outputs": [
    {
     "data": {
      "text/html": [
       "<div>\n",
       "<style scoped>\n",
       "    .dataframe tbody tr th:only-of-type {\n",
       "        vertical-align: middle;\n",
       "    }\n",
       "\n",
       "    .dataframe tbody tr th {\n",
       "        vertical-align: top;\n",
       "    }\n",
       "\n",
       "    .dataframe thead th {\n",
       "        text-align: right;\n",
       "    }\n",
       "</style>\n",
       "<table border=\"1\" class=\"dataframe\">\n",
       "  <thead>\n",
       "    <tr style=\"text-align: right;\">\n",
       "      <th></th>\n",
       "      <th>date</th>\n",
       "      <th>admin1</th>\n",
       "      <th>admin2</th>\n",
       "      <th>market</th>\n",
       "      <th>latitude</th>\n",
       "      <th>longitude</th>\n",
       "      <th>category</th>\n",
       "      <th>commodity</th>\n",
       "      <th>unit</th>\n",
       "      <th>priceflag</th>\n",
       "      <th>pricetype</th>\n",
       "      <th>currency</th>\n",
       "      <th>price</th>\n",
       "      <th>usdprice</th>\n",
       "    </tr>\n",
       "  </thead>\n",
       "  <tbody>\n",
       "    <tr>\n",
       "      <th>count</th>\n",
       "      <td>811</td>\n",
       "      <td>811</td>\n",
       "      <td>811</td>\n",
       "      <td>811</td>\n",
       "      <td>811</td>\n",
       "      <td>811</td>\n",
       "      <td>811</td>\n",
       "      <td>811</td>\n",
       "      <td>811</td>\n",
       "      <td>811</td>\n",
       "      <td>811</td>\n",
       "      <td>811</td>\n",
       "      <td>811</td>\n",
       "      <td>811</td>\n",
       "    </tr>\n",
       "    <tr>\n",
       "      <th>unique</th>\n",
       "      <td>271</td>\n",
       "      <td>2</td>\n",
       "      <td>2</td>\n",
       "      <td>2</td>\n",
       "      <td>2</td>\n",
       "      <td>2</td>\n",
       "      <td>2</td>\n",
       "      <td>4</td>\n",
       "      <td>2</td>\n",
       "      <td>2</td>\n",
       "      <td>2</td>\n",
       "      <td>2</td>\n",
       "      <td>363</td>\n",
       "      <td>707</td>\n",
       "    </tr>\n",
       "    <tr>\n",
       "      <th>top</th>\n",
       "      <td>2011-03-15</td>\n",
       "      <td>Gauteng</td>\n",
       "      <td>West Rand District Municipality</td>\n",
       "      <td>Randfontein</td>\n",
       "      <td>-26.199</td>\n",
       "      <td>27.669</td>\n",
       "      <td>cereals and tubers</td>\n",
       "      <td>Maize (white)</td>\n",
       "      <td>KG</td>\n",
       "      <td>actual</td>\n",
       "      <td>Wholesale</td>\n",
       "      <td>ZAR</td>\n",
       "      <td>0.88</td>\n",
       "      <td>0.1633</td>\n",
       "    </tr>\n",
       "    <tr>\n",
       "      <th>freq</th>\n",
       "      <td>3</td>\n",
       "      <td>810</td>\n",
       "      <td>810</td>\n",
       "      <td>810</td>\n",
       "      <td>810</td>\n",
       "      <td>810</td>\n",
       "      <td>810</td>\n",
       "      <td>270</td>\n",
       "      <td>810</td>\n",
       "      <td>810</td>\n",
       "      <td>810</td>\n",
       "      <td>810</td>\n",
       "      <td>8</td>\n",
       "      <td>3</td>\n",
       "    </tr>\n",
       "  </tbody>\n",
       "</table>\n",
       "</div>"
      ],
      "text/plain": [
       "              date   admin1                           admin2       market  \\\n",
       "count          811      811                              811          811   \n",
       "unique         271        2                                2            2   \n",
       "top     2011-03-15  Gauteng  West Rand District Municipality  Randfontein   \n",
       "freq             3      810                              810          810   \n",
       "\n",
       "       latitude longitude            category      commodity unit priceflag  \\\n",
       "count       811       811                 811            811  811       811   \n",
       "unique        2         2                   2              4    2         2   \n",
       "top     -26.199    27.669  cereals and tubers  Maize (white)   KG    actual   \n",
       "freq        810       810                 810            270  810       810   \n",
       "\n",
       "        pricetype currency price usdprice  \n",
       "count         811      811   811      811  \n",
       "unique          2        2   363      707  \n",
       "top     Wholesale      ZAR  0.88   0.1633  \n",
       "freq          810      810     8        3  "
      ]
     },
     "execution_count": 9,
     "metadata": {},
     "output_type": "execute_result"
    }
   ],
   "source": [
    "# stats of the dataset\n",
    "df.describe()"
   ]
  },
  {
   "cell_type": "code",
   "execution_count": 69,
   "metadata": {},
   "outputs": [
    {
     "data": {
      "text/plain": [
       "<AxesSubplot:>"
      ]
     },
     "execution_count": 69,
     "metadata": {},
     "output_type": "execute_result"
    },
    {
     "data": {
      "image/png": "[encoded data removed]",
      "text/plain": [
       "<Figure size 432x288 with 1 Axes>"
      ]
     },
     "metadata": {
      "needs_background": "light"
     },
     "output_type": "display_data"
    }
   ],
   "source": [
    "df['price'] = df['price'].rolling(window=10).mean()\n",
    "df['price'].plot()"
   ]
  },
  {
   "cell_type": "code",
   "execution_count": 70,
   "metadata": {},
   "outputs": [],
   "source": [
    "from sklearn.metrics import mean_squared_error"
   ]
  },
  {
   "cell_type": "code",
   "execution_count": 10,
   "metadata": {
    "colab": {
     "base_uri": "https://localhost:8080/"
    },
    "id": "Lpw7k-gJ17lH",
    "outputId": "43ffd7f8-ea1b-4d62-be60-90703d03a5d0"
   },
   "outputs": [
    {
     "data": {
      "text/plain": [
       "<bound method DataFrame.info of            date      admin1                           admin2  \\\n",
       "0         #date  #adm1+name                       #adm2+name   \n",
       "1    2000-01-15     Gauteng  West Rand District Municipality   \n",
       "2    2000-01-15     Gauteng  West Rand District Municipality   \n",
       "3    2000-01-15     Gauteng  West Rand District Municipality   \n",
       "4    2000-02-15     Gauteng  West Rand District Municipality   \n",
       "..          ...         ...                              ...   \n",
       "806  2022-05-15     Gauteng  West Rand District Municipality   \n",
       "807  2022-05-15     Gauteng  West Rand District Municipality   \n",
       "808  2022-06-15     Gauteng  West Rand District Municipality   \n",
       "809  2022-06-15     Gauteng  West Rand District Municipality   \n",
       "810  2022-06-15     Gauteng  West Rand District Municipality   \n",
       "\n",
       "               market  latitude longitude            category       commodity  \\\n",
       "0    #loc+market+name  #geo+lat  #geo+lon          #item+type      #item+name   \n",
       "1         Randfontein   -26.199    27.669  cereals and tubers   Maize (white)   \n",
       "2         Randfontein   -26.199    27.669  cereals and tubers  Maize (yellow)   \n",
       "3         Randfontein   -26.199    27.669  cereals and tubers           Wheat   \n",
       "4         Randfontein   -26.199    27.669  cereals and tubers   Maize (white)   \n",
       "..                ...       ...       ...                 ...             ...   \n",
       "806       Randfontein   -26.199    27.669  cereals and tubers  Maize (yellow)   \n",
       "807       Randfontein   -26.199    27.669  cereals and tubers           Wheat   \n",
       "808       Randfontein   -26.199    27.669  cereals and tubers   Maize (white)   \n",
       "809       Randfontein   -26.199    27.669  cereals and tubers  Maize (yellow)   \n",
       "810       Randfontein   -26.199    27.669  cereals and tubers           Wheat   \n",
       "\n",
       "           unit         priceflag         pricetype   currency   price  \\\n",
       "0    #item+unit  #item+price+flag  #item+price+type  #currency  #value   \n",
       "1            KG            actual         Wholesale        ZAR     0.8   \n",
       "2            KG            actual         Wholesale        ZAR    0.86   \n",
       "3            KG            actual         Wholesale        ZAR    0.65   \n",
       "4            KG            actual         Wholesale        ZAR     0.8   \n",
       "..          ...               ...               ...        ...     ...   \n",
       "806          KG            actual         Wholesale        ZAR    4.86   \n",
       "807          KG            actual         Wholesale        ZAR    8.02   \n",
       "808          KG            actual         Wholesale        ZAR    4.42   \n",
       "809          KG            actual         Wholesale        ZAR    4.47   \n",
       "810          KG            actual         Wholesale        ZAR    7.89   \n",
       "\n",
       "       usdprice  \n",
       "0    #value+usd  \n",
       "1        0.1321  \n",
       "2        0.1413  \n",
       "3        0.1068  \n",
       "4         0.126  \n",
       "..          ...  \n",
       "806      0.3185  \n",
       "807      0.5256  \n",
       "808      0.2897  \n",
       "809       0.293  \n",
       "810      0.5171  \n",
       "\n",
       "[811 rows x 14 columns]>"
      ]
     },
     "execution_count": 10,
     "metadata": {},
     "output_type": "execute_result"
    }
   ],
   "source": [
    "# dataframe information\n",
    "df.info"
   ]
  },
  {
   "cell_type": "markdown",
   "metadata": {},
   "source": [
    "### Data Engineering\n",
    "- clean the dataset, and possibly create new features - as identified in the EDA phase."
   ]
  },
  {
   "cell_type": "code",
   "execution_count": 11,
   "metadata": {},
   "outputs": [
    {
     "data": {
      "text/html": [
       "<div>\n",
       "<style scoped>\n",
       "    .dataframe tbody tr th:only-of-type {\n",
       "        vertical-align: middle;\n",
       "    }\n",
       "\n",
       "    .dataframe tbody tr th {\n",
       "        vertical-align: top;\n",
       "    }\n",
       "\n",
       "    .dataframe thead th {\n",
       "        text-align: right;\n",
       "    }\n",
       "</style>\n",
       "<table border=\"1\" class=\"dataframe\">\n",
       "  <thead>\n",
       "    <tr style=\"text-align: right;\">\n",
       "      <th></th>\n",
       "      <th>date</th>\n",
       "      <th>admin1</th>\n",
       "      <th>admin2</th>\n",
       "      <th>market</th>\n",
       "      <th>latitude</th>\n",
       "      <th>longitude</th>\n",
       "      <th>category</th>\n",
       "      <th>commodity</th>\n",
       "      <th>unit</th>\n",
       "      <th>priceflag</th>\n",
       "      <th>pricetype</th>\n",
       "      <th>currency</th>\n",
       "      <th>price</th>\n",
       "      <th>usdprice</th>\n",
       "    </tr>\n",
       "  </thead>\n",
       "  <tbody>\n",
       "    <tr>\n",
       "      <th>1</th>\n",
       "      <td>2000-01-15</td>\n",
       "      <td>Gauteng</td>\n",
       "      <td>West Rand District Municipality</td>\n",
       "      <td>Randfontein</td>\n",
       "      <td>-26.199</td>\n",
       "      <td>27.669</td>\n",
       "      <td>cereals and tubers</td>\n",
       "      <td>Maize (white)</td>\n",
       "      <td>KG</td>\n",
       "      <td>actual</td>\n",
       "      <td>Wholesale</td>\n",
       "      <td>ZAR</td>\n",
       "      <td>0.8</td>\n",
       "      <td>0.1321</td>\n",
       "    </tr>\n",
       "    <tr>\n",
       "      <th>2</th>\n",
       "      <td>2000-01-15</td>\n",
       "      <td>Gauteng</td>\n",
       "      <td>West Rand District Municipality</td>\n",
       "      <td>Randfontein</td>\n",
       "      <td>-26.199</td>\n",
       "      <td>27.669</td>\n",
       "      <td>cereals and tubers</td>\n",
       "      <td>Maize (yellow)</td>\n",
       "      <td>KG</td>\n",
       "      <td>actual</td>\n",
       "      <td>Wholesale</td>\n",
       "      <td>ZAR</td>\n",
       "      <td>0.86</td>\n",
       "      <td>0.1413</td>\n",
       "    </tr>\n",
       "    <tr>\n",
       "      <th>3</th>\n",
       "      <td>2000-01-15</td>\n",
       "      <td>Gauteng</td>\n",
       "      <td>West Rand District Municipality</td>\n",
       "      <td>Randfontein</td>\n",
       "      <td>-26.199</td>\n",
       "      <td>27.669</td>\n",
       "      <td>cereals and tubers</td>\n",
       "      <td>Wheat</td>\n",
       "      <td>KG</td>\n",
       "      <td>actual</td>\n",
       "      <td>Wholesale</td>\n",
       "      <td>ZAR</td>\n",
       "      <td>0.65</td>\n",
       "      <td>0.1068</td>\n",
       "    </tr>\n",
       "    <tr>\n",
       "      <th>4</th>\n",
       "      <td>2000-02-15</td>\n",
       "      <td>Gauteng</td>\n",
       "      <td>West Rand District Municipality</td>\n",
       "      <td>Randfontein</td>\n",
       "      <td>-26.199</td>\n",
       "      <td>27.669</td>\n",
       "      <td>cereals and tubers</td>\n",
       "      <td>Maize (white)</td>\n",
       "      <td>KG</td>\n",
       "      <td>actual</td>\n",
       "      <td>Wholesale</td>\n",
       "      <td>ZAR</td>\n",
       "      <td>0.8</td>\n",
       "      <td>0.126</td>\n",
       "    </tr>\n",
       "    <tr>\n",
       "      <th>5</th>\n",
       "      <td>2000-02-15</td>\n",
       "      <td>Gauteng</td>\n",
       "      <td>West Rand District Municipality</td>\n",
       "      <td>Randfontein</td>\n",
       "      <td>-26.199</td>\n",
       "      <td>27.669</td>\n",
       "      <td>cereals and tubers</td>\n",
       "      <td>Maize (yellow)</td>\n",
       "      <td>KG</td>\n",
       "      <td>actual</td>\n",
       "      <td>Wholesale</td>\n",
       "      <td>ZAR</td>\n",
       "      <td>0.83</td>\n",
       "      <td>0.1305</td>\n",
       "    </tr>\n",
       "  </tbody>\n",
       "</table>\n",
       "</div>"
      ],
      "text/plain": [
       "         date   admin1                           admin2       market latitude  \\\n",
       "1  2000-01-15  Gauteng  West Rand District Municipality  Randfontein  -26.199   \n",
       "2  2000-01-15  Gauteng  West Rand District Municipality  Randfontein  -26.199   \n",
       "3  2000-01-15  Gauteng  West Rand District Municipality  Randfontein  -26.199   \n",
       "4  2000-02-15  Gauteng  West Rand District Municipality  Randfontein  -26.199   \n",
       "5  2000-02-15  Gauteng  West Rand District Municipality  Randfontein  -26.199   \n",
       "\n",
       "  longitude            category       commodity unit priceflag  pricetype  \\\n",
       "1    27.669  cereals and tubers   Maize (white)   KG    actual  Wholesale   \n",
       "2    27.669  cereals and tubers  Maize (yellow)   KG    actual  Wholesale   \n",
       "3    27.669  cereals and tubers           Wheat   KG    actual  Wholesale   \n",
       "4    27.669  cereals and tubers   Maize (white)   KG    actual  Wholesale   \n",
       "5    27.669  cereals and tubers  Maize (yellow)   KG    actual  Wholesale   \n",
       "\n",
       "  currency price usdprice  \n",
       "1      ZAR   0.8   0.1321  \n",
       "2      ZAR  0.86   0.1413  \n",
       "3      ZAR  0.65   0.1068  \n",
       "4      ZAR   0.8    0.126  \n",
       "5      ZAR  0.83   0.1305  "
      ]
     },
     "execution_count": 11,
     "metadata": {},
     "output_type": "execute_result"
    }
   ],
   "source": [
    "# drop first row, index 0\n",
    "df=df.drop(df.index[[0]])\n",
    "df.head()"
   ]
  },
  {
   "cell_type": "code",
   "execution_count": 12,
   "metadata": {},
   "outputs": [],
   "source": [
    "df1= df[[\"commodity\",\"price\"]].groupby(['commodity'],as_index=False)"
   ]
  },
  {
   "cell_type": "code",
   "execution_count": 13,
   "metadata": {
    "colab": {
     "base_uri": "https://localhost:8080/",
     "height": 520
    },
    "id": "6eB8KyexiaSt",
    "outputId": "3988d7b7-bf28-4c06-e375-9c45231fac7b"
   },
   "outputs": [
    {
     "data": {
      "text/html": [
       "<div>\n",
       "<style scoped>\n",
       "    .dataframe tbody tr th:only-of-type {\n",
       "        vertical-align: middle;\n",
       "    }\n",
       "\n",
       "    .dataframe tbody tr th {\n",
       "        vertical-align: top;\n",
       "    }\n",
       "\n",
       "    .dataframe thead th {\n",
       "        text-align: right;\n",
       "    }\n",
       "</style>\n",
       "<table border=\"1\" class=\"dataframe\">\n",
       "  <thead>\n",
       "    <tr style=\"text-align: right;\">\n",
       "      <th></th>\n",
       "      <th>commodity</th>\n",
       "      <th>price</th>\n",
       "    </tr>\n",
       "  </thead>\n",
       "  <tbody>\n",
       "    <tr>\n",
       "      <th>1</th>\n",
       "      <td>Maize (white)</td>\n",
       "      <td>0.8</td>\n",
       "    </tr>\n",
       "    <tr>\n",
       "      <th>2</th>\n",
       "      <td>Maize (yellow)</td>\n",
       "      <td>0.86</td>\n",
       "    </tr>\n",
       "    <tr>\n",
       "      <th>3</th>\n",
       "      <td>Wheat</td>\n",
       "      <td>0.65</td>\n",
       "    </tr>\n",
       "    <tr>\n",
       "      <th>4</th>\n",
       "      <td>Maize (white)</td>\n",
       "      <td>0.8</td>\n",
       "    </tr>\n",
       "    <tr>\n",
       "      <th>5</th>\n",
       "      <td>Maize (yellow)</td>\n",
       "      <td>0.83</td>\n",
       "    </tr>\n",
       "    <tr>\n",
       "      <th>6</th>\n",
       "      <td>Wheat</td>\n",
       "      <td>0.69</td>\n",
       "    </tr>\n",
       "    <tr>\n",
       "      <th>7</th>\n",
       "      <td>Maize (white)</td>\n",
       "      <td>0.75</td>\n",
       "    </tr>\n",
       "    <tr>\n",
       "      <th>8</th>\n",
       "      <td>Maize (yellow)</td>\n",
       "      <td>0.73</td>\n",
       "    </tr>\n",
       "    <tr>\n",
       "      <th>9</th>\n",
       "      <td>Wheat</td>\n",
       "      <td>0.69</td>\n",
       "    </tr>\n",
       "    <tr>\n",
       "      <th>10</th>\n",
       "      <td>Maize (white)</td>\n",
       "      <td>0.69</td>\n",
       "    </tr>\n",
       "    <tr>\n",
       "      <th>11</th>\n",
       "      <td>Maize (yellow)</td>\n",
       "      <td>0.67</td>\n",
       "    </tr>\n",
       "    <tr>\n",
       "      <th>12</th>\n",
       "      <td>Wheat</td>\n",
       "      <td>0.7</td>\n",
       "    </tr>\n",
       "    <tr>\n",
       "      <th>13</th>\n",
       "      <td>Maize (white)</td>\n",
       "      <td>0.67</td>\n",
       "    </tr>\n",
       "    <tr>\n",
       "      <th>14</th>\n",
       "      <td>Maize (yellow)</td>\n",
       "      <td>0.68</td>\n",
       "    </tr>\n",
       "    <tr>\n",
       "      <th>15</th>\n",
       "      <td>Wheat</td>\n",
       "      <td>0.8</td>\n",
       "    </tr>\n",
       "  </tbody>\n",
       "</table>\n",
       "</div>"
      ],
      "text/plain": [
       "         commodity price\n",
       "1    Maize (white)   0.8\n",
       "2   Maize (yellow)  0.86\n",
       "3            Wheat  0.65\n",
       "4    Maize (white)   0.8\n",
       "5   Maize (yellow)  0.83\n",
       "6            Wheat  0.69\n",
       "7    Maize (white)  0.75\n",
       "8   Maize (yellow)  0.73\n",
       "9            Wheat  0.69\n",
       "10   Maize (white)  0.69\n",
       "11  Maize (yellow)  0.67\n",
       "12           Wheat   0.7\n",
       "13   Maize (white)  0.67\n",
       "14  Maize (yellow)  0.68\n",
       "15           Wheat   0.8"
      ]
     },
     "execution_count": 13,
     "metadata": {},
     "output_type": "execute_result"
    }
   ],
   "source": [
    "# diplay the first 2 columns\n",
    "df1.head()"
   ]
  },
  {
   "cell_type": "code",
   "execution_count": 14,
   "metadata": {
    "colab": {
     "base_uri": "https://localhost:8080/",
     "height": 520
    },
    "id": "6kjxVbXNiiUt",
    "outputId": "9bdaf858-9791-41da-dd52-d7e38a0e1dc1"
   },
   "outputs": [
    {
     "data": {
      "text/html": [
       "<div>\n",
       "<style scoped>\n",
       "    .dataframe tbody tr th:only-of-type {\n",
       "        vertical-align: middle;\n",
       "    }\n",
       "\n",
       "    .dataframe tbody tr th {\n",
       "        vertical-align: top;\n",
       "    }\n",
       "\n",
       "    .dataframe thead th {\n",
       "        text-align: right;\n",
       "    }\n",
       "</style>\n",
       "<table border=\"1\" class=\"dataframe\">\n",
       "  <thead>\n",
       "    <tr style=\"text-align: right;\">\n",
       "      <th></th>\n",
       "      <th>commodity</th>\n",
       "      <th>price</th>\n",
       "    </tr>\n",
       "  </thead>\n",
       "  <tbody>\n",
       "    <tr>\n",
       "      <th>796</th>\n",
       "      <td>Maize (white)</td>\n",
       "      <td>3.69</td>\n",
       "    </tr>\n",
       "    <tr>\n",
       "      <th>797</th>\n",
       "      <td>Maize (yellow)</td>\n",
       "      <td>3.82</td>\n",
       "    </tr>\n",
       "    <tr>\n",
       "      <th>798</th>\n",
       "      <td>Wheat</td>\n",
       "      <td>5.98</td>\n",
       "    </tr>\n",
       "    <tr>\n",
       "      <th>799</th>\n",
       "      <td>Maize (white)</td>\n",
       "      <td>4.0</td>\n",
       "    </tr>\n",
       "    <tr>\n",
       "      <th>800</th>\n",
       "      <td>Maize (yellow)</td>\n",
       "      <td>4.18</td>\n",
       "    </tr>\n",
       "    <tr>\n",
       "      <th>801</th>\n",
       "      <td>Wheat</td>\n",
       "      <td>6.88</td>\n",
       "    </tr>\n",
       "    <tr>\n",
       "      <th>802</th>\n",
       "      <td>Maize (white)</td>\n",
       "      <td>4.2</td>\n",
       "    </tr>\n",
       "    <tr>\n",
       "      <th>803</th>\n",
       "      <td>Maize (yellow)</td>\n",
       "      <td>4.33</td>\n",
       "    </tr>\n",
       "    <tr>\n",
       "      <th>804</th>\n",
       "      <td>Wheat</td>\n",
       "      <td>7.06</td>\n",
       "    </tr>\n",
       "    <tr>\n",
       "      <th>805</th>\n",
       "      <td>Maize (white)</td>\n",
       "      <td>4.57</td>\n",
       "    </tr>\n",
       "    <tr>\n",
       "      <th>806</th>\n",
       "      <td>Maize (yellow)</td>\n",
       "      <td>4.86</td>\n",
       "    </tr>\n",
       "    <tr>\n",
       "      <th>807</th>\n",
       "      <td>Wheat</td>\n",
       "      <td>8.02</td>\n",
       "    </tr>\n",
       "    <tr>\n",
       "      <th>808</th>\n",
       "      <td>Maize (white)</td>\n",
       "      <td>4.42</td>\n",
       "    </tr>\n",
       "    <tr>\n",
       "      <th>809</th>\n",
       "      <td>Maize (yellow)</td>\n",
       "      <td>4.47</td>\n",
       "    </tr>\n",
       "    <tr>\n",
       "      <th>810</th>\n",
       "      <td>Wheat</td>\n",
       "      <td>7.89</td>\n",
       "    </tr>\n",
       "  </tbody>\n",
       "</table>\n",
       "</div>"
      ],
      "text/plain": [
       "          commodity price\n",
       "796   Maize (white)  3.69\n",
       "797  Maize (yellow)  3.82\n",
       "798           Wheat  5.98\n",
       "799   Maize (white)   4.0\n",
       "800  Maize (yellow)  4.18\n",
       "801           Wheat  6.88\n",
       "802   Maize (white)   4.2\n",
       "803  Maize (yellow)  4.33\n",
       "804           Wheat  7.06\n",
       "805   Maize (white)  4.57\n",
       "806  Maize (yellow)  4.86\n",
       "807           Wheat  8.02\n",
       "808   Maize (white)  4.42\n",
       "809  Maize (yellow)  4.47\n",
       "810           Wheat  7.89"
      ]
     },
     "execution_count": 14,
     "metadata": {},
     "output_type": "execute_result"
    }
   ],
   "source": [
    "# display the last 2 columns\n",
    "df1.tail()"
   ]
  },
  {
   "cell_type": "code",
   "execution_count": 15,
   "metadata": {
    "colab": {
     "base_uri": "https://localhost:8080/",
     "height": 175
    },
    "id": "yuMuyC3I11S3",
    "outputId": "bea5c614-a5fd-4050-87b2-6d26be310b90"
   },
   "outputs": [
    {
     "data": {
      "text/html": [
       "<div>\n",
       "<style scoped>\n",
       "    .dataframe tbody tr th:only-of-type {\n",
       "        vertical-align: middle;\n",
       "    }\n",
       "\n",
       "    .dataframe tbody tr th {\n",
       "        vertical-align: top;\n",
       "    }\n",
       "\n",
       "    .dataframe thead th {\n",
       "        text-align: right;\n",
       "    }\n",
       "</style>\n",
       "<table border=\"1\" class=\"dataframe\">\n",
       "  <thead>\n",
       "    <tr style=\"text-align: right;\">\n",
       "      <th></th>\n",
       "      <th>date</th>\n",
       "      <th>admin1</th>\n",
       "      <th>admin2</th>\n",
       "      <th>market</th>\n",
       "      <th>latitude</th>\n",
       "      <th>longitude</th>\n",
       "      <th>category</th>\n",
       "      <th>commodity</th>\n",
       "      <th>unit</th>\n",
       "      <th>priceflag</th>\n",
       "      <th>pricetype</th>\n",
       "      <th>currency</th>\n",
       "      <th>price</th>\n",
       "      <th>usdprice</th>\n",
       "    </tr>\n",
       "  </thead>\n",
       "  <tbody>\n",
       "    <tr>\n",
       "      <th>count</th>\n",
       "      <td>810</td>\n",
       "      <td>810</td>\n",
       "      <td>810</td>\n",
       "      <td>810</td>\n",
       "      <td>810</td>\n",
       "      <td>810</td>\n",
       "      <td>810</td>\n",
       "      <td>810</td>\n",
       "      <td>810</td>\n",
       "      <td>810</td>\n",
       "      <td>810</td>\n",
       "      <td>810</td>\n",
       "      <td>810</td>\n",
       "      <td>810</td>\n",
       "    </tr>\n",
       "    <tr>\n",
       "      <th>unique</th>\n",
       "      <td>270</td>\n",
       "      <td>1</td>\n",
       "      <td>1</td>\n",
       "      <td>1</td>\n",
       "      <td>1</td>\n",
       "      <td>1</td>\n",
       "      <td>1</td>\n",
       "      <td>3</td>\n",
       "      <td>1</td>\n",
       "      <td>1</td>\n",
       "      <td>1</td>\n",
       "      <td>1</td>\n",
       "      <td>362</td>\n",
       "      <td>706</td>\n",
       "    </tr>\n",
       "    <tr>\n",
       "      <th>top</th>\n",
       "      <td>2000-01-15</td>\n",
       "      <td>Gauteng</td>\n",
       "      <td>West Rand District Municipality</td>\n",
       "      <td>Randfontein</td>\n",
       "      <td>-26.199</td>\n",
       "      <td>27.669</td>\n",
       "      <td>cereals and tubers</td>\n",
       "      <td>Maize (white)</td>\n",
       "      <td>KG</td>\n",
       "      <td>actual</td>\n",
       "      <td>Wholesale</td>\n",
       "      <td>ZAR</td>\n",
       "      <td>0.88</td>\n",
       "      <td>0.1669</td>\n",
       "    </tr>\n",
       "    <tr>\n",
       "      <th>freq</th>\n",
       "      <td>3</td>\n",
       "      <td>810</td>\n",
       "      <td>810</td>\n",
       "      <td>810</td>\n",
       "      <td>810</td>\n",
       "      <td>810</td>\n",
       "      <td>810</td>\n",
       "      <td>270</td>\n",
       "      <td>810</td>\n",
       "      <td>810</td>\n",
       "      <td>810</td>\n",
       "      <td>810</td>\n",
       "      <td>8</td>\n",
       "      <td>3</td>\n",
       "    </tr>\n",
       "  </tbody>\n",
       "</table>\n",
       "</div>"
      ],
      "text/plain": [
       "              date   admin1                           admin2       market  \\\n",
       "count          810      810                              810          810   \n",
       "unique         270        1                                1            1   \n",
       "top     2000-01-15  Gauteng  West Rand District Municipality  Randfontein   \n",
       "freq             3      810                              810          810   \n",
       "\n",
       "       latitude longitude            category      commodity unit priceflag  \\\n",
       "count       810       810                 810            810  810       810   \n",
       "unique        1         1                   1              3    1         1   \n",
       "top     -26.199    27.669  cereals and tubers  Maize (white)   KG    actual   \n",
       "freq        810       810                 810            270  810       810   \n",
       "\n",
       "        pricetype currency price usdprice  \n",
       "count         810      810   810      810  \n",
       "unique          1        1   362      706  \n",
       "top     Wholesale      ZAR  0.88   0.1669  \n",
       "freq          810      810     8        3  "
      ]
     },
     "execution_count": 15,
     "metadata": {},
     "output_type": "execute_result"
    }
   ],
   "source": [
    "\n",
    "df.describe()"
   ]
  },
  {
   "cell_type": "code",
   "execution_count": 16,
   "metadata": {
    "colab": {
     "base_uri": "https://localhost:8080/"
    },
    "id": "Bsa0j0YK20gn",
    "outputId": "9aaa3733-cdf2-438c-cc67-01dd39d0d164"
   },
   "outputs": [
    {
     "data": {
      "text/plain": [
       "Maize (white)     270\n",
       "Maize (yellow)    270\n",
       "Wheat             270\n",
       "Name: commodity, dtype: int64"
      ]
     },
     "execution_count": 16,
     "metadata": {},
     "output_type": "execute_result"
    }
   ],
   "source": [
    "df['commodity'].value_counts()"
   ]
  },
  {
   "cell_type": "code",
   "execution_count": 17,
   "metadata": {
    "colab": {
     "base_uri": "https://localhost:8080/",
     "height": 105
    },
    "id": "MGZdecPXf_xF",
    "outputId": "17b08817-b5c8-41bb-cada-7298b3a7ff80"
   },
   "outputs": [
    {
     "data": {
      "text/plain": [
       "'0.80.860.650.80.830.690.750.730.690.690.670.70.670.680.80.60.610.80.540.530.760.510.50.750.540.540.840.620.630.950.670.710.980.690.740.980.80.821.040.840.891.00.820.861.030.810.821.050.760.771.070.780.81.030.90.881.020.980.921.011.00.981.051.061.051.131.281.231.241.551.481.421.741.651.461.851.521.422.011.471.421.921.391.381.781.311.231.751.351.331.71.391.491.741.491.691.761.541.961.761.471.971.81.41.721.741.351.451.531.31.31.11.091.260.890.941.150.790.831.070.880.91.090.890.921.040.830.860.980.860.881.10.90.931.070.880.931.040.910.971.081.091.11.081.31.291.151.331.381.091.081.221.041.111.21.071.051.081.110.991.01.00.880.90.930.940.960.910.920.950.970.90.940.960.970.960.950.820.880.880.660.730.920.540.650.910.530.60.910.550.610.870.560.610.920.580.610.960.610.630.950.650.620.960.80.711.010.850.761.110.930.811.071.140.881.041.130.951.021.020.961.11.141.011.091.091.01.091.21.071.241.341.21.361.41.261.441.291.211.321.331.251.451.341.281.621.381.481.521.421.61.441.421.571.751.51.641.841.971.92.091.671.672.161.651.682.251.741.742.451.681.682.741.831.833.091.861.923.361.821.93.061.872.02.81.731.873.051.791.913.171.751.833.761.871.924.071.861.853.961.781.83.82.012.064.041.962.013.971.851.833.761.861.863.321.781.783.011.761.732.61.671.642.521.811.732.751.731.62.741.71.532.671.631.432.531.61.462.631.511.452.61.341.272.491.411.322.391.411.242.141.491.362.141.531.442.161.641.532.111.41.412.071.151.232.11.121.172.091.11.162.171.121.182.251.051.12.291.11.152.421.181.252.71.281.362.791.251.362.661.311.42.681.341.42.81.351.462.961.571.633.291.561.613.071.631.653.091.681.723.231.751.763.041.81.782.982.072.083.132.212.183.122.252.22.872.472.42.752.472.512.652.742.762.762.42.472.762.482.372.712.292.162.72.062.02.82.062.032.972.542.513.432.682.693.452.422.453.412.452.493.532.452.513.682.312.423.562.162.263.522.112.163.452.322.273.42.152.153.382.172.183.482.292.273.562.262.173.352.32.143.442.312.123.352.362.173.452.452.393.542.752.733.583.163.183.743.173.173.823.363.233.992.642.453.931.992.053.951.831.953.791.711.793.711.731.83.71.721.753.71.881.93.611.972.013.652.112.123.852.012.023.912.552.323.842.652.443.872.562.373.792.742.393.822.892.53.873.172.774.053.052.74.053.122.864.163.142.874.153.233.124.413.983.564.654.953.884.894.993.724.664.843.294.624.513.114.574.863.474.984.783.664.824.453.314.514.143.124.23.923.144.113.553.174.133.793.23.944.03.283.913.43.183.952.942.863.982.142.154.032.012.094.411.841.944.431.731.864.411.821.944.51.821.944.441.831.954.161.891.994.161.992.094.181.861.953.921.931.973.681.791.893.581.91.983.711.972.073.852.112.23.892.072.173.922.032.114.072.272.334.242.382.424.362.372.44.392.42.394.282.792.644.332.992.744.442.742.64.472.92.684.552.762.574.572.782.624.492.852.834.522.92.84.512.872.744.62.772.654.62.882.84.492.722.674.372.682.644.392.932.84.552.822.674.743.132.665.083.292.795.482.582.595.492.472.585.252.62.685.762.932.945.713.283.195.033.63.485.153.443.384.993.373.294.773.543.545.143.283.385.093.223.325.153.163.324.93.313.455.163.163.295.083.03.05.03.233.395.513.13.266.083.123.375.773.393.555.993.573.866.023.693.835.913.693.825.984.04.186.884.24.337.064.574.868.024.424.477.89'"
      ]
     },
     "execution_count": 17,
     "metadata": {},
     "output_type": "execute_result"
    }
   ],
   "source": [
    "# the sum of the price values\n",
    "df['price'].sum()"
   ]
  },
  {
   "cell_type": "code",
   "execution_count": 18,
   "metadata": {
    "colab": {
     "base_uri": "https://localhost:8080/"
    },
    "id": "uQVDLkSygkWZ",
    "outputId": "bde27e6f-beaa-425d-cb7a-6e7746fc4ffc"
   },
   "outputs": [
    {
     "name": "stderr",
     "output_type": "stream",
     "text": [
      "C:\\Users\\F5471052\\AppData\\Local\\Temp\\ipykernel_23704\\3867964895.py:1: FutureWarning: The default value of regex will change from True to False in a future version. In addition, single character regular expressions will *not* be treated as literal strings when regex=True.\n",
      "  df['price'] = pd.to_numeric(df['price'].str.replace('.', '.'))\n"
     ]
    }
   ],
   "source": [
    "\n",
    "df['price'] = pd.to_numeric(df['price'].str.replace('.', '.'))"
   ]
  },
  {
   "cell_type": "code",
   "execution_count": 19,
   "metadata": {
    "colab": {
     "base_uri": "https://localhost:8080/"
    },
    "id": "5QWLWPlThUvl",
    "outputId": "97d303db-7130-46fd-d068-9473cbfd0e78"
   },
   "outputs": [
    {
     "name": "stderr",
     "output_type": "stream",
     "text": [
      "C:\\Users\\F5471052\\AppData\\Local\\Temp\\ipykernel_23704\\3234449033.py:1: FutureWarning: The default value of regex will change from True to False in a future version. In addition, single character regular expressions will *not* be treated as literal strings when regex=True.\n",
      "  df['usdprice'] = pd.to_numeric(df['usdprice'].str.replace('.', '.'))\n"
     ]
    }
   ],
   "source": [
    "df['usdprice'] = pd.to_numeric(df['usdprice'].str.replace('.', '.'))"
   ]
  },
  {
   "cell_type": "code",
   "execution_count": 20,
   "metadata": {
    "colab": {
     "base_uri": "https://localhost:8080/"
    },
    "id": "mi9YvztkhNfJ",
    "outputId": "df5a97ea-d90e-4fab-aa96-a5ad46411a89"
   },
   "outputs": [
    {
     "data": {
      "text/plain": [
       "1    0.80\n",
       "2    0.86\n",
       "3    0.65\n",
       "4    0.80\n",
       "5    0.83\n",
       "Name: price, dtype: float64"
      ]
     },
     "execution_count": 20,
     "metadata": {},
     "output_type": "execute_result"
    }
   ],
   "source": [
    "df['price'].head()"
   ]
  },
  {
   "cell_type": "code",
   "execution_count": 21,
   "metadata": {
    "colab": {
     "base_uri": "https://localhost:8080/"
    },
    "id": "TW9jatfdg9_x",
    "outputId": "1b249982-5603-4620-dc16-0d463ad92b35"
   },
   "outputs": [
    {
     "data": {
      "text/plain": [
       "1877.55"
      ]
     },
     "execution_count": 21,
     "metadata": {},
     "output_type": "execute_result"
    }
   ],
   "source": [
    "df['price'].sum()"
   ]
  },
  {
   "cell_type": "code",
   "execution_count": 22,
   "metadata": {
    "id": "JqAh_zWc-hTl"
   },
   "outputs": [],
   "source": [
    "\n",
    "df=pd.concat([df, pd.get_dummies(df.commodity)], axis=1)"
   ]
  },
  {
   "cell_type": "code",
   "execution_count": 23,
   "metadata": {
    "colab": {
     "base_uri": "https://localhost:8080/",
     "height": 424
    },
    "id": "-BjzafVKG0iz",
    "outputId": "33ab9db7-4c9b-4fbb-ea65-e35ce806556f"
   },
   "outputs": [
    {
     "data": {
      "text/html": [
       "<div>\n",
       "<style scoped>\n",
       "    .dataframe tbody tr th:only-of-type {\n",
       "        vertical-align: middle;\n",
       "    }\n",
       "\n",
       "    .dataframe tbody tr th {\n",
       "        vertical-align: top;\n",
       "    }\n",
       "\n",
       "    .dataframe thead th {\n",
       "        text-align: right;\n",
       "    }\n",
       "</style>\n",
       "<table border=\"1\" class=\"dataframe\">\n",
       "  <thead>\n",
       "    <tr style=\"text-align: right;\">\n",
       "      <th></th>\n",
       "      <th>date</th>\n",
       "      <th>admin1</th>\n",
       "      <th>admin2</th>\n",
       "      <th>market</th>\n",
       "      <th>latitude</th>\n",
       "      <th>longitude</th>\n",
       "      <th>category</th>\n",
       "      <th>commodity</th>\n",
       "      <th>unit</th>\n",
       "      <th>priceflag</th>\n",
       "      <th>pricetype</th>\n",
       "      <th>currency</th>\n",
       "      <th>price</th>\n",
       "      <th>usdprice</th>\n",
       "      <th>Maize (white)</th>\n",
       "      <th>Maize (yellow)</th>\n",
       "      <th>Wheat</th>\n",
       "    </tr>\n",
       "  </thead>\n",
       "  <tbody>\n",
       "    <tr>\n",
       "      <th>1</th>\n",
       "      <td>2000-01-15</td>\n",
       "      <td>Gauteng</td>\n",
       "      <td>West Rand District Municipality</td>\n",
       "      <td>Randfontein</td>\n",
       "      <td>-26.199</td>\n",
       "      <td>27.669</td>\n",
       "      <td>cereals and tubers</td>\n",
       "      <td>Maize (white)</td>\n",
       "      <td>KG</td>\n",
       "      <td>actual</td>\n",
       "      <td>Wholesale</td>\n",
       "      <td>ZAR</td>\n",
       "      <td>0.80</td>\n",
       "      <td>0.1321</td>\n",
       "      <td>1</td>\n",
       "      <td>0</td>\n",
       "      <td>0</td>\n",
       "    </tr>\n",
       "    <tr>\n",
       "      <th>2</th>\n",
       "      <td>2000-01-15</td>\n",
       "      <td>Gauteng</td>\n",
       "      <td>West Rand District Municipality</td>\n",
       "      <td>Randfontein</td>\n",
       "      <td>-26.199</td>\n",
       "      <td>27.669</td>\n",
       "      <td>cereals and tubers</td>\n",
       "      <td>Maize (yellow)</td>\n",
       "      <td>KG</td>\n",
       "      <td>actual</td>\n",
       "      <td>Wholesale</td>\n",
       "      <td>ZAR</td>\n",
       "      <td>0.86</td>\n",
       "      <td>0.1413</td>\n",
       "      <td>0</td>\n",
       "      <td>1</td>\n",
       "      <td>0</td>\n",
       "    </tr>\n",
       "    <tr>\n",
       "      <th>3</th>\n",
       "      <td>2000-01-15</td>\n",
       "      <td>Gauteng</td>\n",
       "      <td>West Rand District Municipality</td>\n",
       "      <td>Randfontein</td>\n",
       "      <td>-26.199</td>\n",
       "      <td>27.669</td>\n",
       "      <td>cereals and tubers</td>\n",
       "      <td>Wheat</td>\n",
       "      <td>KG</td>\n",
       "      <td>actual</td>\n",
       "      <td>Wholesale</td>\n",
       "      <td>ZAR</td>\n",
       "      <td>0.65</td>\n",
       "      <td>0.1068</td>\n",
       "      <td>0</td>\n",
       "      <td>0</td>\n",
       "      <td>1</td>\n",
       "    </tr>\n",
       "    <tr>\n",
       "      <th>4</th>\n",
       "      <td>2000-02-15</td>\n",
       "      <td>Gauteng</td>\n",
       "      <td>West Rand District Municipality</td>\n",
       "      <td>Randfontein</td>\n",
       "      <td>-26.199</td>\n",
       "      <td>27.669</td>\n",
       "      <td>cereals and tubers</td>\n",
       "      <td>Maize (white)</td>\n",
       "      <td>KG</td>\n",
       "      <td>actual</td>\n",
       "      <td>Wholesale</td>\n",
       "      <td>ZAR</td>\n",
       "      <td>0.80</td>\n",
       "      <td>0.1260</td>\n",
       "      <td>1</td>\n",
       "      <td>0</td>\n",
       "      <td>0</td>\n",
       "    </tr>\n",
       "    <tr>\n",
       "      <th>5</th>\n",
       "      <td>2000-02-15</td>\n",
       "      <td>Gauteng</td>\n",
       "      <td>West Rand District Municipality</td>\n",
       "      <td>Randfontein</td>\n",
       "      <td>-26.199</td>\n",
       "      <td>27.669</td>\n",
       "      <td>cereals and tubers</td>\n",
       "      <td>Maize (yellow)</td>\n",
       "      <td>KG</td>\n",
       "      <td>actual</td>\n",
       "      <td>Wholesale</td>\n",
       "      <td>ZAR</td>\n",
       "      <td>0.83</td>\n",
       "      <td>0.1305</td>\n",
       "      <td>0</td>\n",
       "      <td>1</td>\n",
       "      <td>0</td>\n",
       "    </tr>\n",
       "    <tr>\n",
       "      <th>...</th>\n",
       "      <td>...</td>\n",
       "      <td>...</td>\n",
       "      <td>...</td>\n",
       "      <td>...</td>\n",
       "      <td>...</td>\n",
       "      <td>...</td>\n",
       "      <td>...</td>\n",
       "      <td>...</td>\n",
       "      <td>...</td>\n",
       "      <td>...</td>\n",
       "      <td>...</td>\n",
       "      <td>...</td>\n",
       "      <td>...</td>\n",
       "      <td>...</td>\n",
       "      <td>...</td>\n",
       "      <td>...</td>\n",
       "      <td>...</td>\n",
       "    </tr>\n",
       "    <tr>\n",
       "      <th>806</th>\n",
       "      <td>2022-05-15</td>\n",
       "      <td>Gauteng</td>\n",
       "      <td>West Rand District Municipality</td>\n",
       "      <td>Randfontein</td>\n",
       "      <td>-26.199</td>\n",
       "      <td>27.669</td>\n",
       "      <td>cereals and tubers</td>\n",
       "      <td>Maize (yellow)</td>\n",
       "      <td>KG</td>\n",
       "      <td>actual</td>\n",
       "      <td>Wholesale</td>\n",
       "      <td>ZAR</td>\n",
       "      <td>4.86</td>\n",
       "      <td>0.3185</td>\n",
       "      <td>0</td>\n",
       "      <td>1</td>\n",
       "      <td>0</td>\n",
       "    </tr>\n",
       "    <tr>\n",
       "      <th>807</th>\n",
       "      <td>2022-05-15</td>\n",
       "      <td>Gauteng</td>\n",
       "      <td>West Rand District Municipality</td>\n",
       "      <td>Randfontein</td>\n",
       "      <td>-26.199</td>\n",
       "      <td>27.669</td>\n",
       "      <td>cereals and tubers</td>\n",
       "      <td>Wheat</td>\n",
       "      <td>KG</td>\n",
       "      <td>actual</td>\n",
       "      <td>Wholesale</td>\n",
       "      <td>ZAR</td>\n",
       "      <td>8.02</td>\n",
       "      <td>0.5256</td>\n",
       "      <td>0</td>\n",
       "      <td>0</td>\n",
       "      <td>1</td>\n",
       "    </tr>\n",
       "    <tr>\n",
       "      <th>808</th>\n",
       "      <td>2022-06-15</td>\n",
       "      <td>Gauteng</td>\n",
       "      <td>West Rand District Municipality</td>\n",
       "      <td>Randfontein</td>\n",
       "      <td>-26.199</td>\n",
       "      <td>27.669</td>\n",
       "      <td>cereals and tubers</td>\n",
       "      <td>Maize (white)</td>\n",
       "      <td>KG</td>\n",
       "      <td>actual</td>\n",
       "      <td>Wholesale</td>\n",
       "      <td>ZAR</td>\n",
       "      <td>4.42</td>\n",
       "      <td>0.2897</td>\n",
       "      <td>1</td>\n",
       "      <td>0</td>\n",
       "      <td>0</td>\n",
       "    </tr>\n",
       "    <tr>\n",
       "      <th>809</th>\n",
       "      <td>2022-06-15</td>\n",
       "      <td>Gauteng</td>\n",
       "      <td>West Rand District Municipality</td>\n",
       "      <td>Randfontein</td>\n",
       "      <td>-26.199</td>\n",
       "      <td>27.669</td>\n",
       "      <td>cereals and tubers</td>\n",
       "      <td>Maize (yellow)</td>\n",
       "      <td>KG</td>\n",
       "      <td>actual</td>\n",
       "      <td>Wholesale</td>\n",
       "      <td>ZAR</td>\n",
       "      <td>4.47</td>\n",
       "      <td>0.2930</td>\n",
       "      <td>0</td>\n",
       "      <td>1</td>\n",
       "      <td>0</td>\n",
       "    </tr>\n",
       "    <tr>\n",
       "      <th>810</th>\n",
       "      <td>2022-06-15</td>\n",
       "      <td>Gauteng</td>\n",
       "      <td>West Rand District Municipality</td>\n",
       "      <td>Randfontein</td>\n",
       "      <td>-26.199</td>\n",
       "      <td>27.669</td>\n",
       "      <td>cereals and tubers</td>\n",
       "      <td>Wheat</td>\n",
       "      <td>KG</td>\n",
       "      <td>actual</td>\n",
       "      <td>Wholesale</td>\n",
       "      <td>ZAR</td>\n",
       "      <td>7.89</td>\n",
       "      <td>0.5171</td>\n",
       "      <td>0</td>\n",
       "      <td>0</td>\n",
       "      <td>1</td>\n",
       "    </tr>\n",
       "  </tbody>\n",
       "</table>\n",
       "<p>810 rows × 17 columns</p>\n",
       "</div>"
      ],
      "text/plain": [
       "           date   admin1                           admin2       market  \\\n",
       "1    2000-01-15  Gauteng  West Rand District Municipality  Randfontein   \n",
       "2    2000-01-15  Gauteng  West Rand District Municipality  Randfontein   \n",
       "3    2000-01-15  Gauteng  West Rand District Municipality  Randfontein   \n",
       "4    2000-02-15  Gauteng  West Rand District Municipality  Randfontein   \n",
       "5    2000-02-15  Gauteng  West Rand District Municipality  Randfontein   \n",
       "..          ...      ...                              ...          ...   \n",
       "806  2022-05-15  Gauteng  West Rand District Municipality  Randfontein   \n",
       "807  2022-05-15  Gauteng  West Rand District Municipality  Randfontein   \n",
       "808  2022-06-15  Gauteng  West Rand District Municipality  Randfontein   \n",
       "809  2022-06-15  Gauteng  West Rand District Municipality  Randfontein   \n",
       "810  2022-06-15  Gauteng  West Rand District Municipality  Randfontein   \n",
       "\n",
       "    latitude longitude            category       commodity unit priceflag  \\\n",
       "1    -26.199    27.669  cereals and tubers   Maize (white)   KG    actual   \n",
       "2    -26.199    27.669  cereals and tubers  Maize (yellow)   KG    actual   \n",
       "3    -26.199    27.669  cereals and tubers           Wheat   KG    actual   \n",
       "4    -26.199    27.669  cereals and tubers   Maize (white)   KG    actual   \n",
       "5    -26.199    27.669  cereals and tubers  Maize (yellow)   KG    actual   \n",
       "..       ...       ...                 ...             ...  ...       ...   \n",
       "806  -26.199    27.669  cereals and tubers  Maize (yellow)   KG    actual   \n",
       "807  -26.199    27.669  cereals and tubers           Wheat   KG    actual   \n",
       "808  -26.199    27.669  cereals and tubers   Maize (white)   KG    actual   \n",
       "809  -26.199    27.669  cereals and tubers  Maize (yellow)   KG    actual   \n",
       "810  -26.199    27.669  cereals and tubers           Wheat   KG    actual   \n",
       "\n",
       "     pricetype currency  price  usdprice  Maize (white)  Maize (yellow)  Wheat  \n",
       "1    Wholesale      ZAR   0.80    0.1321              1               0      0  \n",
       "2    Wholesale      ZAR   0.86    0.1413              0               1      0  \n",
       "3    Wholesale      ZAR   0.65    0.1068              0               0      1  \n",
       "4    Wholesale      ZAR   0.80    0.1260              1               0      0  \n",
       "5    Wholesale      ZAR   0.83    0.1305              0               1      0  \n",
       "..         ...      ...    ...       ...            ...             ...    ...  \n",
       "806  Wholesale      ZAR   4.86    0.3185              0               1      0  \n",
       "807  Wholesale      ZAR   8.02    0.5256              0               0      1  \n",
       "808  Wholesale      ZAR   4.42    0.2897              1               0      0  \n",
       "809  Wholesale      ZAR   4.47    0.2930              0               1      0  \n",
       "810  Wholesale      ZAR   7.89    0.5171              0               0      1  \n",
       "\n",
       "[810 rows x 17 columns]"
      ]
     },
     "execution_count": 23,
     "metadata": {},
     "output_type": "execute_result"
    }
   ],
   "source": [
    "\n",
    "\n",
    "df"
   ]
  },
  {
   "cell_type": "code",
   "execution_count": 24,
   "metadata": {
    "colab": {
     "base_uri": "https://localhost:8080/"
    },
    "id": "7-4nPZ0YID0x",
    "outputId": "f8ed5ae3-74ee-47f1-b050-125dd4b1dae8"
   },
   "outputs": [
    {
     "data": {
      "text/plain": [
       "1    2000-01-15\n",
       "2    2000-01-15\n",
       "3    2000-01-15\n",
       "4    2000-02-15\n",
       "5    2000-02-15\n",
       "Name: date, dtype: object"
      ]
     },
     "execution_count": 24,
     "metadata": {},
     "output_type": "execute_result"
    }
   ],
   "source": [
    "df[\"date\"].head()"
   ]
  },
  {
   "cell_type": "code",
   "execution_count": 25,
   "metadata": {
    "colab": {
     "base_uri": "https://localhost:8080/"
    },
    "id": "nG2VMchBU1V8",
    "outputId": "32f1b981-7cd2-4cad-9359-d1fb97f0f6c9"
   },
   "outputs": [
    {
     "name": "stdout",
     "output_type": "stream",
     "text": [
      "         date   admin1                           admin2       market latitude  \\\n",
      "1  2000-01-15  Gauteng  West Rand District Municipality  Randfontein  -26.199   \n",
      "2  2000-01-15  Gauteng  West Rand District Municipality  Randfontein  -26.199   \n",
      "3  2000-01-15  Gauteng  West Rand District Municipality  Randfontein  -26.199   \n",
      "4  2000-02-15  Gauteng  West Rand District Municipality  Randfontein  -26.199   \n",
      "5  2000-02-15  Gauteng  West Rand District Municipality  Randfontein  -26.199   \n",
      "\n",
      "  longitude            category       commodity unit priceflag  pricetype  \\\n",
      "1    27.669  cereals and tubers   Maize (white)   KG    actual  Wholesale   \n",
      "2    27.669  cereals and tubers  Maize (yellow)   KG    actual  Wholesale   \n",
      "3    27.669  cereals and tubers           Wheat   KG    actual  Wholesale   \n",
      "4    27.669  cereals and tubers   Maize (white)   KG    actual  Wholesale   \n",
      "5    27.669  cereals and tubers  Maize (yellow)   KG    actual  Wholesale   \n",
      "\n",
      "  currency  price  usdprice  Maize (white)  Maize (yellow)  Wheat  \n",
      "1      ZAR   0.80    0.1321              1               0      0  \n",
      "2      ZAR   0.86    0.1413              0               1      0  \n",
      "3      ZAR   0.65    0.1068              0               0      1  \n",
      "4      ZAR   0.80    0.1260              1               0      0  \n",
      "5      ZAR   0.83    0.1305              0               1      0  \n"
     ]
    }
   ],
   "source": [
    "df=df.sort_values(by='date')\n",
    "print(df.head())"
   ]
  },
  {
   "cell_type": "code",
   "execution_count": 26,
   "metadata": {
    "colab": {
     "base_uri": "https://localhost:8080/",
     "height": 206
    },
    "id": "6F84jg6dJTib",
    "outputId": "4f8d61cd-907e-425e-e74a-9c43bfface22"
   },
   "outputs": [
    {
     "data": {
      "text/html": [
       "<div>\n",
       "<style scoped>\n",
       "    .dataframe tbody tr th:only-of-type {\n",
       "        vertical-align: middle;\n",
       "    }\n",
       "\n",
       "    .dataframe tbody tr th {\n",
       "        vertical-align: top;\n",
       "    }\n",
       "\n",
       "    .dataframe thead th {\n",
       "        text-align: right;\n",
       "    }\n",
       "</style>\n",
       "<table border=\"1\" class=\"dataframe\">\n",
       "  <thead>\n",
       "    <tr style=\"text-align: right;\">\n",
       "      <th></th>\n",
       "      <th>date</th>\n",
       "      <th>admin1</th>\n",
       "      <th>admin2</th>\n",
       "      <th>market</th>\n",
       "      <th>latitude</th>\n",
       "      <th>longitude</th>\n",
       "      <th>category</th>\n",
       "      <th>commodity</th>\n",
       "      <th>unit</th>\n",
       "      <th>priceflag</th>\n",
       "      <th>pricetype</th>\n",
       "      <th>currency</th>\n",
       "      <th>price</th>\n",
       "      <th>usdprice</th>\n",
       "      <th>Maize (white)</th>\n",
       "      <th>Maize (yellow)</th>\n",
       "      <th>Wheat</th>\n",
       "      <th>year</th>\n",
       "    </tr>\n",
       "  </thead>\n",
       "  <tbody>\n",
       "    <tr>\n",
       "      <th>1</th>\n",
       "      <td>2000-01-15</td>\n",
       "      <td>Gauteng</td>\n",
       "      <td>West Rand District Municipality</td>\n",
       "      <td>Randfontein</td>\n",
       "      <td>-26.199</td>\n",
       "      <td>27.669</td>\n",
       "      <td>cereals and tubers</td>\n",
       "      <td>Maize (white)</td>\n",
       "      <td>KG</td>\n",
       "      <td>actual</td>\n",
       "      <td>Wholesale</td>\n",
       "      <td>ZAR</td>\n",
       "      <td>0.80</td>\n",
       "      <td>0.1321</td>\n",
       "      <td>1</td>\n",
       "      <td>0</td>\n",
       "      <td>0</td>\n",
       "      <td>2000</td>\n",
       "    </tr>\n",
       "    <tr>\n",
       "      <th>2</th>\n",
       "      <td>2000-01-15</td>\n",
       "      <td>Gauteng</td>\n",
       "      <td>West Rand District Municipality</td>\n",
       "      <td>Randfontein</td>\n",
       "      <td>-26.199</td>\n",
       "      <td>27.669</td>\n",
       "      <td>cereals and tubers</td>\n",
       "      <td>Maize (yellow)</td>\n",
       "      <td>KG</td>\n",
       "      <td>actual</td>\n",
       "      <td>Wholesale</td>\n",
       "      <td>ZAR</td>\n",
       "      <td>0.86</td>\n",
       "      <td>0.1413</td>\n",
       "      <td>0</td>\n",
       "      <td>1</td>\n",
       "      <td>0</td>\n",
       "      <td>2000</td>\n",
       "    </tr>\n",
       "    <tr>\n",
       "      <th>3</th>\n",
       "      <td>2000-01-15</td>\n",
       "      <td>Gauteng</td>\n",
       "      <td>West Rand District Municipality</td>\n",
       "      <td>Randfontein</td>\n",
       "      <td>-26.199</td>\n",
       "      <td>27.669</td>\n",
       "      <td>cereals and tubers</td>\n",
       "      <td>Wheat</td>\n",
       "      <td>KG</td>\n",
       "      <td>actual</td>\n",
       "      <td>Wholesale</td>\n",
       "      <td>ZAR</td>\n",
       "      <td>0.65</td>\n",
       "      <td>0.1068</td>\n",
       "      <td>0</td>\n",
       "      <td>0</td>\n",
       "      <td>1</td>\n",
       "      <td>2000</td>\n",
       "    </tr>\n",
       "    <tr>\n",
       "      <th>4</th>\n",
       "      <td>2000-02-15</td>\n",
       "      <td>Gauteng</td>\n",
       "      <td>West Rand District Municipality</td>\n",
       "      <td>Randfontein</td>\n",
       "      <td>-26.199</td>\n",
       "      <td>27.669</td>\n",
       "      <td>cereals and tubers</td>\n",
       "      <td>Maize (white)</td>\n",
       "      <td>KG</td>\n",
       "      <td>actual</td>\n",
       "      <td>Wholesale</td>\n",
       "      <td>ZAR</td>\n",
       "      <td>0.80</td>\n",
       "      <td>0.1260</td>\n",
       "      <td>1</td>\n",
       "      <td>0</td>\n",
       "      <td>0</td>\n",
       "      <td>2000</td>\n",
       "    </tr>\n",
       "    <tr>\n",
       "      <th>5</th>\n",
       "      <td>2000-02-15</td>\n",
       "      <td>Gauteng</td>\n",
       "      <td>West Rand District Municipality</td>\n",
       "      <td>Randfontein</td>\n",
       "      <td>-26.199</td>\n",
       "      <td>27.669</td>\n",
       "      <td>cereals and tubers</td>\n",
       "      <td>Maize (yellow)</td>\n",
       "      <td>KG</td>\n",
       "      <td>actual</td>\n",
       "      <td>Wholesale</td>\n",
       "      <td>ZAR</td>\n",
       "      <td>0.83</td>\n",
       "      <td>0.1305</td>\n",
       "      <td>0</td>\n",
       "      <td>1</td>\n",
       "      <td>0</td>\n",
       "      <td>2000</td>\n",
       "    </tr>\n",
       "  </tbody>\n",
       "</table>\n",
       "</div>"
      ],
      "text/plain": [
       "         date   admin1                           admin2       market latitude  \\\n",
       "1  2000-01-15  Gauteng  West Rand District Municipality  Randfontein  -26.199   \n",
       "2  2000-01-15  Gauteng  West Rand District Municipality  Randfontein  -26.199   \n",
       "3  2000-01-15  Gauteng  West Rand District Municipality  Randfontein  -26.199   \n",
       "4  2000-02-15  Gauteng  West Rand District Municipality  Randfontein  -26.199   \n",
       "5  2000-02-15  Gauteng  West Rand District Municipality  Randfontein  -26.199   \n",
       "\n",
       "  longitude            category       commodity unit priceflag  pricetype  \\\n",
       "1    27.669  cereals and tubers   Maize (white)   KG    actual  Wholesale   \n",
       "2    27.669  cereals and tubers  Maize (yellow)   KG    actual  Wholesale   \n",
       "3    27.669  cereals and tubers           Wheat   KG    actual  Wholesale   \n",
       "4    27.669  cereals and tubers   Maize (white)   KG    actual  Wholesale   \n",
       "5    27.669  cereals and tubers  Maize (yellow)   KG    actual  Wholesale   \n",
       "\n",
       "  currency  price  usdprice  Maize (white)  Maize (yellow)  Wheat  year  \n",
       "1      ZAR   0.80    0.1321              1               0      0  2000  \n",
       "2      ZAR   0.86    0.1413              0               1      0  2000  \n",
       "3      ZAR   0.65    0.1068              0               0      1  2000  \n",
       "4      ZAR   0.80    0.1260              1               0      0  2000  \n",
       "5      ZAR   0.83    0.1305              0               1      0  2000  "
      ]
     },
     "execution_count": 26,
     "metadata": {},
     "output_type": "execute_result"
    }
   ],
   "source": [
    "# convert Year to Datetime \n",
    "df['year'] = pd.DatetimeIndex(df['date']).year\n",
    "df.head()"
   ]
  },
  {
   "cell_type": "code",
   "execution_count": 27,
   "metadata": {
    "colab": {
     "base_uri": "https://localhost:8080/",
     "height": 206
    },
    "id": "9nUm7MQARED7",
    "outputId": "858ae979-23f4-438b-ae54-e1c45a2037dd"
   },
   "outputs": [
    {
     "data": {
      "text/html": [
       "<div>\n",
       "<style scoped>\n",
       "    .dataframe tbody tr th:only-of-type {\n",
       "        vertical-align: middle;\n",
       "    }\n",
       "\n",
       "    .dataframe tbody tr th {\n",
       "        vertical-align: top;\n",
       "    }\n",
       "\n",
       "    .dataframe thead th {\n",
       "        text-align: right;\n",
       "    }\n",
       "</style>\n",
       "<table border=\"1\" class=\"dataframe\">\n",
       "  <thead>\n",
       "    <tr style=\"text-align: right;\">\n",
       "      <th></th>\n",
       "      <th>date</th>\n",
       "      <th>admin1</th>\n",
       "      <th>admin2</th>\n",
       "      <th>market</th>\n",
       "      <th>latitude</th>\n",
       "      <th>longitude</th>\n",
       "      <th>category</th>\n",
       "      <th>commodity</th>\n",
       "      <th>unit</th>\n",
       "      <th>priceflag</th>\n",
       "      <th>pricetype</th>\n",
       "      <th>currency</th>\n",
       "      <th>price</th>\n",
       "      <th>usdprice</th>\n",
       "      <th>Maize (white)</th>\n",
       "      <th>Maize (yellow)</th>\n",
       "      <th>Wheat</th>\n",
       "      <th>year</th>\n",
       "      <th>month</th>\n",
       "    </tr>\n",
       "  </thead>\n",
       "  <tbody>\n",
       "    <tr>\n",
       "      <th>1</th>\n",
       "      <td>2000-01-15</td>\n",
       "      <td>Gauteng</td>\n",
       "      <td>West Rand District Municipality</td>\n",
       "      <td>Randfontein</td>\n",
       "      <td>-26.199</td>\n",
       "      <td>27.669</td>\n",
       "      <td>cereals and tubers</td>\n",
       "      <td>Maize (white)</td>\n",
       "      <td>KG</td>\n",
       "      <td>actual</td>\n",
       "      <td>Wholesale</td>\n",
       "      <td>ZAR</td>\n",
       "      <td>0.80</td>\n",
       "      <td>0.1321</td>\n",
       "      <td>1</td>\n",
       "      <td>0</td>\n",
       "      <td>0</td>\n",
       "      <td>2000</td>\n",
       "      <td>1</td>\n",
       "    </tr>\n",
       "    <tr>\n",
       "      <th>2</th>\n",
       "      <td>2000-01-15</td>\n",
       "      <td>Gauteng</td>\n",
       "      <td>West Rand District Municipality</td>\n",
       "      <td>Randfontein</td>\n",
       "      <td>-26.199</td>\n",
       "      <td>27.669</td>\n",
       "      <td>cereals and tubers</td>\n",
       "      <td>Maize (yellow)</td>\n",
       "      <td>KG</td>\n",
       "      <td>actual</td>\n",
       "      <td>Wholesale</td>\n",
       "      <td>ZAR</td>\n",
       "      <td>0.86</td>\n",
       "      <td>0.1413</td>\n",
       "      <td>0</td>\n",
       "      <td>1</td>\n",
       "      <td>0</td>\n",
       "      <td>2000</td>\n",
       "      <td>1</td>\n",
       "    </tr>\n",
       "    <tr>\n",
       "      <th>3</th>\n",
       "      <td>2000-01-15</td>\n",
       "      <td>Gauteng</td>\n",
       "      <td>West Rand District Municipality</td>\n",
       "      <td>Randfontein</td>\n",
       "      <td>-26.199</td>\n",
       "      <td>27.669</td>\n",
       "      <td>cereals and tubers</td>\n",
       "      <td>Wheat</td>\n",
       "      <td>KG</td>\n",
       "      <td>actual</td>\n",
       "      <td>Wholesale</td>\n",
       "      <td>ZAR</td>\n",
       "      <td>0.65</td>\n",
       "      <td>0.1068</td>\n",
       "      <td>0</td>\n",
       "      <td>0</td>\n",
       "      <td>1</td>\n",
       "      <td>2000</td>\n",
       "      <td>1</td>\n",
       "    </tr>\n",
       "    <tr>\n",
       "      <th>4</th>\n",
       "      <td>2000-02-15</td>\n",
       "      <td>Gauteng</td>\n",
       "      <td>West Rand District Municipality</td>\n",
       "      <td>Randfontein</td>\n",
       "      <td>-26.199</td>\n",
       "      <td>27.669</td>\n",
       "      <td>cereals and tubers</td>\n",
       "      <td>Maize (white)</td>\n",
       "      <td>KG</td>\n",
       "      <td>actual</td>\n",
       "      <td>Wholesale</td>\n",
       "      <td>ZAR</td>\n",
       "      <td>0.80</td>\n",
       "      <td>0.1260</td>\n",
       "      <td>1</td>\n",
       "      <td>0</td>\n",
       "      <td>0</td>\n",
       "      <td>2000</td>\n",
       "      <td>2</td>\n",
       "    </tr>\n",
       "    <tr>\n",
       "      <th>5</th>\n",
       "      <td>2000-02-15</td>\n",
       "      <td>Gauteng</td>\n",
       "      <td>West Rand District Municipality</td>\n",
       "      <td>Randfontein</td>\n",
       "      <td>-26.199</td>\n",
       "      <td>27.669</td>\n",
       "      <td>cereals and tubers</td>\n",
       "      <td>Maize (yellow)</td>\n",
       "      <td>KG</td>\n",
       "      <td>actual</td>\n",
       "      <td>Wholesale</td>\n",
       "      <td>ZAR</td>\n",
       "      <td>0.83</td>\n",
       "      <td>0.1305</td>\n",
       "      <td>0</td>\n",
       "      <td>1</td>\n",
       "      <td>0</td>\n",
       "      <td>2000</td>\n",
       "      <td>2</td>\n",
       "    </tr>\n",
       "  </tbody>\n",
       "</table>\n",
       "</div>"
      ],
      "text/plain": [
       "         date   admin1                           admin2       market latitude  \\\n",
       "1  2000-01-15  Gauteng  West Rand District Municipality  Randfontein  -26.199   \n",
       "2  2000-01-15  Gauteng  West Rand District Municipality  Randfontein  -26.199   \n",
       "3  2000-01-15  Gauteng  West Rand District Municipality  Randfontein  -26.199   \n",
       "4  2000-02-15  Gauteng  West Rand District Municipality  Randfontein  -26.199   \n",
       "5  2000-02-15  Gauteng  West Rand District Municipality  Randfontein  -26.199   \n",
       "\n",
       "  longitude            category       commodity unit priceflag  pricetype  \\\n",
       "1    27.669  cereals and tubers   Maize (white)   KG    actual  Wholesale   \n",
       "2    27.669  cereals and tubers  Maize (yellow)   KG    actual  Wholesale   \n",
       "3    27.669  cereals and tubers           Wheat   KG    actual  Wholesale   \n",
       "4    27.669  cereals and tubers   Maize (white)   KG    actual  Wholesale   \n",
       "5    27.669  cereals and tubers  Maize (yellow)   KG    actual  Wholesale   \n",
       "\n",
       "  currency  price  usdprice  Maize (white)  Maize (yellow)  Wheat  year  month  \n",
       "1      ZAR   0.80    0.1321              1               0      0  2000      1  \n",
       "2      ZAR   0.86    0.1413              0               1      0  2000      1  \n",
       "3      ZAR   0.65    0.1068              0               0      1  2000      1  \n",
       "4      ZAR   0.80    0.1260              1               0      0  2000      2  \n",
       "5      ZAR   0.83    0.1305              0               1      0  2000      2  "
      ]
     },
     "execution_count": 27,
     "metadata": {},
     "output_type": "execute_result"
    }
   ],
   "source": [
    "\n",
    "df['month'] = pd.DatetimeIndex(df['date']).month\n",
    "df.head()"
   ]
  },
  {
   "cell_type": "code",
   "execution_count": 28,
   "metadata": {
    "colab": {
     "base_uri": "https://localhost:8080/",
     "height": 238
    },
    "id": "2kyi5TV_Xtrw",
    "outputId": "cc2c62bb-e5d0-48b6-ef53-59bf0c819505"
   },
   "outputs": [
    {
     "data": {
      "text/html": [
       "<div>\n",
       "<style scoped>\n",
       "    .dataframe tbody tr th:only-of-type {\n",
       "        vertical-align: middle;\n",
       "    }\n",
       "\n",
       "    .dataframe tbody tr th {\n",
       "        vertical-align: top;\n",
       "    }\n",
       "\n",
       "    .dataframe thead th {\n",
       "        text-align: right;\n",
       "    }\n",
       "</style>\n",
       "<table border=\"1\" class=\"dataframe\">\n",
       "  <thead>\n",
       "    <tr style=\"text-align: right;\">\n",
       "      <th></th>\n",
       "      <th>admin1</th>\n",
       "      <th>admin2</th>\n",
       "      <th>market</th>\n",
       "      <th>latitude</th>\n",
       "      <th>longitude</th>\n",
       "      <th>category</th>\n",
       "      <th>commodity</th>\n",
       "      <th>unit</th>\n",
       "      <th>priceflag</th>\n",
       "      <th>pricetype</th>\n",
       "      <th>currency</th>\n",
       "      <th>price</th>\n",
       "      <th>usdprice</th>\n",
       "      <th>Maize (white)</th>\n",
       "      <th>Maize (yellow)</th>\n",
       "      <th>Wheat</th>\n",
       "      <th>year</th>\n",
       "      <th>month</th>\n",
       "    </tr>\n",
       "    <tr>\n",
       "      <th>date</th>\n",
       "      <th></th>\n",
       "      <th></th>\n",
       "      <th></th>\n",
       "      <th></th>\n",
       "      <th></th>\n",
       "      <th></th>\n",
       "      <th></th>\n",
       "      <th></th>\n",
       "      <th></th>\n",
       "      <th></th>\n",
       "      <th></th>\n",
       "      <th></th>\n",
       "      <th></th>\n",
       "      <th></th>\n",
       "      <th></th>\n",
       "      <th></th>\n",
       "      <th></th>\n",
       "      <th></th>\n",
       "    </tr>\n",
       "  </thead>\n",
       "  <tbody>\n",
       "    <tr>\n",
       "      <th>2000-01-15</th>\n",
       "      <td>Gauteng</td>\n",
       "      <td>West Rand District Municipality</td>\n",
       "      <td>Randfontein</td>\n",
       "      <td>-26.199</td>\n",
       "      <td>27.669</td>\n",
       "      <td>cereals and tubers</td>\n",
       "      <td>Maize (white)</td>\n",
       "      <td>KG</td>\n",
       "      <td>actual</td>\n",
       "      <td>Wholesale</td>\n",
       "      <td>ZAR</td>\n",
       "      <td>0.80</td>\n",
       "      <td>0.1321</td>\n",
       "      <td>1</td>\n",
       "      <td>0</td>\n",
       "      <td>0</td>\n",
       "      <td>2000</td>\n",
       "      <td>1</td>\n",
       "    </tr>\n",
       "    <tr>\n",
       "      <th>2000-01-15</th>\n",
       "      <td>Gauteng</td>\n",
       "      <td>West Rand District Municipality</td>\n",
       "      <td>Randfontein</td>\n",
       "      <td>-26.199</td>\n",
       "      <td>27.669</td>\n",
       "      <td>cereals and tubers</td>\n",
       "      <td>Maize (yellow)</td>\n",
       "      <td>KG</td>\n",
       "      <td>actual</td>\n",
       "      <td>Wholesale</td>\n",
       "      <td>ZAR</td>\n",
       "      <td>0.86</td>\n",
       "      <td>0.1413</td>\n",
       "      <td>0</td>\n",
       "      <td>1</td>\n",
       "      <td>0</td>\n",
       "      <td>2000</td>\n",
       "      <td>1</td>\n",
       "    </tr>\n",
       "    <tr>\n",
       "      <th>2000-01-15</th>\n",
       "      <td>Gauteng</td>\n",
       "      <td>West Rand District Municipality</td>\n",
       "      <td>Randfontein</td>\n",
       "      <td>-26.199</td>\n",
       "      <td>27.669</td>\n",
       "      <td>cereals and tubers</td>\n",
       "      <td>Wheat</td>\n",
       "      <td>KG</td>\n",
       "      <td>actual</td>\n",
       "      <td>Wholesale</td>\n",
       "      <td>ZAR</td>\n",
       "      <td>0.65</td>\n",
       "      <td>0.1068</td>\n",
       "      <td>0</td>\n",
       "      <td>0</td>\n",
       "      <td>1</td>\n",
       "      <td>2000</td>\n",
       "      <td>1</td>\n",
       "    </tr>\n",
       "    <tr>\n",
       "      <th>2000-02-15</th>\n",
       "      <td>Gauteng</td>\n",
       "      <td>West Rand District Municipality</td>\n",
       "      <td>Randfontein</td>\n",
       "      <td>-26.199</td>\n",
       "      <td>27.669</td>\n",
       "      <td>cereals and tubers</td>\n",
       "      <td>Maize (white)</td>\n",
       "      <td>KG</td>\n",
       "      <td>actual</td>\n",
       "      <td>Wholesale</td>\n",
       "      <td>ZAR</td>\n",
       "      <td>0.80</td>\n",
       "      <td>0.1260</td>\n",
       "      <td>1</td>\n",
       "      <td>0</td>\n",
       "      <td>0</td>\n",
       "      <td>2000</td>\n",
       "      <td>2</td>\n",
       "    </tr>\n",
       "    <tr>\n",
       "      <th>2000-02-15</th>\n",
       "      <td>Gauteng</td>\n",
       "      <td>West Rand District Municipality</td>\n",
       "      <td>Randfontein</td>\n",
       "      <td>-26.199</td>\n",
       "      <td>27.669</td>\n",
       "      <td>cereals and tubers</td>\n",
       "      <td>Maize (yellow)</td>\n",
       "      <td>KG</td>\n",
       "      <td>actual</td>\n",
       "      <td>Wholesale</td>\n",
       "      <td>ZAR</td>\n",
       "      <td>0.83</td>\n",
       "      <td>0.1305</td>\n",
       "      <td>0</td>\n",
       "      <td>1</td>\n",
       "      <td>0</td>\n",
       "      <td>2000</td>\n",
       "      <td>2</td>\n",
       "    </tr>\n",
       "  </tbody>\n",
       "</table>\n",
       "</div>"
      ],
      "text/plain": [
       "             admin1                           admin2       market latitude  \\\n",
       "date                                                                         \n",
       "2000-01-15  Gauteng  West Rand District Municipality  Randfontein  -26.199   \n",
       "2000-01-15  Gauteng  West Rand District Municipality  Randfontein  -26.199   \n",
       "2000-01-15  Gauteng  West Rand District Municipality  Randfontein  -26.199   \n",
       "2000-02-15  Gauteng  West Rand District Municipality  Randfontein  -26.199   \n",
       "2000-02-15  Gauteng  West Rand District Municipality  Randfontein  -26.199   \n",
       "\n",
       "           longitude            category       commodity unit priceflag  \\\n",
       "date                                                                      \n",
       "2000-01-15    27.669  cereals and tubers   Maize (white)   KG    actual   \n",
       "2000-01-15    27.669  cereals and tubers  Maize (yellow)   KG    actual   \n",
       "2000-01-15    27.669  cereals and tubers           Wheat   KG    actual   \n",
       "2000-02-15    27.669  cereals and tubers   Maize (white)   KG    actual   \n",
       "2000-02-15    27.669  cereals and tubers  Maize (yellow)   KG    actual   \n",
       "\n",
       "            pricetype currency  price  usdprice  Maize (white)  \\\n",
       "date                                                             \n",
       "2000-01-15  Wholesale      ZAR   0.80    0.1321              1   \n",
       "2000-01-15  Wholesale      ZAR   0.86    0.1413              0   \n",
       "2000-01-15  Wholesale      ZAR   0.65    0.1068              0   \n",
       "2000-02-15  Wholesale      ZAR   0.80    0.1260              1   \n",
       "2000-02-15  Wholesale      ZAR   0.83    0.1305              0   \n",
       "\n",
       "            Maize (yellow)  Wheat  year  month  \n",
       "date                                            \n",
       "2000-01-15               0      0  2000      1  \n",
       "2000-01-15               1      0  2000      1  \n",
       "2000-01-15               0      1  2000      1  \n",
       "2000-02-15               0      0  2000      2  \n",
       "2000-02-15               1      0  2000      2  "
      ]
     },
     "execution_count": 28,
     "metadata": {},
     "output_type": "execute_result"
    }
   ],
   "source": [
    "df=df.set_index('date')\n",
    "df.head()"
   ]
  },
  {
   "cell_type": "code",
   "execution_count": 29,
   "metadata": {
    "colab": {
     "base_uri": "https://localhost:8080/",
     "height": 206
    },
    "id": "p5bKk30FuXTG",
    "outputId": "9a1beef8-54b1-4972-cda9-d1194e674bc5"
   },
   "outputs": [
    {
     "data": {
      "text/html": [
       "<div>\n",
       "<style scoped>\n",
       "    .dataframe tbody tr th:only-of-type {\n",
       "        vertical-align: middle;\n",
       "    }\n",
       "\n",
       "    .dataframe tbody tr th {\n",
       "        vertical-align: top;\n",
       "    }\n",
       "\n",
       "    .dataframe thead th {\n",
       "        text-align: right;\n",
       "    }\n",
       "</style>\n",
       "<table border=\"1\" class=\"dataframe\">\n",
       "  <thead>\n",
       "    <tr style=\"text-align: right;\">\n",
       "      <th></th>\n",
       "      <th>admin1</th>\n",
       "      <th>admin2</th>\n",
       "      <th>market</th>\n",
       "      <th>latitude</th>\n",
       "      <th>longitude</th>\n",
       "      <th>category</th>\n",
       "      <th>commodity</th>\n",
       "      <th>unit</th>\n",
       "      <th>priceflag</th>\n",
       "      <th>pricetype</th>\n",
       "      <th>currency</th>\n",
       "      <th>price</th>\n",
       "      <th>usdprice</th>\n",
       "      <th>Maize (white)</th>\n",
       "      <th>Maize (yellow)</th>\n",
       "      <th>Wheat</th>\n",
       "      <th>year</th>\n",
       "      <th>month</th>\n",
       "    </tr>\n",
       "  </thead>\n",
       "  <tbody>\n",
       "    <tr>\n",
       "      <th>2000-01-15</th>\n",
       "      <td>Gauteng</td>\n",
       "      <td>West Rand District Municipality</td>\n",
       "      <td>Randfontein</td>\n",
       "      <td>-26.199</td>\n",
       "      <td>27.669</td>\n",
       "      <td>cereals and tubers</td>\n",
       "      <td>Maize (white)</td>\n",
       "      <td>KG</td>\n",
       "      <td>actual</td>\n",
       "      <td>Wholesale</td>\n",
       "      <td>ZAR</td>\n",
       "      <td>0.80</td>\n",
       "      <td>0.1321</td>\n",
       "      <td>1</td>\n",
       "      <td>0</td>\n",
       "      <td>0</td>\n",
       "      <td>2000</td>\n",
       "      <td>1</td>\n",
       "    </tr>\n",
       "    <tr>\n",
       "      <th>2000-01-15</th>\n",
       "      <td>Gauteng</td>\n",
       "      <td>West Rand District Municipality</td>\n",
       "      <td>Randfontein</td>\n",
       "      <td>-26.199</td>\n",
       "      <td>27.669</td>\n",
       "      <td>cereals and tubers</td>\n",
       "      <td>Maize (yellow)</td>\n",
       "      <td>KG</td>\n",
       "      <td>actual</td>\n",
       "      <td>Wholesale</td>\n",
       "      <td>ZAR</td>\n",
       "      <td>0.86</td>\n",
       "      <td>0.1413</td>\n",
       "      <td>0</td>\n",
       "      <td>1</td>\n",
       "      <td>0</td>\n",
       "      <td>2000</td>\n",
       "      <td>1</td>\n",
       "    </tr>\n",
       "    <tr>\n",
       "      <th>2000-01-15</th>\n",
       "      <td>Gauteng</td>\n",
       "      <td>West Rand District Municipality</td>\n",
       "      <td>Randfontein</td>\n",
       "      <td>-26.199</td>\n",
       "      <td>27.669</td>\n",
       "      <td>cereals and tubers</td>\n",
       "      <td>Wheat</td>\n",
       "      <td>KG</td>\n",
       "      <td>actual</td>\n",
       "      <td>Wholesale</td>\n",
       "      <td>ZAR</td>\n",
       "      <td>0.65</td>\n",
       "      <td>0.1068</td>\n",
       "      <td>0</td>\n",
       "      <td>0</td>\n",
       "      <td>1</td>\n",
       "      <td>2000</td>\n",
       "      <td>1</td>\n",
       "    </tr>\n",
       "    <tr>\n",
       "      <th>2000-02-15</th>\n",
       "      <td>Gauteng</td>\n",
       "      <td>West Rand District Municipality</td>\n",
       "      <td>Randfontein</td>\n",
       "      <td>-26.199</td>\n",
       "      <td>27.669</td>\n",
       "      <td>cereals and tubers</td>\n",
       "      <td>Maize (white)</td>\n",
       "      <td>KG</td>\n",
       "      <td>actual</td>\n",
       "      <td>Wholesale</td>\n",
       "      <td>ZAR</td>\n",
       "      <td>0.80</td>\n",
       "      <td>0.1260</td>\n",
       "      <td>1</td>\n",
       "      <td>0</td>\n",
       "      <td>0</td>\n",
       "      <td>2000</td>\n",
       "      <td>2</td>\n",
       "    </tr>\n",
       "    <tr>\n",
       "      <th>2000-02-15</th>\n",
       "      <td>Gauteng</td>\n",
       "      <td>West Rand District Municipality</td>\n",
       "      <td>Randfontein</td>\n",
       "      <td>-26.199</td>\n",
       "      <td>27.669</td>\n",
       "      <td>cereals and tubers</td>\n",
       "      <td>Maize (yellow)</td>\n",
       "      <td>KG</td>\n",
       "      <td>actual</td>\n",
       "      <td>Wholesale</td>\n",
       "      <td>ZAR</td>\n",
       "      <td>0.83</td>\n",
       "      <td>0.1305</td>\n",
       "      <td>0</td>\n",
       "      <td>1</td>\n",
       "      <td>0</td>\n",
       "      <td>2000</td>\n",
       "      <td>2</td>\n",
       "    </tr>\n",
       "  </tbody>\n",
       "</table>\n",
       "</div>"
      ],
      "text/plain": [
       "             admin1                           admin2       market latitude  \\\n",
       "2000-01-15  Gauteng  West Rand District Municipality  Randfontein  -26.199   \n",
       "2000-01-15  Gauteng  West Rand District Municipality  Randfontein  -26.199   \n",
       "2000-01-15  Gauteng  West Rand District Municipality  Randfontein  -26.199   \n",
       "2000-02-15  Gauteng  West Rand District Municipality  Randfontein  -26.199   \n",
       "2000-02-15  Gauteng  West Rand District Municipality  Randfontein  -26.199   \n",
       "\n",
       "           longitude            category       commodity unit priceflag  \\\n",
       "2000-01-15    27.669  cereals and tubers   Maize (white)   KG    actual   \n",
       "2000-01-15    27.669  cereals and tubers  Maize (yellow)   KG    actual   \n",
       "2000-01-15    27.669  cereals and tubers           Wheat   KG    actual   \n",
       "2000-02-15    27.669  cereals and tubers   Maize (white)   KG    actual   \n",
       "2000-02-15    27.669  cereals and tubers  Maize (yellow)   KG    actual   \n",
       "\n",
       "            pricetype currency  price  usdprice  Maize (white)  \\\n",
       "2000-01-15  Wholesale      ZAR   0.80    0.1321              1   \n",
       "2000-01-15  Wholesale      ZAR   0.86    0.1413              0   \n",
       "2000-01-15  Wholesale      ZAR   0.65    0.1068              0   \n",
       "2000-02-15  Wholesale      ZAR   0.80    0.1260              1   \n",
       "2000-02-15  Wholesale      ZAR   0.83    0.1305              0   \n",
       "\n",
       "            Maize (yellow)  Wheat  year  month  \n",
       "2000-01-15               0      0  2000      1  \n",
       "2000-01-15               1      0  2000      1  \n",
       "2000-01-15               0      1  2000      1  \n",
       "2000-02-15               0      0  2000      2  \n",
       "2000-02-15               1      0  2000      2  "
      ]
     },
     "execution_count": 29,
     "metadata": {},
     "output_type": "execute_result"
    }
   ],
   "source": [
    "df.index.names = [None]\n",
    " \n",
    "df.head()"
   ]
  },
  {
   "cell_type": "code",
   "execution_count": 30,
   "metadata": {
    "colab": {
     "base_uri": "https://localhost:8080/",
     "height": 206
    },
    "id": "gbI2TvlTsxHL",
    "outputId": "9f115c2c-f7bf-4249-e86c-5bdae90969c4"
   },
   "outputs": [
    {
     "data": {
      "text/html": [
       "<div>\n",
       "<style scoped>\n",
       "    .dataframe tbody tr th:only-of-type {\n",
       "        vertical-align: middle;\n",
       "    }\n",
       "\n",
       "    .dataframe tbody tr th {\n",
       "        vertical-align: top;\n",
       "    }\n",
       "\n",
       "    .dataframe thead th {\n",
       "        text-align: right;\n",
       "    }\n",
       "</style>\n",
       "<table border=\"1\" class=\"dataframe\">\n",
       "  <thead>\n",
       "    <tr style=\"text-align: right;\">\n",
       "      <th>date</th>\n",
       "      <th>admin1</th>\n",
       "      <th>admin2</th>\n",
       "      <th>market</th>\n",
       "      <th>latitude</th>\n",
       "      <th>longitude</th>\n",
       "      <th>category</th>\n",
       "      <th>commodity</th>\n",
       "      <th>unit</th>\n",
       "      <th>priceflag</th>\n",
       "      <th>pricetype</th>\n",
       "      <th>currency</th>\n",
       "      <th>price</th>\n",
       "      <th>usdprice</th>\n",
       "      <th>Maize (white)</th>\n",
       "      <th>Maize (yellow)</th>\n",
       "      <th>Wheat</th>\n",
       "      <th>year</th>\n",
       "      <th>month</th>\n",
       "    </tr>\n",
       "  </thead>\n",
       "  <tbody>\n",
       "    <tr>\n",
       "      <th>2000-01-15</th>\n",
       "      <td>Gauteng</td>\n",
       "      <td>West Rand District Municipality</td>\n",
       "      <td>Randfontein</td>\n",
       "      <td>-26.199</td>\n",
       "      <td>27.669</td>\n",
       "      <td>cereals and tubers</td>\n",
       "      <td>Maize (white)</td>\n",
       "      <td>KG</td>\n",
       "      <td>actual</td>\n",
       "      <td>Wholesale</td>\n",
       "      <td>ZAR</td>\n",
       "      <td>0.80</td>\n",
       "      <td>0.1321</td>\n",
       "      <td>1</td>\n",
       "      <td>0</td>\n",
       "      <td>0</td>\n",
       "      <td>2000</td>\n",
       "      <td>1</td>\n",
       "    </tr>\n",
       "    <tr>\n",
       "      <th>2000-01-15</th>\n",
       "      <td>Gauteng</td>\n",
       "      <td>West Rand District Municipality</td>\n",
       "      <td>Randfontein</td>\n",
       "      <td>-26.199</td>\n",
       "      <td>27.669</td>\n",
       "      <td>cereals and tubers</td>\n",
       "      <td>Maize (yellow)</td>\n",
       "      <td>KG</td>\n",
       "      <td>actual</td>\n",
       "      <td>Wholesale</td>\n",
       "      <td>ZAR</td>\n",
       "      <td>0.86</td>\n",
       "      <td>0.1413</td>\n",
       "      <td>0</td>\n",
       "      <td>1</td>\n",
       "      <td>0</td>\n",
       "      <td>2000</td>\n",
       "      <td>1</td>\n",
       "    </tr>\n",
       "    <tr>\n",
       "      <th>2000-01-15</th>\n",
       "      <td>Gauteng</td>\n",
       "      <td>West Rand District Municipality</td>\n",
       "      <td>Randfontein</td>\n",
       "      <td>-26.199</td>\n",
       "      <td>27.669</td>\n",
       "      <td>cereals and tubers</td>\n",
       "      <td>Wheat</td>\n",
       "      <td>KG</td>\n",
       "      <td>actual</td>\n",
       "      <td>Wholesale</td>\n",
       "      <td>ZAR</td>\n",
       "      <td>0.65</td>\n",
       "      <td>0.1068</td>\n",
       "      <td>0</td>\n",
       "      <td>0</td>\n",
       "      <td>1</td>\n",
       "      <td>2000</td>\n",
       "      <td>1</td>\n",
       "    </tr>\n",
       "    <tr>\n",
       "      <th>2000-02-15</th>\n",
       "      <td>Gauteng</td>\n",
       "      <td>West Rand District Municipality</td>\n",
       "      <td>Randfontein</td>\n",
       "      <td>-26.199</td>\n",
       "      <td>27.669</td>\n",
       "      <td>cereals and tubers</td>\n",
       "      <td>Maize (white)</td>\n",
       "      <td>KG</td>\n",
       "      <td>actual</td>\n",
       "      <td>Wholesale</td>\n",
       "      <td>ZAR</td>\n",
       "      <td>0.80</td>\n",
       "      <td>0.1260</td>\n",
       "      <td>1</td>\n",
       "      <td>0</td>\n",
       "      <td>0</td>\n",
       "      <td>2000</td>\n",
       "      <td>2</td>\n",
       "    </tr>\n",
       "    <tr>\n",
       "      <th>2000-02-15</th>\n",
       "      <td>Gauteng</td>\n",
       "      <td>West Rand District Municipality</td>\n",
       "      <td>Randfontein</td>\n",
       "      <td>-26.199</td>\n",
       "      <td>27.669</td>\n",
       "      <td>cereals and tubers</td>\n",
       "      <td>Maize (yellow)</td>\n",
       "      <td>KG</td>\n",
       "      <td>actual</td>\n",
       "      <td>Wholesale</td>\n",
       "      <td>ZAR</td>\n",
       "      <td>0.83</td>\n",
       "      <td>0.1305</td>\n",
       "      <td>0</td>\n",
       "      <td>1</td>\n",
       "      <td>0</td>\n",
       "      <td>2000</td>\n",
       "      <td>2</td>\n",
       "    </tr>\n",
       "  </tbody>\n",
       "</table>\n",
       "</div>"
      ],
      "text/plain": [
       "date         admin1                           admin2       market latitude  \\\n",
       "2000-01-15  Gauteng  West Rand District Municipality  Randfontein  -26.199   \n",
       "2000-01-15  Gauteng  West Rand District Municipality  Randfontein  -26.199   \n",
       "2000-01-15  Gauteng  West Rand District Municipality  Randfontein  -26.199   \n",
       "2000-02-15  Gauteng  West Rand District Municipality  Randfontein  -26.199   \n",
       "2000-02-15  Gauteng  West Rand District Municipality  Randfontein  -26.199   \n",
       "\n",
       "date       longitude            category       commodity unit priceflag  \\\n",
       "2000-01-15    27.669  cereals and tubers   Maize (white)   KG    actual   \n",
       "2000-01-15    27.669  cereals and tubers  Maize (yellow)   KG    actual   \n",
       "2000-01-15    27.669  cereals and tubers           Wheat   KG    actual   \n",
       "2000-02-15    27.669  cereals and tubers   Maize (white)   KG    actual   \n",
       "2000-02-15    27.669  cereals and tubers  Maize (yellow)   KG    actual   \n",
       "\n",
       "date        pricetype currency  price  usdprice  Maize (white)  \\\n",
       "2000-01-15  Wholesale      ZAR   0.80    0.1321              1   \n",
       "2000-01-15  Wholesale      ZAR   0.86    0.1413              0   \n",
       "2000-01-15  Wholesale      ZAR   0.65    0.1068              0   \n",
       "2000-02-15  Wholesale      ZAR   0.80    0.1260              1   \n",
       "2000-02-15  Wholesale      ZAR   0.83    0.1305              0   \n",
       "\n",
       "date        Maize (yellow)  Wheat  year  month  \n",
       "2000-01-15               0      0  2000      1  \n",
       "2000-01-15               1      0  2000      1  \n",
       "2000-01-15               0      1  2000      1  \n",
       "2000-02-15               0      0  2000      2  \n",
       "2000-02-15               1      0  2000      2  "
      ]
     },
     "execution_count": 30,
     "metadata": {},
     "output_type": "execute_result"
    }
   ],
   "source": [
    "df=df.rename_axis(\"date\", axis=\"columns\")\n",
    "df.head()"
   ]
  },
  {
   "cell_type": "markdown",
   "metadata": {
    "id": "7kAGa8s98o4C"
   },
   "source": [
    "Downloading data to the csv file"
   ]
  },
  {
   "cell_type": "code",
   "execution_count": 31,
   "metadata": {
    "id": "uMQaXcIgxv7i"
   },
   "outputs": [],
   "source": [
    "df.to_csv('food_prices_cleaned.csv')"
   ]
  },
  {
   "cell_type": "code",
   "execution_count": 32,
   "metadata": {},
   "outputs": [],
   "source": [
    "df.to_csv(\"food_prices_cleaned.csv\", index=False, header=True)"
   ]
  },
  {
   "cell_type": "code",
   "execution_count": 33,
   "metadata": {
    "id": "0Q27HtGg8RMe"
   },
   "outputs": [],
   "source": [
    "#from google.colab import files\n",
    "#df.download(\"food_prices_cleaned.csv\")"
   ]
  },
  {
   "cell_type": "code",
   "execution_count": 34,
   "metadata": {
    "colab": {
     "base_uri": "https://localhost:8080/"
    },
    "id": "NEyQF5igT-J1",
    "outputId": "cfe4bc79-5459-4b50-f477-1945419a1d3c"
   },
   "outputs": [
    {
     "data": {
      "text/plain": [
       "2000    36\n",
       "2012    36\n",
       "2021    36\n",
       "2020    36\n",
       "2019    36\n",
       "2018    36\n",
       "2017    36\n",
       "2016    36\n",
       "2015    36\n",
       "2014    36\n",
       "2013    36\n",
       "2011    36\n",
       "2001    36\n",
       "2010    36\n",
       "2009    36\n",
       "2008    36\n",
       "2007    36\n",
       "2006    36\n",
       "2005    36\n",
       "2004    36\n",
       "2003    36\n",
       "2002    36\n",
       "2022    18\n",
       "Name: year, dtype: int64"
      ]
     },
     "execution_count": 34,
     "metadata": {},
     "output_type": "execute_result"
    }
   ],
   "source": [
    "df['year'].value_counts()"
   ]
  },
  {
   "cell_type": "markdown",
   "metadata": {},
   "source": [
    "### Visualisation\n",
    "- Evaluating the data through visuals"
   ]
  },
  {
   "cell_type": "code",
   "execution_count": 82,
   "metadata": {
    "colab": {
     "base_uri": "https://localhost:8080/",
     "height": 242
    },
    "id": "5Levkm9zVQug",
    "outputId": "b4f454f1-1165-43d4-c49f-2e0f8564669f"
   },
   "outputs": [
    {
     "data": {
      "text/plain": [
       "<seaborn.axisgrid.FacetGrid at 0x1b76f6edd90>"
      ]
     },
     "execution_count": 82,
     "metadata": {},
     "output_type": "execute_result"
    },
    {
     "data": {
      "image/png": "[encoded data removed]",
      "text/plain": [
       "<Figure size 648x216 with 3 Axes>"
      ]
     },
     "metadata": {
      "needs_background": "light"
     },
     "output_type": "display_data"
    }
   ],
   "source": [
    "g = sns.FacetGrid(df, col='commodity')\n",
    "g.map(plt.hist, 'year', bins=20)"
   ]
  },
  {
   "cell_type": "code",
   "execution_count": 87,
   "metadata": {
    "scrolled": true
   },
   "outputs": [
    {
     "data": {
      "image/png": "[encoded data removed]",
      "text/plain": [
       "<Figure size 576x576 with 1 Axes>"
      ]
     },
     "metadata": {
      "needs_background": "light"
     },
     "output_type": "display_data"
    }
   ],
   "source": [
    "from statsmodels.graphics.correlation import plot_corr\n",
    "\n",
    "fig = plt.figure(figsize=(8,8));\n",
    "ax = fig.add_subplot(111);\n",
    "plot_corr(df.corr(), xnames = df.corr().columns, ax = ax);"
   ]
  },
  {
   "cell_type": "code",
   "execution_count": 55,
   "metadata": {},
   "outputs": [
    {
     "data": {
      "text/plain": [
       "<AxesSubplot:>"
      ]
     },
     "execution_count": 55,
     "metadata": {},
     "output_type": "execute_result"
    },
    {
     "data": {
      "image/png": "[encoded data removed]",
      "text/plain": [
       "<Figure size 432x288 with 1 Axes>"
      ]
     },
     "metadata": {
      "needs_background": "light"
     },
     "output_type": "display_data"
    }
   ],
   "source": [
    "df['price'].plot()"
   ]
  },
  {
   "cell_type": "code",
   "execution_count": 92,
   "metadata": {},
   "outputs": [
    {
     "data": {
      "image/png": "[encoded data removed]",
      "text/plain": [
       "<Figure size 432x288 with 1 Axes>"
      ]
     },
     "metadata": {
      "needs_background": "light"
     },
     "output_type": "display_data"
    }
   ],
   "source": [
    "# have a look at feature distributions\n",
    "sns.boxplot(x='price', data=df);"
   ]
  },
  {
   "cell_type": "code",
   "execution_count": 36,
   "metadata": {},
   "outputs": [],
   "source": [
    "# testing for stationarity\n",
    "from statsmodels.tsa.stattools import adfuller"
   ]
  },
  {
   "cell_type": "code",
   "execution_count": 37,
   "metadata": {},
   "outputs": [],
   "source": [
    "test_results = adfuller(df['price'])"
   ]
  },
  {
   "cell_type": "code",
   "execution_count": 42,
   "metadata": {},
   "outputs": [],
   "source": [
    "# Ho: It is none stationary\n",
    "# H1: It is stationary\n",
    "\n",
    "def adfuller_test(price):\n",
    "    result = adfuller(price)\n",
    "    labels = ['ADF Test Statitic', 'p-value', '#Lags Used', 'Number of Observations Used']\n",
    "    for value,label in zip(result,labels):\n",
    "        print(label+ ' : ' +str(value))\n",
    "    if result[1] <= 0.5:\n",
    "        print('strong evidence against the null hypothesis(Ho), reject the null hypothesis. Data hos no unit root and is stationary')\n",
    "    else:\n",
    "        print('Weak evidence, against null hypothesis, time series has a unit root, indicating it is non-stationary')"
   ]
  },
  {
   "cell_type": "code",
   "execution_count": 41,
   "metadata": {},
   "outputs": [
    {
     "name": "stdout",
     "output_type": "stream",
     "text": [
      "ADF Test Statitic : -0.18956686796345154\n",
      "p-value : 0.9397538466008509\n",
      "#Lags Used : 17\n",
      "Number of Observations Used : 792\n",
      "Weak evidence\n"
     ]
    }
   ],
   "source": [
    "adfuller_test(df['price'])"
   ]
  },
  {
   "cell_type": "markdown",
   "metadata": {},
   "source": [
    "### Differencing"
   ]
  },
  {
   "cell_type": "code",
   "execution_count": 49,
   "metadata": {},
   "outputs": [],
   "source": [
    "# creating a new column to view the price shift\n",
    "df['Price First Difference'] = df['price']- df['price'].shift(1)"
   ]
  },
  {
   "cell_type": "code",
   "execution_count": 50,
   "metadata": {},
   "outputs": [],
   "source": [
    "df['Seasonal First Difference'] = df['price']- df['price'].shift(12)"
   ]
  },
  {
   "cell_type": "code",
   "execution_count": 51,
   "metadata": {},
   "outputs": [
    {
     "data": {
      "text/html": [
       "<div>\n",
       "<style scoped>\n",
       "    .dataframe tbody tr th:only-of-type {\n",
       "        vertical-align: middle;\n",
       "    }\n",
       "\n",
       "    .dataframe tbody tr th {\n",
       "        vertical-align: top;\n",
       "    }\n",
       "\n",
       "    .dataframe thead th {\n",
       "        text-align: right;\n",
       "    }\n",
       "</style>\n",
       "<table border=\"1\" class=\"dataframe\">\n",
       "  <thead>\n",
       "    <tr style=\"text-align: right;\">\n",
       "      <th>date</th>\n",
       "      <th>admin1</th>\n",
       "      <th>admin2</th>\n",
       "      <th>market</th>\n",
       "      <th>latitude</th>\n",
       "      <th>longitude</th>\n",
       "      <th>category</th>\n",
       "      <th>commodity</th>\n",
       "      <th>unit</th>\n",
       "      <th>priceflag</th>\n",
       "      <th>pricetype</th>\n",
       "      <th>...</th>\n",
       "      <th>price</th>\n",
       "      <th>usdprice</th>\n",
       "      <th>Maize (white)</th>\n",
       "      <th>Maize (yellow)</th>\n",
       "      <th>Wheat</th>\n",
       "      <th>year</th>\n",
       "      <th>month</th>\n",
       "      <th>price first difference</th>\n",
       "      <th>Seasonal First Difference</th>\n",
       "      <th>Price First Difference</th>\n",
       "    </tr>\n",
       "  </thead>\n",
       "  <tbody>\n",
       "    <tr>\n",
       "      <th>2000-01-15</th>\n",
       "      <td>Gauteng</td>\n",
       "      <td>West Rand District Municipality</td>\n",
       "      <td>Randfontein</td>\n",
       "      <td>-26.199</td>\n",
       "      <td>27.669</td>\n",
       "      <td>cereals and tubers</td>\n",
       "      <td>Maize (white)</td>\n",
       "      <td>KG</td>\n",
       "      <td>actual</td>\n",
       "      <td>Wholesale</td>\n",
       "      <td>...</td>\n",
       "      <td>0.80</td>\n",
       "      <td>0.1321</td>\n",
       "      <td>1</td>\n",
       "      <td>0</td>\n",
       "      <td>0</td>\n",
       "      <td>2000</td>\n",
       "      <td>1</td>\n",
       "      <td>NaN</td>\n",
       "      <td>NaN</td>\n",
       "      <td>NaN</td>\n",
       "    </tr>\n",
       "    <tr>\n",
       "      <th>2000-01-15</th>\n",
       "      <td>Gauteng</td>\n",
       "      <td>West Rand District Municipality</td>\n",
       "      <td>Randfontein</td>\n",
       "      <td>-26.199</td>\n",
       "      <td>27.669</td>\n",
       "      <td>cereals and tubers</td>\n",
       "      <td>Maize (yellow)</td>\n",
       "      <td>KG</td>\n",
       "      <td>actual</td>\n",
       "      <td>Wholesale</td>\n",
       "      <td>...</td>\n",
       "      <td>0.86</td>\n",
       "      <td>0.1413</td>\n",
       "      <td>0</td>\n",
       "      <td>1</td>\n",
       "      <td>0</td>\n",
       "      <td>2000</td>\n",
       "      <td>1</td>\n",
       "      <td>0.06</td>\n",
       "      <td>NaN</td>\n",
       "      <td>0.06</td>\n",
       "    </tr>\n",
       "    <tr>\n",
       "      <th>2000-01-15</th>\n",
       "      <td>Gauteng</td>\n",
       "      <td>West Rand District Municipality</td>\n",
       "      <td>Randfontein</td>\n",
       "      <td>-26.199</td>\n",
       "      <td>27.669</td>\n",
       "      <td>cereals and tubers</td>\n",
       "      <td>Wheat</td>\n",
       "      <td>KG</td>\n",
       "      <td>actual</td>\n",
       "      <td>Wholesale</td>\n",
       "      <td>...</td>\n",
       "      <td>0.65</td>\n",
       "      <td>0.1068</td>\n",
       "      <td>0</td>\n",
       "      <td>0</td>\n",
       "      <td>1</td>\n",
       "      <td>2000</td>\n",
       "      <td>1</td>\n",
       "      <td>-0.21</td>\n",
       "      <td>NaN</td>\n",
       "      <td>-0.21</td>\n",
       "    </tr>\n",
       "    <tr>\n",
       "      <th>2000-02-15</th>\n",
       "      <td>Gauteng</td>\n",
       "      <td>West Rand District Municipality</td>\n",
       "      <td>Randfontein</td>\n",
       "      <td>-26.199</td>\n",
       "      <td>27.669</td>\n",
       "      <td>cereals and tubers</td>\n",
       "      <td>Maize (white)</td>\n",
       "      <td>KG</td>\n",
       "      <td>actual</td>\n",
       "      <td>Wholesale</td>\n",
       "      <td>...</td>\n",
       "      <td>0.80</td>\n",
       "      <td>0.1260</td>\n",
       "      <td>1</td>\n",
       "      <td>0</td>\n",
       "      <td>0</td>\n",
       "      <td>2000</td>\n",
       "      <td>2</td>\n",
       "      <td>0.15</td>\n",
       "      <td>NaN</td>\n",
       "      <td>0.15</td>\n",
       "    </tr>\n",
       "    <tr>\n",
       "      <th>2000-02-15</th>\n",
       "      <td>Gauteng</td>\n",
       "      <td>West Rand District Municipality</td>\n",
       "      <td>Randfontein</td>\n",
       "      <td>-26.199</td>\n",
       "      <td>27.669</td>\n",
       "      <td>cereals and tubers</td>\n",
       "      <td>Maize (yellow)</td>\n",
       "      <td>KG</td>\n",
       "      <td>actual</td>\n",
       "      <td>Wholesale</td>\n",
       "      <td>...</td>\n",
       "      <td>0.83</td>\n",
       "      <td>0.1305</td>\n",
       "      <td>0</td>\n",
       "      <td>1</td>\n",
       "      <td>0</td>\n",
       "      <td>2000</td>\n",
       "      <td>2</td>\n",
       "      <td>0.03</td>\n",
       "      <td>NaN</td>\n",
       "      <td>0.03</td>\n",
       "    </tr>\n",
       "  </tbody>\n",
       "</table>\n",
       "<p>5 rows × 21 columns</p>\n",
       "</div>"
      ],
      "text/plain": [
       "date         admin1                           admin2       market latitude  \\\n",
       "2000-01-15  Gauteng  West Rand District Municipality  Randfontein  -26.199   \n",
       "2000-01-15  Gauteng  West Rand District Municipality  Randfontein  -26.199   \n",
       "2000-01-15  Gauteng  West Rand District Municipality  Randfontein  -26.199   \n",
       "2000-02-15  Gauteng  West Rand District Municipality  Randfontein  -26.199   \n",
       "2000-02-15  Gauteng  West Rand District Municipality  Randfontein  -26.199   \n",
       "\n",
       "date       longitude            category       commodity unit priceflag  \\\n",
       "2000-01-15    27.669  cereals and tubers   Maize (white)   KG    actual   \n",
       "2000-01-15    27.669  cereals and tubers  Maize (yellow)   KG    actual   \n",
       "2000-01-15    27.669  cereals and tubers           Wheat   KG    actual   \n",
       "2000-02-15    27.669  cereals and tubers   Maize (white)   KG    actual   \n",
       "2000-02-15    27.669  cereals and tubers  Maize (yellow)   KG    actual   \n",
       "\n",
       "date        pricetype  ... price  usdprice  Maize (white)  Maize (yellow)  \\\n",
       "2000-01-15  Wholesale  ...  0.80    0.1321              1               0   \n",
       "2000-01-15  Wholesale  ...  0.86    0.1413              0               1   \n",
       "2000-01-15  Wholesale  ...  0.65    0.1068              0               0   \n",
       "2000-02-15  Wholesale  ...  0.80    0.1260              1               0   \n",
       "2000-02-15  Wholesale  ...  0.83    0.1305              0               1   \n",
       "\n",
       "date        Wheat  year  month  price first difference  \\\n",
       "2000-01-15      0  2000      1                     NaN   \n",
       "2000-01-15      0  2000      1                    0.06   \n",
       "2000-01-15      1  2000      1                   -0.21   \n",
       "2000-02-15      0  2000      2                    0.15   \n",
       "2000-02-15      0  2000      2                    0.03   \n",
       "\n",
       "date        Seasonal First Difference  Price First Difference  \n",
       "2000-01-15                        NaN                     NaN  \n",
       "2000-01-15                        NaN                    0.06  \n",
       "2000-01-15                        NaN                   -0.21  \n",
       "2000-02-15                        NaN                    0.15  \n",
       "2000-02-15                        NaN                    0.03  \n",
       "\n",
       "[5 rows x 21 columns]"
      ]
     },
     "execution_count": 51,
     "metadata": {},
     "output_type": "execute_result"
    }
   ],
   "source": [
    "df.head()"
   ]
  },
  {
   "cell_type": "code",
   "execution_count": 52,
   "metadata": {},
   "outputs": [
    {
     "name": "stdout",
     "output_type": "stream",
     "text": [
      "ADF Test Statitic : -5.349831404701634\n",
      "p-value : 4.313719434325066e-06\n",
      "#Lags Used : 14\n",
      "Number of Observations Used : 783\n",
      "strong evidence against the null hypothesis(Ho), reject the null hypothesis. Data hos no unit root and is stationary\n"
     ]
    }
   ],
   "source": [
    "# again test dickey adfuller test\n",
    "adfuller_test(df['Seasonal First Difference'].dropna())"
   ]
  },
  {
   "cell_type": "code",
   "execution_count": 53,
   "metadata": {},
   "outputs": [
    {
     "data": {
      "text/plain": [
       "<AxesSubplot:>"
      ]
     },
     "execution_count": 53,
     "metadata": {},
     "output_type": "execute_result"
    },
    {
     "data": {
      "image/png": "[encoded data removed]",
      "text/plain": [
       "<Figure size 432x288 with 1 Axes>"
      ]
     },
     "metadata": {
      "needs_background": "light"
     },
     "output_type": "display_data"
    }
   ],
   "source": [
    "df['Seasonal First Difference'].plot()"
   ]
  },
  {
   "cell_type": "markdown",
   "metadata": {},
   "source": [
    "### Auto Regressive Model\n",
    "\n",
    "The Autoregressive Model, or AR model for short, relies only on past period values to predict current ones. It’s a linear model, where current period values are a sum of past outcomes multiplied by a numeric factor. We denote it as AR(p), where “p” is called the order of the model and represents the number of lagged values we want to include.\n",
    "\n",
    "   ##### AR Formula\n",
    "            yt =c +ϕ1yt−1 +ϕ2yt−2 +⋯+ϕpyt−p +εt"
   ]
  },
  {
   "cell_type": "code",
   "execution_count": 57,
   "metadata": {},
   "outputs": [
    {
     "data": {
      "image/png": "[encoded data removed]",
      "text/plain": [
       "<Figure size 432x288 with 1 Axes>"
      ]
     },
     "metadata": {
      "needs_background": "light"
     },
     "output_type": "display_data"
    }
   ],
   "source": [
    "from pandas.plotting import autocorrelation_plot\n",
    "autocorrelation_plot(df['price'])\n",
    "plt.show()"
   ]
  },
  {
   "cell_type": "code",
   "execution_count": 89,
   "metadata": {},
   "outputs": [
    {
     "ename": "ModuleNotFoundError",
     "evalue": "No module named 'statsmodels.graphics.tsaplot'",
     "output_type": "error",
     "traceback": [
      "\u001b[1;31m---------------------------------------------------------------------------\u001b[0m",
      "\u001b[1;31mModuleNotFoundError\u001b[0m                       Traceback (most recent call last)",
      "Input \u001b[1;32mIn [89]\u001b[0m, in \u001b[0;36m<cell line: 1>\u001b[1;34m()\u001b[0m\n\u001b[1;32m----> 1\u001b[0m \u001b[38;5;28;01mfrom\u001b[39;00m \u001b[38;5;21;01mstatsmodels\u001b[39;00m\u001b[38;5;21;01m.\u001b[39;00m\u001b[38;5;21;01mgraphics\u001b[39;00m\u001b[38;5;21;01m.\u001b[39;00m\u001b[38;5;21;01mtsaplot\u001b[39;00m \u001b[38;5;28;01mimport\u001b[39;00m plot_acf, plot_pacf\n\u001b[0;32m      2\u001b[0m \u001b[38;5;28;01mimport\u001b[39;00m \u001b[38;5;21;01mpandas\u001b[39;00m \u001b[38;5;28;01mas\u001b[39;00m \u001b[38;5;21;01mpd\u001b[39;00m\n\u001b[0;32m      3\u001b[0m \u001b[38;5;28;01mimport\u001b[39;00m \u001b[38;5;21;01mmatplotlib\u001b[39;00m\u001b[38;5;21;01m.\u001b[39;00m\u001b[38;5;21;01mpyplot\u001b[39;00m \u001b[38;5;28;01mas\u001b[39;00m \u001b[38;5;21;01mplt\u001b[39;00m\n",
      "\u001b[1;31mModuleNotFoundError\u001b[0m: No module named 'statsmodels.graphics.tsaplot'"
     ]
    }
   ],
   "source": [
    "from statsmodels.graphics.tsaplot import plot_acf, plot_pacf\n",
    "import pandas as pd\n",
    "import matplotlib.pyplot as plt\n",
    "import statsmodels.api as sm\n",
    "from . import __version__\n",
    "\n",
    "df = sm.datasets.sunspots.load_pandas().data\n",
    "#df.index = pd.Index(sm.tsa.datetools.dates_from_range('1700', '2008'))\n",
    "del dta[\"YEAR\"]\n",
    "#print if you want to visualize\n",
    "#print(dta.head())\n",
    "\n",
    "fig = plt.figure(figsize=(12,8))\n",
    "ax1 = fig.add_subplot(211)\n",
    "fig = sm.graphics.tsa.plot_acf(df['Seasonal First Difference'].iloc[13:], lags=40, ax=ax1)\n",
    "ax2 = fig.add_subplot(212)\n",
    "fig = sm.graphics.tsa.plot_pacf(df['Seasonal First Difference'].iloc[13:], lags=40, ax=ax2)"
   ]
  },
  {
   "cell_type": "markdown",
   "metadata": {},
   "source": [
    "### Modeling"
   ]
  },
  {
   "cell_type": "code",
   "execution_count": 74,
   "metadata": {},
   "outputs": [],
   "source": [
    "from statsmodels.tsa.arima_model import ARIMA"
   ]
  },
  {
   "cell_type": "code",
   "execution_count": 75,
   "metadata": {},
   "outputs": [],
   "source": [
    "df_train = df[0:25]\n",
    "df_test = df[25:36]"
   ]
  },
  {
   "cell_type": "code",
   "execution_count": 79,
   "metadata": {},
   "outputs": [
    {
     "ename": "NotImplementedError",
     "evalue": "\nstatsmodels.tsa.arima_model.ARMA and statsmodels.tsa.arima_model.ARIMA have\nbeen removed in favor of statsmodels.tsa.arima.model.ARIMA (note the .\nbetween arima and model) and statsmodels.tsa.SARIMAX.\n\nstatsmodels.tsa.arima.model.ARIMA makes use of the statespace framework and\nis both well tested and maintained. It also offers alternative specialized\nparameter estimators.\n",
     "output_type": "error",
     "traceback": [
      "\u001b[1;31m---------------------------------------------------------------------------\u001b[0m",
      "\u001b[1;31mNotImplementedError\u001b[0m                       Traceback (most recent call last)",
      "Input \u001b[1;32mIn [79]\u001b[0m, in \u001b[0;36m<cell line: 1>\u001b[1;34m()\u001b[0m\n\u001b[1;32m----> 1\u001b[0m df_model \u001b[38;5;241m=\u001b[39m \u001b[43mARIMA\u001b[49m\u001b[43m(\u001b[49m\u001b[43mdf_train\u001b[49m\u001b[43m,\u001b[49m\u001b[43m \u001b[49m\u001b[43morder\u001b[49m\u001b[38;5;241;43m=\u001b[39;49m\u001b[43m(\u001b[49m\u001b[38;5;241;43m3\u001b[39;49m\u001b[43m,\u001b[49m\u001b[38;5;241;43m2\u001b[39;49m\u001b[43m,\u001b[49m\u001b[38;5;241;43m1\u001b[39;49m\u001b[43m)\u001b[49m\u001b[43m)\u001b[49m\n",
      "File \u001b[1;32m~\\Anaconda3\\lib\\site-packages\\statsmodels\\tsa\\arima_model.py:45\u001b[0m, in \u001b[0;36mARIMA.__init__\u001b[1;34m(self, *args, **kwargs)\u001b[0m\n\u001b[0;32m     44\u001b[0m \u001b[38;5;28;01mdef\u001b[39;00m \u001b[38;5;21m__init__\u001b[39m(\u001b[38;5;28mself\u001b[39m, \u001b[38;5;241m*\u001b[39margs, \u001b[38;5;241m*\u001b[39m\u001b[38;5;241m*\u001b[39mkwargs):\n\u001b[1;32m---> 45\u001b[0m     \u001b[38;5;28msuper\u001b[39m()\u001b[38;5;241m.\u001b[39m\u001b[38;5;21m__init__\u001b[39m(\u001b[38;5;241m*\u001b[39margs, \u001b[38;5;241m*\u001b[39m\u001b[38;5;241m*\u001b[39mkwargs)\n",
      "File \u001b[1;32m~\\Anaconda3\\lib\\site-packages\\statsmodels\\tsa\\arima_model.py:29\u001b[0m, in \u001b[0;36mARMA.__init__\u001b[1;34m(self, *args, **kwargs)\u001b[0m\n\u001b[0;32m     28\u001b[0m \u001b[38;5;28;01mdef\u001b[39;00m \u001b[38;5;21m__init__\u001b[39m(\u001b[38;5;28mself\u001b[39m, \u001b[38;5;241m*\u001b[39margs, \u001b[38;5;241m*\u001b[39m\u001b[38;5;241m*\u001b[39mkwargs):\n\u001b[1;32m---> 29\u001b[0m     \u001b[38;5;28;01mraise\u001b[39;00m \u001b[38;5;167;01mNotImplementedError\u001b[39;00m(ARIMA_DEPRECATION_ERROR)\n",
      "\u001b[1;31mNotImplementedError\u001b[0m: \nstatsmodels.tsa.arima_model.ARMA and statsmodels.tsa.arima_model.ARIMA have\nbeen removed in favor of statsmodels.tsa.arima.model.ARIMA (note the .\nbetween arima and model) and statsmodels.tsa.SARIMAX.\n\nstatsmodels.tsa.arima.model.ARIMA makes use of the statespace framework and\nis both well tested and maintained. It also offers alternative specialized\nparameter estimators.\n"
     ]
    }
   ],
   "source": [
    "df_model = ARIMA(df_train, order=(3,2,1))"
   ]
  },
  {
   "cell_type": "code",
   "execution_count": 82,
   "metadata": {},
   "outputs": [
    {
     "ename": "NameError",
     "evalue": "name 'df_model' is not defined",
     "output_type": "error",
     "traceback": [
      "\u001b[1;31m---------------------------------------------------------------------------\u001b[0m",
      "\u001b[1;31mNameError\u001b[0m                                 Traceback (most recent call last)",
      "Input \u001b[1;32mIn [82]\u001b[0m, in \u001b[0;36m<cell line: 1>\u001b[1;34m()\u001b[0m\n\u001b[1;32m----> 1\u001b[0m df_model\u001b[38;5;241m.\u001b[39mfit \u001b[38;5;241m=\u001b[39m \u001b[43mdf_model\u001b[49m\u001b[38;5;241m.\u001b[39mfit()\n\u001b[0;32m      2\u001b[0m df_model\u001b[38;5;241m.\u001b[39maic\n",
      "\u001b[1;31mNameError\u001b[0m: name 'df_model' is not defined"
     ]
    }
   ],
   "source": [
    "df_model.fit = df_model.fit()\n",
    "df_model.aic"
   ]
  },
  {
   "cell_type": "code",
   "execution_count": null,
   "metadata": {},
   "outputs": [],
   "source": [
    "df_forecast = df_model_fit.forecast(steps = 11)[0]"
   ]
  },
  {
   "cell_type": "code",
   "execution_count": null,
   "metadata": {},
   "outputs": [],
   "source": [
    "np.sqrt(mean_squared_error(df_test, df_forecast))"
   ]
  },
  {
   "cell_type": "code",
   "execution_count": null,
   "metadata": {},
   "outputs": [],
   "source": [
    "p_values = range(0,5)\n",
    "d_values = range(0,3)\n",
    "q_values = range(0,5)"
   ]
  },
  {
   "cell_type": "code",
   "execution_count": null,
   "metadata": {},
   "outputs": [],
   "source": [
    "import warnings\n",
    "warnings.filterwarnings('ignore')"
   ]
  },
  {
   "cell_type": "code",
   "execution_count": null,
   "metadata": {},
   "outputs": [],
   "source": [
    "for p in p values:\n",
    "    for d in d_values:\n",
    "        for q in q_valus:\n",
    "            order = (p,d,q)\n",
    "            train,test = df[0:25], df[25:36]\n",
    "            pred = list()\n",
    "            for i in range(len(test)):\n",
    "                try:\n",
    "                    model = ARIMA(train,order)\n",
    "                    model_fit = model.fit(disp=0)\n",
    "                    pred_y = model_fit.forecast()[0]\n",
    "                    pred.append(pred_y)\n",
    "                    erroe = mean_squared_error(test,pred)\n",
    "                    print('ARIMA%S MSE = %.2f')"
   ]
  }
 ],
 "metadata": {
  "colab": {
   "authorship_tag": "ABX9TyOsY35tOXoVuFb+QGXeiHYE",
   "include_colab_link": true,
   "provenance": []
  },
  "kernelspec": {
   "display_name": "Python 3 (ipykernel)",
   "language": "python",
   "name": "python3"
  },
  "language_info": {
   "codemirror_mode": {
    "name": "ipython",
    "version": 3
   },
   "file_extension": ".py",
   "mimetype": "text/x-python",
   "name": "python",
   "nbconvert_exporter": "python",
   "pygments_lexer": "ipython3",
   "version": "3.9.12"
  }
 },
 "nbformat": 4,
 "nbformat_minor": 1
}
