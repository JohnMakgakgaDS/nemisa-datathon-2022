{
<<<<<<< HEAD
 "cells": [
  {
   "cell_type": "markdown",
   "metadata": {
    "colab_type": "text",
    "id": "view-in-github"
   },
   "source": [
    "<a href=\"https://colab.research.google.com/github/JohnMakgakgaDS/nemisa-datathon-2022/blob/main/food_prices.ipynb\" target=\"_parent\"><img src=\"https://colab.research.google.com/assets/colab-badge.svg\" alt=\"Open In Colab\"/></a>"
   ]
  },
  {
   "cell_type": "markdown",
   "metadata": {},
   "source": [
    "# South Africa - Food Prices Humanitarian Data Exchange \n",
    "## Data Overview\n",
    "\n",
    "This dataset contains Food Prices data for South Africa, sourced from the World Food Programme Price Database. The World Food Programme Price Database covers foods such as maize, rice, beans, fish, and sugar for 98 countries and some 3000 markets. It is updated weekly but contains to a large extent monthly data. The data goes back as far as 1992 for a few countries, although many countries started reporting from 2003 or thereafter.\n",
    "\n",
    "## Problem statement\n"
   ]
  },
  {
   "cell_type": "markdown",
   "metadata": {},
   "source": [
    "## Tabele of Content\n",
    "\n",
    "1. Importing Packages\n",
    "\n",
    "2. Loading Data\n",
    "\n",
    "3. Exploratory Data Analysis (EDA)\n",
    "\n",
    "4. Data Engineering\n",
    "\n",
    "5. Modeling\n",
    "\n",
    "6. Model Performance\n",
    "\n",
    "7. Model Explanations"
   ]
  },
  {
   "cell_type": "markdown",
   "metadata": {},
   "source": [
    "### Importing Packages"
   ]
  },
  {
   "cell_type": "code",
   "execution_count": null,
   "metadata": {},
   "outputs": [],
   "source": [
    "#from google.colab import files\n",
    "#uploaded = files.upload()"
   ]
  },
  {
   "cell_type": "code",
   "execution_count": 2,
   "metadata": {
    "id": "05b0uT1GN43Y"
   },
   "outputs": [],
   "source": [
    "# data analysis and wrangling\n",
    "import pandas as pd\n",
    "import numpy as np\n",
    "import random as rnd\n",
    "import pandas as pd\n",
    "import datetime\n",
    "\n",
    "# visualization\n",
    "import seaborn as sns\n",
    "import matplotlib.pyplot as plt\n",
    "%matplotlib inline"
   ]
  },
  {
   "cell_type": "markdown",
   "metadata": {},
   "source": [
    "### Loading data\n",
    "- In this section you are required to load the data into a DataFrame."
   ]
  },
  {
   "cell_type": "code",
   "execution_count": 5,
   "metadata": {
    "id": "4suGxcYONe4S"
   },
   "outputs": [],
   "source": [
    "# load data\n",
    "df = pd.read_csv(\"wfp_food_prices_zaf.csv\")"
   ]
  },
  {
   "cell_type": "markdown",
   "metadata": {},
   "source": [
    "### Exploratory Data Analysis\n",
    "- You are required to perform an in-depth analysis of all the variables in the DataFrame."
   ]
  },
  {
   "cell_type": "code",
   "execution_count": 6,
   "metadata": {
    "colab": {
     "base_uri": "https://localhost:8080/",
     "height": 206
    },
    "id": "hK-o4U38N1Tt",
    "outputId": "cef89c13-1013-4a76-9123-0029318ef649",
    "scrolled": true
   },
   "outputs": [
=======
  "cells": [
>>>>>>> e31f86b8802a04a1962850d49d4f7a33f00da512
    {
      "cell_type": "markdown",
      "metadata": {
        "id": "view-in-github",
        "colab_type": "text"
      },
      "source": [
        "<a href=\"https://colab.research.google.com/github/JohnMakgakgaDS/nemisa-datathon-2022/blob/main/food_prices2.ipynb\" target=\"_parent\"><img src=\"https://colab.research.google.com/assets/colab-badge.svg\" alt=\"Open In Colab\"/></a>"
      ]
    },
    {
      "cell_type": "markdown",
      "metadata": {
        "id": "AiRt3PVSUVnM"
      },
      "source": [
        "# South Africa - Food Prices Humanitarian Data Exchange \n",
        "## Data Overview\n",
        "\n",
        "This dataset contains Food Prices data for South Africa, sourced from the World Food Programme Price Database. The World Food Programme Price Database covers foods such as maize, rice, beans, fish, and sugar for 98 countries and some 3000 markets. It is updated weekly but contains to a large extent monthly data. The data goes back as far as 1992 for a few countries, although many countries started reporting from 2003 or thereafter.\n",
        "\n",
        "## Problem statement\n",
        "what is the likelyhood of the prices increasing in the next years ?"
      ]
    },
    {
      "cell_type": "markdown",
      "metadata": {
        "id": "FBwLsRjGUVng"
      },
      "source": [
        "A picture describing what we're doing"
      ]
    },
    {
      "cell_type": "markdown",
      "metadata": {
        "id": "E9nqBDFaUVnh"
      },
      "source": [
        "## Tabele of Content\n",
        "\n",
        "1. Importing Packages\n",
        "\n",
        "2. Loading Data\n",
        "\n",
        "3. Exploratory Data Analysis (EDA)\n",
        "\n",
        "4. Data Engineering\n",
        "\n",
        "5. Modeling\n",
        "\n",
        "6. Model Performance\n",
        "\n",
        "7. Model Explanations"
      ]
    },
    {
      "cell_type": "markdown",
      "metadata": {
        "id": "070k8LoLUVnk"
      },
      "source": [
        "### Importing Packages"
      ]
    },
    {
      "cell_type": "code",
      "execution_count": null,
      "metadata": {
        "id": "tOIUWnpdUVnm",
        "outputId": "cf4f9626-e0fb-4a1e-e39b-d7931e960fd5",
        "colab": {
          "base_uri": "https://localhost:8080/",
          "height": 73
        }
      },
      "outputs": [
        {
          "output_type": "display_data",
          "data": {
            "text/plain": [
              "<IPython.core.display.HTML object>"
            ],
            "text/html": [
              "\n",
              "     <input type=\"file\" id=\"files-cbef34ae-a731-4558-b267-3507317f5795\" name=\"files[]\" multiple disabled\n",
              "        style=\"border:none\" />\n",
              "     <output id=\"result-cbef34ae-a731-4558-b267-3507317f5795\">\n",
              "      Upload widget is only available when the cell has been executed in the\n",
              "      current browser session. Please rerun this cell to enable.\n",
              "      </output>\n",
              "      <script>// Copyright 2017 Google LLC\n",
              "//\n",
              "// Licensed under the Apache License, Version 2.0 (the \"License\");\n",
              "// you may not use this file except in compliance with the License.\n",
              "// You may obtain a copy of the License at\n",
              "//\n",
              "//      http://www.apache.org/licenses/LICENSE-2.0\n",
              "//\n",
              "// Unless required by applicable law or agreed to in writing, software\n",
              "// distributed under the License is distributed on an \"AS IS\" BASIS,\n",
              "// WITHOUT WARRANTIES OR CONDITIONS OF ANY KIND, either express or implied.\n",
              "// See the License for the specific language governing permissions and\n",
              "// limitations under the License.\n",
              "\n",
              "/**\n",
              " * @fileoverview Helpers for google.colab Python module.\n",
              " */\n",
              "(function(scope) {\n",
              "function span(text, styleAttributes = {}) {\n",
              "  const element = document.createElement('span');\n",
              "  element.textContent = text;\n",
              "  for (const key of Object.keys(styleAttributes)) {\n",
              "    element.style[key] = styleAttributes[key];\n",
              "  }\n",
              "  return element;\n",
              "}\n",
              "\n",
              "// Max number of bytes which will be uploaded at a time.\n",
              "const MAX_PAYLOAD_SIZE = 100 * 1024;\n",
              "\n",
              "function _uploadFiles(inputId, outputId) {\n",
              "  const steps = uploadFilesStep(inputId, outputId);\n",
              "  const outputElement = document.getElementById(outputId);\n",
              "  // Cache steps on the outputElement to make it available for the next call\n",
              "  // to uploadFilesContinue from Python.\n",
              "  outputElement.steps = steps;\n",
              "\n",
              "  return _uploadFilesContinue(outputId);\n",
              "}\n",
              "\n",
              "// This is roughly an async generator (not supported in the browser yet),\n",
              "// where there are multiple asynchronous steps and the Python side is going\n",
              "// to poll for completion of each step.\n",
              "// This uses a Promise to block the python side on completion of each step,\n",
              "// then passes the result of the previous step as the input to the next step.\n",
              "function _uploadFilesContinue(outputId) {\n",
              "  const outputElement = document.getElementById(outputId);\n",
              "  const steps = outputElement.steps;\n",
              "\n",
              "  const next = steps.next(outputElement.lastPromiseValue);\n",
              "  return Promise.resolve(next.value.promise).then((value) => {\n",
              "    // Cache the last promise value to make it available to the next\n",
              "    // step of the generator.\n",
              "    outputElement.lastPromiseValue = value;\n",
              "    return next.value.response;\n",
              "  });\n",
              "}\n",
              "\n",
              "/**\n",
              " * Generator function which is called between each async step of the upload\n",
              " * process.\n",
              " * @param {string} inputId Element ID of the input file picker element.\n",
              " * @param {string} outputId Element ID of the output display.\n",
              " * @return {!Iterable<!Object>} Iterable of next steps.\n",
              " */\n",
              "function* uploadFilesStep(inputId, outputId) {\n",
              "  const inputElement = document.getElementById(inputId);\n",
              "  inputElement.disabled = false;\n",
              "\n",
              "  const outputElement = document.getElementById(outputId);\n",
              "  outputElement.innerHTML = '';\n",
              "\n",
              "  const pickedPromise = new Promise((resolve) => {\n",
              "    inputElement.addEventListener('change', (e) => {\n",
              "      resolve(e.target.files);\n",
              "    });\n",
              "  });\n",
              "\n",
              "  const cancel = document.createElement('button');\n",
              "  inputElement.parentElement.appendChild(cancel);\n",
              "  cancel.textContent = 'Cancel upload';\n",
              "  const cancelPromise = new Promise((resolve) => {\n",
              "    cancel.onclick = () => {\n",
              "      resolve(null);\n",
              "    };\n",
              "  });\n",
              "\n",
              "  // Wait for the user to pick the files.\n",
              "  const files = yield {\n",
              "    promise: Promise.race([pickedPromise, cancelPromise]),\n",
              "    response: {\n",
              "      action: 'starting',\n",
              "    }\n",
              "  };\n",
              "\n",
              "  cancel.remove();\n",
              "\n",
              "  // Disable the input element since further picks are not allowed.\n",
              "  inputElement.disabled = true;\n",
              "\n",
              "  if (!files) {\n",
              "    return {\n",
              "      response: {\n",
              "        action: 'complete',\n",
              "      }\n",
              "    };\n",
              "  }\n",
              "\n",
              "  for (const file of files) {\n",
              "    const li = document.createElement('li');\n",
              "    li.append(span(file.name, {fontWeight: 'bold'}));\n",
              "    li.append(span(\n",
              "        `(${file.type || 'n/a'}) - ${file.size} bytes, ` +\n",
              "        `last modified: ${\n",
              "            file.lastModifiedDate ? file.lastModifiedDate.toLocaleDateString() :\n",
              "                                    'n/a'} - `));\n",
              "    const percent = span('0% done');\n",
              "    li.appendChild(percent);\n",
              "\n",
              "    outputElement.appendChild(li);\n",
              "\n",
              "    const fileDataPromise = new Promise((resolve) => {\n",
              "      const reader = new FileReader();\n",
              "      reader.onload = (e) => {\n",
              "        resolve(e.target.result);\n",
              "      };\n",
              "      reader.readAsArrayBuffer(file);\n",
              "    });\n",
              "    // Wait for the data to be ready.\n",
              "    let fileData = yield {\n",
              "      promise: fileDataPromise,\n",
              "      response: {\n",
              "        action: 'continue',\n",
              "      }\n",
              "    };\n",
              "\n",
              "    // Use a chunked sending to avoid message size limits. See b/62115660.\n",
              "    let position = 0;\n",
              "    do {\n",
              "      const length = Math.min(fileData.byteLength - position, MAX_PAYLOAD_SIZE);\n",
              "      const chunk = new Uint8Array(fileData, position, length);\n",
              "      position += length;\n",
              "\n",
              "      const base64 = btoa(String.fromCharCode.apply(null, chunk));\n",
              "      yield {\n",
              "        response: {\n",
              "          action: 'append',\n",
              "          file: file.name,\n",
              "          data: base64,\n",
              "        },\n",
              "      };\n",
              "\n",
              "      let percentDone = fileData.byteLength === 0 ?\n",
              "          100 :\n",
              "          Math.round((position / fileData.byteLength) * 100);\n",
              "      percent.textContent = `${percentDone}% done`;\n",
              "\n",
              "    } while (position < fileData.byteLength);\n",
              "  }\n",
              "\n",
              "  // All done.\n",
              "  yield {\n",
              "    response: {\n",
              "      action: 'complete',\n",
              "    }\n",
              "  };\n",
              "}\n",
              "\n",
              "scope.google = scope.google || {};\n",
              "scope.google.colab = scope.google.colab || {};\n",
              "scope.google.colab._files = {\n",
              "  _uploadFiles,\n",
              "  _uploadFilesContinue,\n",
              "};\n",
              "})(self);\n",
              "</script> "
            ]
          },
          "metadata": {}
        },
        {
          "output_type": "stream",
          "name": "stdout",
          "text": [
            "Saving wfp_food_prices_zaf.csv to wfp_food_prices_zaf.csv\n"
          ]
        }
      ],
      "source": [
        "#uploading data from local files\n",
        "from google.colab import files\n",
        "uploaded = files.upload()"
      ]
<<<<<<< HEAD
     },
     "execution_count": 6,
     "metadata": {},
     "output_type": "execute_result"
    }
   ],
   "source": [
    "# display the first 5 columns of the table\n",
    "df.head()"
   ]
  },
  {
   "cell_type": "code",
   "execution_count": 7,
   "metadata": {
    "colab": {
     "base_uri": "https://localhost:8080/"
=======
>>>>>>> e31f86b8802a04a1962850d49d4f7a33f00da512
    },
    {
      "cell_type": "code",
      "execution_count": null,
      "metadata": {
        "id": "05b0uT1GN43Y"
      },
      "outputs": [],
      "source": [
        "# data analysis and wrangling\n",
        "import pandas as pd\n",
        "import numpy as np\n",
        "import random as rnd\n",
        "import pandas as pd\n",
        "import datetime\n",
        "\n",
        "# visualization\n",
        "import seaborn as sns\n",
        "import matplotlib.pyplot as plt\n",
        "%matplotlib inline"
      ]
<<<<<<< HEAD
     },
     "execution_count": 7,
     "metadata": {},
     "output_type": "execute_result"
    }
   ],
   "source": [
    "# look at data statistics\n",
    "# number of columns & rows\n",
    "df.shape"
   ]
  },
  {
   "cell_type": "code",
   "execution_count": 8,
   "metadata": {},
   "outputs": [
=======
    },
>>>>>>> e31f86b8802a04a1962850d49d4f7a33f00da512
    {
      "cell_type": "markdown",
      "metadata": {
        "id": "SeQTyEvQUVns"
      },
      "source": [
        "### Loading data\n",
        "- In this section you are required to load the data into a DataFrame."
      ]
<<<<<<< HEAD
     },
     "execution_count": 8,
     "metadata": {},
     "output_type": "execute_result"
    }
   ],
   "source": [
    "# sum of all available nulls\n",
    "df.isna().sum()"
   ]
  },
  {
   "cell_type": "code",
   "execution_count": 9,
   "metadata": {},
   "outputs": [
=======
    },
>>>>>>> e31f86b8802a04a1962850d49d4f7a33f00da512
    {
      "cell_type": "code",
      "execution_count": null,
      "metadata": {
        "id": "4suGxcYONe4S"
      },
      "outputs": [],
      "source": [
        "# load data\n",
        "df = pd.read_csv(\"wfp_food_prices_zaf.csv\")"
      ]
    },
    {
      "cell_type": "markdown",
      "metadata": {
        "id": "AtlCJ7luUVnv"
      },
      "source": [
        "### Exploratory Data Analysis\n",
        "- You are required to perform an in-depth analysis of all the variables in the DataFrame."
      ]
    },
    {
      "cell_type": "code",
      "execution_count": null,
      "metadata": {
        "colab": {
          "base_uri": "https://localhost:8080/",
          "height": 409
        },
        "id": "hK-o4U38N1Tt",
        "outputId": "1f208aec-7975-4451-bb7f-5f15dbff8ec7",
        "scrolled": true
      },
      "outputs": [
        {
          "output_type": "execute_result",
          "data": {
            "text/plain": [
              "         date      admin1                           admin2            market  \\\n",
              "0       #date  #adm1+name                       #adm2+name  #loc+market+name   \n",
              "1  2000-01-15     Gauteng  West Rand District Municipality       Randfontein   \n",
              "2  2000-01-15     Gauteng  West Rand District Municipality       Randfontein   \n",
              "3  2000-01-15     Gauteng  West Rand District Municipality       Randfontein   \n",
              "4  2000-02-15     Gauteng  West Rand District Municipality       Randfontein   \n",
              "\n",
              "   latitude longitude            category       commodity        unit  \\\n",
              "0  #geo+lat  #geo+lon          #item+type      #item+name  #item+unit   \n",
              "1   -26.199    27.669  cereals and tubers   Maize (white)          KG   \n",
              "2   -26.199    27.669  cereals and tubers  Maize (yellow)          KG   \n",
              "3   -26.199    27.669  cereals and tubers           Wheat          KG   \n",
              "4   -26.199    27.669  cereals and tubers   Maize (white)          KG   \n",
              "\n",
              "          priceflag         pricetype   currency   price    usdprice  \n",
              "0  #item+price+flag  #item+price+type  #currency  #value  #value+usd  \n",
              "1            actual         Wholesale        ZAR     0.8      0.1321  \n",
              "2            actual         Wholesale        ZAR    0.86      0.1413  \n",
              "3            actual         Wholesale        ZAR    0.65      0.1068  \n",
              "4            actual         Wholesale        ZAR     0.8       0.126  "
            ],
            "text/html": [
              "\n",
              "  <div id=\"df-849bb259-c262-455d-9a00-9f7e75ab698e\">\n",
              "    <div class=\"colab-df-container\">\n",
              "      <div>\n",
              "<style scoped>\n",
              "    .dataframe tbody tr th:only-of-type {\n",
              "        vertical-align: middle;\n",
              "    }\n",
              "\n",
              "    .dataframe tbody tr th {\n",
              "        vertical-align: top;\n",
              "    }\n",
              "\n",
              "    .dataframe thead th {\n",
              "        text-align: right;\n",
              "    }\n",
              "</style>\n",
              "<table border=\"1\" class=\"dataframe\">\n",
              "  <thead>\n",
              "    <tr style=\"text-align: right;\">\n",
              "      <th></th>\n",
              "      <th>date</th>\n",
              "      <th>admin1</th>\n",
              "      <th>admin2</th>\n",
              "      <th>market</th>\n",
              "      <th>latitude</th>\n",
              "      <th>longitude</th>\n",
              "      <th>category</th>\n",
              "      <th>commodity</th>\n",
              "      <th>unit</th>\n",
              "      <th>priceflag</th>\n",
              "      <th>pricetype</th>\n",
              "      <th>currency</th>\n",
              "      <th>price</th>\n",
              "      <th>usdprice</th>\n",
              "    </tr>\n",
              "  </thead>\n",
              "  <tbody>\n",
              "    <tr>\n",
              "      <th>0</th>\n",
              "      <td>#date</td>\n",
              "      <td>#adm1+name</td>\n",
              "      <td>#adm2+name</td>\n",
              "      <td>#loc+market+name</td>\n",
              "      <td>#geo+lat</td>\n",
              "      <td>#geo+lon</td>\n",
              "      <td>#item+type</td>\n",
              "      <td>#item+name</td>\n",
              "      <td>#item+unit</td>\n",
              "      <td>#item+price+flag</td>\n",
              "      <td>#item+price+type</td>\n",
              "      <td>#currency</td>\n",
              "      <td>#value</td>\n",
              "      <td>#value+usd</td>\n",
              "    </tr>\n",
              "    <tr>\n",
              "      <th>1</th>\n",
              "      <td>2000-01-15</td>\n",
              "      <td>Gauteng</td>\n",
              "      <td>West Rand District Municipality</td>\n",
              "      <td>Randfontein</td>\n",
              "      <td>-26.199</td>\n",
              "      <td>27.669</td>\n",
              "      <td>cereals and tubers</td>\n",
              "      <td>Maize (white)</td>\n",
              "      <td>KG</td>\n",
              "      <td>actual</td>\n",
              "      <td>Wholesale</td>\n",
              "      <td>ZAR</td>\n",
              "      <td>0.8</td>\n",
              "      <td>0.1321</td>\n",
              "    </tr>\n",
              "    <tr>\n",
              "      <th>2</th>\n",
              "      <td>2000-01-15</td>\n",
              "      <td>Gauteng</td>\n",
              "      <td>West Rand District Municipality</td>\n",
              "      <td>Randfontein</td>\n",
              "      <td>-26.199</td>\n",
              "      <td>27.669</td>\n",
              "      <td>cereals and tubers</td>\n",
              "      <td>Maize (yellow)</td>\n",
              "      <td>KG</td>\n",
              "      <td>actual</td>\n",
              "      <td>Wholesale</td>\n",
              "      <td>ZAR</td>\n",
              "      <td>0.86</td>\n",
              "      <td>0.1413</td>\n",
              "    </tr>\n",
              "    <tr>\n",
              "      <th>3</th>\n",
              "      <td>2000-01-15</td>\n",
              "      <td>Gauteng</td>\n",
              "      <td>West Rand District Municipality</td>\n",
              "      <td>Randfontein</td>\n",
              "      <td>-26.199</td>\n",
              "      <td>27.669</td>\n",
              "      <td>cereals and tubers</td>\n",
              "      <td>Wheat</td>\n",
              "      <td>KG</td>\n",
              "      <td>actual</td>\n",
              "      <td>Wholesale</td>\n",
              "      <td>ZAR</td>\n",
              "      <td>0.65</td>\n",
              "      <td>0.1068</td>\n",
              "    </tr>\n",
              "    <tr>\n",
              "      <th>4</th>\n",
              "      <td>2000-02-15</td>\n",
              "      <td>Gauteng</td>\n",
              "      <td>West Rand District Municipality</td>\n",
              "      <td>Randfontein</td>\n",
              "      <td>-26.199</td>\n",
              "      <td>27.669</td>\n",
              "      <td>cereals and tubers</td>\n",
              "      <td>Maize (white)</td>\n",
              "      <td>KG</td>\n",
              "      <td>actual</td>\n",
              "      <td>Wholesale</td>\n",
              "      <td>ZAR</td>\n",
              "      <td>0.8</td>\n",
              "      <td>0.126</td>\n",
              "    </tr>\n",
              "  </tbody>\n",
              "</table>\n",
              "</div>\n",
              "      <button class=\"colab-df-convert\" onclick=\"convertToInteractive('df-849bb259-c262-455d-9a00-9f7e75ab698e')\"\n",
              "              title=\"Convert this dataframe to an interactive table.\"\n",
              "              style=\"display:none;\">\n",
              "        \n",
              "  <svg xmlns=\"http://www.w3.org/2000/svg\" height=\"24px\"viewBox=\"0 0 24 24\"\n",
              "       width=\"24px\">\n",
              "    <path d=\"M0 0h24v24H0V0z\" fill=\"none\"/>\n",
              "    <path d=\"M18.56 5.44l.94 2.06.94-2.06 2.06-.94-2.06-.94-.94-2.06-.94 2.06-2.06.94zm-11 1L8.5 8.5l.94-2.06 2.06-.94-2.06-.94L8.5 2.5l-.94 2.06-2.06.94zm10 10l.94 2.06.94-2.06 2.06-.94-2.06-.94-.94-2.06-.94 2.06-2.06.94z\"/><path d=\"M17.41 7.96l-1.37-1.37c-.4-.4-.92-.59-1.43-.59-.52 0-1.04.2-1.43.59L10.3 9.45l-7.72 7.72c-.78.78-.78 2.05 0 2.83L4 21.41c.39.39.9.59 1.41.59.51 0 1.02-.2 1.41-.59l7.78-7.78 2.81-2.81c.8-.78.8-2.07 0-2.86zM5.41 20L4 18.59l7.72-7.72 1.47 1.35L5.41 20z\"/>\n",
              "  </svg>\n",
              "      </button>\n",
              "      \n",
              "  <style>\n",
              "    .colab-df-container {\n",
              "      display:flex;\n",
              "      flex-wrap:wrap;\n",
              "      gap: 12px;\n",
              "    }\n",
              "\n",
              "    .colab-df-convert {\n",
              "      background-color: #E8F0FE;\n",
              "      border: none;\n",
              "      border-radius: 50%;\n",
              "      cursor: pointer;\n",
              "      display: none;\n",
              "      fill: #1967D2;\n",
              "      height: 32px;\n",
              "      padding: 0 0 0 0;\n",
              "      width: 32px;\n",
              "    }\n",
              "\n",
              "    .colab-df-convert:hover {\n",
              "      background-color: #E2EBFA;\n",
              "      box-shadow: 0px 1px 2px rgba(60, 64, 67, 0.3), 0px 1px 3px 1px rgba(60, 64, 67, 0.15);\n",
              "      fill: #174EA6;\n",
              "    }\n",
              "\n",
              "    [theme=dark] .colab-df-convert {\n",
              "      background-color: #3B4455;\n",
              "      fill: #D2E3FC;\n",
              "    }\n",
              "\n",
              "    [theme=dark] .colab-df-convert:hover {\n",
              "      background-color: #434B5C;\n",
              "      box-shadow: 0px 1px 3px 1px rgba(0, 0, 0, 0.15);\n",
              "      filter: drop-shadow(0px 1px 2px rgba(0, 0, 0, 0.3));\n",
              "      fill: #FFFFFF;\n",
              "    }\n",
              "  </style>\n",
              "\n",
              "      <script>\n",
              "        const buttonEl =\n",
              "          document.querySelector('#df-849bb259-c262-455d-9a00-9f7e75ab698e button.colab-df-convert');\n",
              "        buttonEl.style.display =\n",
              "          google.colab.kernel.accessAllowed ? 'block' : 'none';\n",
              "\n",
              "        async function convertToInteractive(key) {\n",
              "          const element = document.querySelector('#df-849bb259-c262-455d-9a00-9f7e75ab698e');\n",
              "          const dataTable =\n",
              "            await google.colab.kernel.invokeFunction('convertToInteractive',\n",
              "                                                     [key], {});\n",
              "          if (!dataTable) return;\n",
              "\n",
              "          const docLinkHtml = 'Like what you see? Visit the ' +\n",
              "            '<a target=\"_blank\" href=https://colab.research.google.com/notebooks/data_table.ipynb>data table notebook</a>'\n",
              "            + ' to learn more about interactive tables.';\n",
              "          element.innerHTML = '';\n",
              "          dataTable['output_type'] = 'display_data';\n",
              "          await google.colab.output.renderOutput(dataTable, element);\n",
              "          const docLink = document.createElement('div');\n",
              "          docLink.innerHTML = docLinkHtml;\n",
              "          element.appendChild(docLink);\n",
              "        }\n",
              "      </script>\n",
              "    </div>\n",
              "  </div>\n",
              "  "
            ]
          },
          "metadata": {},
          "execution_count": 9
        }
      ],
      "source": [
        "# display the first 5 columns of the table\n",
        "df.head()"
      ]
<<<<<<< HEAD
     },
     "execution_count": 9,
     "metadata": {},
     "output_type": "execute_result"
    }
   ],
   "source": [
    "# stats of the dataset\n",
    "df.describe()"
   ]
  },
  {
   "cell_type": "code",
   "execution_count": 69,
   "metadata": {},
   "outputs": [
    {
     "data": {
      "text/plain": [
       "<AxesSubplot:>"
      ]
     },
     "execution_count": 69,
     "metadata": {},
     "output_type": "execute_result"
    },
    {
     "data": {
      "image/png": "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\n",
      "text/plain": [
       "<Figure size 432x288 with 1 Axes>"
      ]
     },
     "metadata": {
      "needs_background": "light"
     },
     "output_type": "display_data"
    }
   ],
   "source": [
    "df['price'] = df['price'].rolling(window=10).mean()\n",
    "df['price'].plot()"
   ]
  },
  {
   "cell_type": "code",
   "execution_count": 70,
   "metadata": {},
   "outputs": [],
   "source": [
    "from sklearn.metrics import mean_squared_error"
   ]
  },
  {
   "cell_type": "code",
   "execution_count": 10,
   "metadata": {
    "colab": {
     "base_uri": "https://localhost:8080/"
=======
>>>>>>> e31f86b8802a04a1962850d49d4f7a33f00da512
    },
    {
<<<<<<< HEAD
     "data": {
      "text/plain": [
       "<bound method DataFrame.info of            date      admin1                           admin2  \\\n",
       "0         #date  #adm1+name                       #adm2+name   \n",
       "1    2000-01-15     Gauteng  West Rand District Municipality   \n",
       "2    2000-01-15     Gauteng  West Rand District Municipality   \n",
       "3    2000-01-15     Gauteng  West Rand District Municipality   \n",
       "4    2000-02-15     Gauteng  West Rand District Municipality   \n",
       "..          ...         ...                              ...   \n",
       "806  2022-05-15     Gauteng  West Rand District Municipality   \n",
       "807  2022-05-15     Gauteng  West Rand District Municipality   \n",
       "808  2022-06-15     Gauteng  West Rand District Municipality   \n",
       "809  2022-06-15     Gauteng  West Rand District Municipality   \n",
       "810  2022-06-15     Gauteng  West Rand District Municipality   \n",
       "\n",
       "               market  latitude longitude            category       commodity  \\\n",
       "0    #loc+market+name  #geo+lat  #geo+lon          #item+type      #item+name   \n",
       "1         Randfontein   -26.199    27.669  cereals and tubers   Maize (white)   \n",
       "2         Randfontein   -26.199    27.669  cereals and tubers  Maize (yellow)   \n",
       "3         Randfontein   -26.199    27.669  cereals and tubers           Wheat   \n",
       "4         Randfontein   -26.199    27.669  cereals and tubers   Maize (white)   \n",
       "..                ...       ...       ...                 ...             ...   \n",
       "806       Randfontein   -26.199    27.669  cereals and tubers  Maize (yellow)   \n",
       "807       Randfontein   -26.199    27.669  cereals and tubers           Wheat   \n",
       "808       Randfontein   -26.199    27.669  cereals and tubers   Maize (white)   \n",
       "809       Randfontein   -26.199    27.669  cereals and tubers  Maize (yellow)   \n",
       "810       Randfontein   -26.199    27.669  cereals and tubers           Wheat   \n",
       "\n",
       "           unit         priceflag         pricetype   currency   price  \\\n",
       "0    #item+unit  #item+price+flag  #item+price+type  #currency  #value   \n",
       "1            KG            actual         Wholesale        ZAR     0.8   \n",
       "2            KG            actual         Wholesale        ZAR    0.86   \n",
       "3            KG            actual         Wholesale        ZAR    0.65   \n",
       "4            KG            actual         Wholesale        ZAR     0.8   \n",
       "..          ...               ...               ...        ...     ...   \n",
       "806          KG            actual         Wholesale        ZAR    4.86   \n",
       "807          KG            actual         Wholesale        ZAR    8.02   \n",
       "808          KG            actual         Wholesale        ZAR    4.42   \n",
       "809          KG            actual         Wholesale        ZAR    4.47   \n",
       "810          KG            actual         Wholesale        ZAR    7.89   \n",
       "\n",
       "       usdprice  \n",
       "0    #value+usd  \n",
       "1        0.1321  \n",
       "2        0.1413  \n",
       "3        0.1068  \n",
       "4         0.126  \n",
       "..          ...  \n",
       "806      0.3185  \n",
       "807      0.5256  \n",
       "808      0.2897  \n",
       "809       0.293  \n",
       "810      0.5171  \n",
       "\n",
       "[811 rows x 14 columns]>"
      ]
     },
     "execution_count": 10,
     "metadata": {},
     "output_type": "execute_result"
    }
   ],
   "source": [
    "# dataframe information\n",
    "df.info"
   ]
  },
  {
   "cell_type": "markdown",
   "metadata": {},
   "source": [
    "### Data Engineering\n",
    "- clean the dataset, and possibly create new features - as identified in the EDA phase."
   ]
  },
  {
   "cell_type": "code",
   "execution_count": 11,
   "metadata": {},
   "outputs": [
    {
     "data": {
      "text/html": [
       "<div>\n",
       "<style scoped>\n",
       "    .dataframe tbody tr th:only-of-type {\n",
       "        vertical-align: middle;\n",
       "    }\n",
       "\n",
       "    .dataframe tbody tr th {\n",
       "        vertical-align: top;\n",
       "    }\n",
       "\n",
       "    .dataframe thead th {\n",
       "        text-align: right;\n",
       "    }\n",
       "</style>\n",
       "<table border=\"1\" class=\"dataframe\">\n",
       "  <thead>\n",
       "    <tr style=\"text-align: right;\">\n",
       "      <th></th>\n",
       "      <th>date</th>\n",
       "      <th>admin1</th>\n",
       "      <th>admin2</th>\n",
       "      <th>market</th>\n",
       "      <th>latitude</th>\n",
       "      <th>longitude</th>\n",
       "      <th>category</th>\n",
       "      <th>commodity</th>\n",
       "      <th>unit</th>\n",
       "      <th>priceflag</th>\n",
       "      <th>pricetype</th>\n",
       "      <th>currency</th>\n",
       "      <th>price</th>\n",
       "      <th>usdprice</th>\n",
       "    </tr>\n",
       "  </thead>\n",
       "  <tbody>\n",
       "    <tr>\n",
       "      <th>1</th>\n",
       "      <td>2000-01-15</td>\n",
       "      <td>Gauteng</td>\n",
       "      <td>West Rand District Municipality</td>\n",
       "      <td>Randfontein</td>\n",
       "      <td>-26.199</td>\n",
       "      <td>27.669</td>\n",
       "      <td>cereals and tubers</td>\n",
       "      <td>Maize (white)</td>\n",
       "      <td>KG</td>\n",
       "      <td>actual</td>\n",
       "      <td>Wholesale</td>\n",
       "      <td>ZAR</td>\n",
       "      <td>0.8</td>\n",
       "      <td>0.1321</td>\n",
       "    </tr>\n",
       "    <tr>\n",
       "      <th>2</th>\n",
       "      <td>2000-01-15</td>\n",
       "      <td>Gauteng</td>\n",
       "      <td>West Rand District Municipality</td>\n",
       "      <td>Randfontein</td>\n",
       "      <td>-26.199</td>\n",
       "      <td>27.669</td>\n",
       "      <td>cereals and tubers</td>\n",
       "      <td>Maize (yellow)</td>\n",
       "      <td>KG</td>\n",
       "      <td>actual</td>\n",
       "      <td>Wholesale</td>\n",
       "      <td>ZAR</td>\n",
       "      <td>0.86</td>\n",
       "      <td>0.1413</td>\n",
       "    </tr>\n",
       "    <tr>\n",
       "      <th>3</th>\n",
       "      <td>2000-01-15</td>\n",
       "      <td>Gauteng</td>\n",
       "      <td>West Rand District Municipality</td>\n",
       "      <td>Randfontein</td>\n",
       "      <td>-26.199</td>\n",
       "      <td>27.669</td>\n",
       "      <td>cereals and tubers</td>\n",
       "      <td>Wheat</td>\n",
       "      <td>KG</td>\n",
       "      <td>actual</td>\n",
       "      <td>Wholesale</td>\n",
       "      <td>ZAR</td>\n",
       "      <td>0.65</td>\n",
       "      <td>0.1068</td>\n",
       "    </tr>\n",
       "    <tr>\n",
       "      <th>4</th>\n",
       "      <td>2000-02-15</td>\n",
       "      <td>Gauteng</td>\n",
       "      <td>West Rand District Municipality</td>\n",
       "      <td>Randfontein</td>\n",
       "      <td>-26.199</td>\n",
       "      <td>27.669</td>\n",
       "      <td>cereals and tubers</td>\n",
       "      <td>Maize (white)</td>\n",
       "      <td>KG</td>\n",
       "      <td>actual</td>\n",
       "      <td>Wholesale</td>\n",
       "      <td>ZAR</td>\n",
       "      <td>0.8</td>\n",
       "      <td>0.126</td>\n",
       "    </tr>\n",
       "    <tr>\n",
       "      <th>5</th>\n",
       "      <td>2000-02-15</td>\n",
       "      <td>Gauteng</td>\n",
       "      <td>West Rand District Municipality</td>\n",
       "      <td>Randfontein</td>\n",
       "      <td>-26.199</td>\n",
       "      <td>27.669</td>\n",
       "      <td>cereals and tubers</td>\n",
       "      <td>Maize (yellow)</td>\n",
       "      <td>KG</td>\n",
       "      <td>actual</td>\n",
       "      <td>Wholesale</td>\n",
       "      <td>ZAR</td>\n",
       "      <td>0.83</td>\n",
       "      <td>0.1305</td>\n",
       "    </tr>\n",
       "  </tbody>\n",
       "</table>\n",
       "</div>"
=======
      "cell_type": "code",
      "execution_count": null,
      "metadata": {
        "colab": {
          "base_uri": "https://localhost:8080/"
        },
        "id": "0H-DQyj9-56L",
        "outputId": "666ea9b6-80f4-4d20-f5c6-abf22e0d9172"
      },
      "outputs": [
        {
          "output_type": "execute_result",
          "data": {
            "text/plain": [
              "(811, 14)"
            ]
          },
          "metadata": {},
          "execution_count": 10
        }
>>>>>>> e31f86b8802a04a1962850d49d4f7a33f00da512
      ],
      "source": [
        "# look at data statistics\n",
        "# number of columns & rows\n",
        "df.shape"
      ]
<<<<<<< HEAD
     },
     "execution_count": 11,
     "metadata": {},
     "output_type": "execute_result"
    }
   ],
   "source": [
    "# drop first row, index 0\n",
    "df=df.drop(df.index[[0]])\n",
    "df.head()"
   ]
  },
  {
   "cell_type": "code",
   "execution_count": 12,
   "metadata": {},
   "outputs": [],
   "source": [
    "df1= df[[\"commodity\",\"price\"]].groupby(['commodity'],as_index=False)"
   ]
  },
  {
   "cell_type": "code",
   "execution_count": 13,
   "metadata": {
    "colab": {
     "base_uri": "https://localhost:8080/",
     "height": 520
=======
>>>>>>> e31f86b8802a04a1962850d49d4f7a33f00da512
    },
    {
      "cell_type": "code",
      "execution_count": null,
      "metadata": {
        "id": "tdukjm8sUVn9",
        "outputId": "eab16f31-beda-4e0c-b69d-5cc05fb1f82e",
        "colab": {
          "base_uri": "https://localhost:8080/"
        }
      },
      "outputs": [
        {
          "output_type": "execute_result",
          "data": {
            "text/plain": [
              "date         0\n",
              "admin1       0\n",
              "admin2       0\n",
              "market       0\n",
              "latitude     0\n",
              "longitude    0\n",
              "category     0\n",
              "commodity    0\n",
              "unit         0\n",
              "priceflag    0\n",
              "pricetype    0\n",
              "currency     0\n",
              "price        0\n",
              "usdprice     0\n",
              "dtype: int64"
            ]
          },
          "metadata": {},
          "execution_count": 11
        }
      ],
      "source": [
        "# sum of all available nulls\n",
        "df.isna().sum()"
      ]
<<<<<<< HEAD
     },
     "execution_count": 13,
     "metadata": {},
     "output_type": "execute_result"
    }
   ],
   "source": [
    "# diplay the first 2 columns\n",
    "df1.head()"
   ]
  },
  {
   "cell_type": "code",
   "execution_count": 14,
   "metadata": {
    "colab": {
     "base_uri": "https://localhost:8080/",
     "height": 520
=======
>>>>>>> e31f86b8802a04a1962850d49d4f7a33f00da512
    },
    {
      "cell_type": "code",
      "execution_count": null,
      "metadata": {
        "id": "RVQJ8QBYUVn_",
        "outputId": "69b45f30-e434-4e62-ea0f-83199a55c473",
        "colab": {
          "base_uri": "https://localhost:8080/",
          "height": 236
        }
      },
      "outputs": [
        {
          "output_type": "execute_result",
          "data": {
            "text/plain": [
              "              date   admin1                           admin2       market  \\\n",
              "count          811      811                              811          811   \n",
              "unique         271        2                                2            2   \n",
              "top     2011-03-15  Gauteng  West Rand District Municipality  Randfontein   \n",
              "freq             3      810                              810          810   \n",
              "\n",
              "       latitude longitude            category      commodity unit priceflag  \\\n",
              "count       811       811                 811            811  811       811   \n",
              "unique        2         2                   2              4    2         2   \n",
              "top     -26.199    27.669  cereals and tubers  Maize (white)   KG    actual   \n",
              "freq        810       810                 810            270  810       810   \n",
              "\n",
              "        pricetype currency price usdprice  \n",
              "count         811      811   811      811  \n",
              "unique          2        2   363      707  \n",
              "top     Wholesale      ZAR  0.88   0.1633  \n",
              "freq          810      810     8        3  "
            ],
            "text/html": [
              "\n",
              "  <div id=\"df-7b477395-5544-40f7-b21e-44e7098bb455\">\n",
              "    <div class=\"colab-df-container\">\n",
              "      <div>\n",
              "<style scoped>\n",
              "    .dataframe tbody tr th:only-of-type {\n",
              "        vertical-align: middle;\n",
              "    }\n",
              "\n",
              "    .dataframe tbody tr th {\n",
              "        vertical-align: top;\n",
              "    }\n",
              "\n",
              "    .dataframe thead th {\n",
              "        text-align: right;\n",
              "    }\n",
              "</style>\n",
              "<table border=\"1\" class=\"dataframe\">\n",
              "  <thead>\n",
              "    <tr style=\"text-align: right;\">\n",
              "      <th></th>\n",
              "      <th>date</th>\n",
              "      <th>admin1</th>\n",
              "      <th>admin2</th>\n",
              "      <th>market</th>\n",
              "      <th>latitude</th>\n",
              "      <th>longitude</th>\n",
              "      <th>category</th>\n",
              "      <th>commodity</th>\n",
              "      <th>unit</th>\n",
              "      <th>priceflag</th>\n",
              "      <th>pricetype</th>\n",
              "      <th>currency</th>\n",
              "      <th>price</th>\n",
              "      <th>usdprice</th>\n",
              "    </tr>\n",
              "  </thead>\n",
              "  <tbody>\n",
              "    <tr>\n",
              "      <th>count</th>\n",
              "      <td>811</td>\n",
              "      <td>811</td>\n",
              "      <td>811</td>\n",
              "      <td>811</td>\n",
              "      <td>811</td>\n",
              "      <td>811</td>\n",
              "      <td>811</td>\n",
              "      <td>811</td>\n",
              "      <td>811</td>\n",
              "      <td>811</td>\n",
              "      <td>811</td>\n",
              "      <td>811</td>\n",
              "      <td>811</td>\n",
              "      <td>811</td>\n",
              "    </tr>\n",
              "    <tr>\n",
              "      <th>unique</th>\n",
              "      <td>271</td>\n",
              "      <td>2</td>\n",
              "      <td>2</td>\n",
              "      <td>2</td>\n",
              "      <td>2</td>\n",
              "      <td>2</td>\n",
              "      <td>2</td>\n",
              "      <td>4</td>\n",
              "      <td>2</td>\n",
              "      <td>2</td>\n",
              "      <td>2</td>\n",
              "      <td>2</td>\n",
              "      <td>363</td>\n",
              "      <td>707</td>\n",
              "    </tr>\n",
              "    <tr>\n",
              "      <th>top</th>\n",
              "      <td>2011-03-15</td>\n",
              "      <td>Gauteng</td>\n",
              "      <td>West Rand District Municipality</td>\n",
              "      <td>Randfontein</td>\n",
              "      <td>-26.199</td>\n",
              "      <td>27.669</td>\n",
              "      <td>cereals and tubers</td>\n",
              "      <td>Maize (white)</td>\n",
              "      <td>KG</td>\n",
              "      <td>actual</td>\n",
              "      <td>Wholesale</td>\n",
              "      <td>ZAR</td>\n",
              "      <td>0.88</td>\n",
              "      <td>0.1633</td>\n",
              "    </tr>\n",
              "    <tr>\n",
              "      <th>freq</th>\n",
              "      <td>3</td>\n",
              "      <td>810</td>\n",
              "      <td>810</td>\n",
              "      <td>810</td>\n",
              "      <td>810</td>\n",
              "      <td>810</td>\n",
              "      <td>810</td>\n",
              "      <td>270</td>\n",
              "      <td>810</td>\n",
              "      <td>810</td>\n",
              "      <td>810</td>\n",
              "      <td>810</td>\n",
              "      <td>8</td>\n",
              "      <td>3</td>\n",
              "    </tr>\n",
              "  </tbody>\n",
              "</table>\n",
              "</div>\n",
              "      <button class=\"colab-df-convert\" onclick=\"convertToInteractive('df-7b477395-5544-40f7-b21e-44e7098bb455')\"\n",
              "              title=\"Convert this dataframe to an interactive table.\"\n",
              "              style=\"display:none;\">\n",
              "        \n",
              "  <svg xmlns=\"http://www.w3.org/2000/svg\" height=\"24px\"viewBox=\"0 0 24 24\"\n",
              "       width=\"24px\">\n",
              "    <path d=\"M0 0h24v24H0V0z\" fill=\"none\"/>\n",
              "    <path d=\"M18.56 5.44l.94 2.06.94-2.06 2.06-.94-2.06-.94-.94-2.06-.94 2.06-2.06.94zm-11 1L8.5 8.5l.94-2.06 2.06-.94-2.06-.94L8.5 2.5l-.94 2.06-2.06.94zm10 10l.94 2.06.94-2.06 2.06-.94-2.06-.94-.94-2.06-.94 2.06-2.06.94z\"/><path d=\"M17.41 7.96l-1.37-1.37c-.4-.4-.92-.59-1.43-.59-.52 0-1.04.2-1.43.59L10.3 9.45l-7.72 7.72c-.78.78-.78 2.05 0 2.83L4 21.41c.39.39.9.59 1.41.59.51 0 1.02-.2 1.41-.59l7.78-7.78 2.81-2.81c.8-.78.8-2.07 0-2.86zM5.41 20L4 18.59l7.72-7.72 1.47 1.35L5.41 20z\"/>\n",
              "  </svg>\n",
              "      </button>\n",
              "      \n",
              "  <style>\n",
              "    .colab-df-container {\n",
              "      display:flex;\n",
              "      flex-wrap:wrap;\n",
              "      gap: 12px;\n",
              "    }\n",
              "\n",
              "    .colab-df-convert {\n",
              "      background-color: #E8F0FE;\n",
              "      border: none;\n",
              "      border-radius: 50%;\n",
              "      cursor: pointer;\n",
              "      display: none;\n",
              "      fill: #1967D2;\n",
              "      height: 32px;\n",
              "      padding: 0 0 0 0;\n",
              "      width: 32px;\n",
              "    }\n",
              "\n",
              "    .colab-df-convert:hover {\n",
              "      background-color: #E2EBFA;\n",
              "      box-shadow: 0px 1px 2px rgba(60, 64, 67, 0.3), 0px 1px 3px 1px rgba(60, 64, 67, 0.15);\n",
              "      fill: #174EA6;\n",
              "    }\n",
              "\n",
              "    [theme=dark] .colab-df-convert {\n",
              "      background-color: #3B4455;\n",
              "      fill: #D2E3FC;\n",
              "    }\n",
              "\n",
              "    [theme=dark] .colab-df-convert:hover {\n",
              "      background-color: #434B5C;\n",
              "      box-shadow: 0px 1px 3px 1px rgba(0, 0, 0, 0.15);\n",
              "      filter: drop-shadow(0px 1px 2px rgba(0, 0, 0, 0.3));\n",
              "      fill: #FFFFFF;\n",
              "    }\n",
              "  </style>\n",
              "\n",
              "      <script>\n",
              "        const buttonEl =\n",
              "          document.querySelector('#df-7b477395-5544-40f7-b21e-44e7098bb455 button.colab-df-convert');\n",
              "        buttonEl.style.display =\n",
              "          google.colab.kernel.accessAllowed ? 'block' : 'none';\n",
              "\n",
              "        async function convertToInteractive(key) {\n",
              "          const element = document.querySelector('#df-7b477395-5544-40f7-b21e-44e7098bb455');\n",
              "          const dataTable =\n",
              "            await google.colab.kernel.invokeFunction('convertToInteractive',\n",
              "                                                     [key], {});\n",
              "          if (!dataTable) return;\n",
              "\n",
              "          const docLinkHtml = 'Like what you see? Visit the ' +\n",
              "            '<a target=\"_blank\" href=https://colab.research.google.com/notebooks/data_table.ipynb>data table notebook</a>'\n",
              "            + ' to learn more about interactive tables.';\n",
              "          element.innerHTML = '';\n",
              "          dataTable['output_type'] = 'display_data';\n",
              "          await google.colab.output.renderOutput(dataTable, element);\n",
              "          const docLink = document.createElement('div');\n",
              "          docLink.innerHTML = docLinkHtml;\n",
              "          element.appendChild(docLink);\n",
              "        }\n",
              "      </script>\n",
              "    </div>\n",
              "  </div>\n",
              "  "
            ]
          },
          "metadata": {},
          "execution_count": 12
        }
      ],
      "source": [
        "# Total of count of each feature\n",
        "#Total count of unique values in each feature\n",
        "df.describe()"
      ]
<<<<<<< HEAD
     },
     "execution_count": 14,
     "metadata": {},
     "output_type": "execute_result"
    }
   ],
   "source": [
    "# display the last 2 columns\n",
    "df1.tail()"
   ]
  },
  {
   "cell_type": "code",
   "execution_count": 15,
   "metadata": {
    "colab": {
     "base_uri": "https://localhost:8080/",
     "height": 175
=======
>>>>>>> e31f86b8802a04a1962850d49d4f7a33f00da512
    },
    {
      "cell_type": "code",
      "execution_count": null,
      "metadata": {
        "colab": {
          "base_uri": "https://localhost:8080/"
        },
        "id": "Lpw7k-gJ17lH",
        "outputId": "b1e2b8b9-852d-4783-ec24-ef2624ba93b8"
      },
      "outputs": [
        {
          "output_type": "execute_result",
          "data": {
            "text/plain": [
              "<bound method DataFrame.info of            date      admin1                           admin2  \\\n",
              "0         #date  #adm1+name                       #adm2+name   \n",
              "1    2000-01-15     Gauteng  West Rand District Municipality   \n",
              "2    2000-01-15     Gauteng  West Rand District Municipality   \n",
              "3    2000-01-15     Gauteng  West Rand District Municipality   \n",
              "4    2000-02-15     Gauteng  West Rand District Municipality   \n",
              "..          ...         ...                              ...   \n",
              "806  2022-05-15     Gauteng  West Rand District Municipality   \n",
              "807  2022-05-15     Gauteng  West Rand District Municipality   \n",
              "808  2022-06-15     Gauteng  West Rand District Municipality   \n",
              "809  2022-06-15     Gauteng  West Rand District Municipality   \n",
              "810  2022-06-15     Gauteng  West Rand District Municipality   \n",
              "\n",
              "               market  latitude longitude            category       commodity  \\\n",
              "0    #loc+market+name  #geo+lat  #geo+lon          #item+type      #item+name   \n",
              "1         Randfontein   -26.199    27.669  cereals and tubers   Maize (white)   \n",
              "2         Randfontein   -26.199    27.669  cereals and tubers  Maize (yellow)   \n",
              "3         Randfontein   -26.199    27.669  cereals and tubers           Wheat   \n",
              "4         Randfontein   -26.199    27.669  cereals and tubers   Maize (white)   \n",
              "..                ...       ...       ...                 ...             ...   \n",
              "806       Randfontein   -26.199    27.669  cereals and tubers  Maize (yellow)   \n",
              "807       Randfontein   -26.199    27.669  cereals and tubers           Wheat   \n",
              "808       Randfontein   -26.199    27.669  cereals and tubers   Maize (white)   \n",
              "809       Randfontein   -26.199    27.669  cereals and tubers  Maize (yellow)   \n",
              "810       Randfontein   -26.199    27.669  cereals and tubers           Wheat   \n",
              "\n",
              "           unit         priceflag         pricetype   currency   price  \\\n",
              "0    #item+unit  #item+price+flag  #item+price+type  #currency  #value   \n",
              "1            KG            actual         Wholesale        ZAR     0.8   \n",
              "2            KG            actual         Wholesale        ZAR    0.86   \n",
              "3            KG            actual         Wholesale        ZAR    0.65   \n",
              "4            KG            actual         Wholesale        ZAR     0.8   \n",
              "..          ...               ...               ...        ...     ...   \n",
              "806          KG            actual         Wholesale        ZAR    4.86   \n",
              "807          KG            actual         Wholesale        ZAR    8.02   \n",
              "808          KG            actual         Wholesale        ZAR    4.42   \n",
              "809          KG            actual         Wholesale        ZAR    4.47   \n",
              "810          KG            actual         Wholesale        ZAR    7.89   \n",
              "\n",
              "       usdprice  \n",
              "0    #value+usd  \n",
              "1        0.1321  \n",
              "2        0.1413  \n",
              "3        0.1068  \n",
              "4         0.126  \n",
              "..          ...  \n",
              "806      0.3185  \n",
              "807      0.5256  \n",
              "808      0.2897  \n",
              "809       0.293  \n",
              "810      0.5171  \n",
              "\n",
              "[811 rows x 14 columns]>"
            ]
          },
          "metadata": {},
          "execution_count": 13
        }
      ],
      "source": [
        "# dataframe information\n",
        "df.info"
      ]
<<<<<<< HEAD
     },
     "execution_count": 15,
     "metadata": {},
     "output_type": "execute_result"
    }
   ],
   "source": [
    "\n",
    "df.describe()"
   ]
  },
  {
   "cell_type": "code",
   "execution_count": 16,
   "metadata": {
    "colab": {
     "base_uri": "https://localhost:8080/"
=======
>>>>>>> e31f86b8802a04a1962850d49d4f7a33f00da512
    },
    {
      "cell_type": "markdown",
      "metadata": {
        "id": "HxRs1MhoUVoC"
      },
      "source": [
        "### Data Engineering\n",
        "- clean the dataset, and possibly create new features - as identified in the EDA phase."
      ]
<<<<<<< HEAD
     },
     "execution_count": 16,
     "metadata": {},
     "output_type": "execute_result"
    }
   ],
   "source": [
    "df['commodity'].value_counts()"
   ]
  },
  {
   "cell_type": "code",
   "execution_count": 17,
   "metadata": {
    "colab": {
     "base_uri": "https://localhost:8080/",
     "height": 105
=======
>>>>>>> e31f86b8802a04a1962850d49d4f7a33f00da512
    },
    {
<<<<<<< HEAD
     "data": {
      "text/plain": [
       "'0.80.860.650.80.830.690.750.730.690.690.670.70.670.680.80.60.610.80.540.530.760.510.50.750.540.540.840.620.630.950.670.710.980.690.740.980.80.821.040.840.891.00.820.861.030.810.821.050.760.771.070.780.81.030.90.881.020.980.921.011.00.981.051.061.051.131.281.231.241.551.481.421.741.651.461.851.521.422.011.471.421.921.391.381.781.311.231.751.351.331.71.391.491.741.491.691.761.541.961.761.471.971.81.41.721.741.351.451.531.31.31.11.091.260.890.941.150.790.831.070.880.91.090.890.921.040.830.860.980.860.881.10.90.931.070.880.931.040.910.971.081.091.11.081.31.291.151.331.381.091.081.221.041.111.21.071.051.081.110.991.01.00.880.90.930.940.960.910.920.950.970.90.940.960.970.960.950.820.880.880.660.730.920.540.650.910.530.60.910.550.610.870.560.610.920.580.610.960.610.630.950.650.620.960.80.711.010.850.761.110.930.811.071.140.881.041.130.951.021.020.961.11.141.011.091.091.01.091.21.071.241.341.21.361.41.261.441.291.211.321.331.251.451.341.281.621.381.481.521.421.61.441.421.571.751.51.641.841.971.92.091.671.672.161.651.682.251.741.742.451.681.682.741.831.833.091.861.923.361.821.93.061.872.02.81.731.873.051.791.913.171.751.833.761.871.924.071.861.853.961.781.83.82.012.064.041.962.013.971.851.833.761.861.863.321.781.783.011.761.732.61.671.642.521.811.732.751.731.62.741.71.532.671.631.432.531.61.462.631.511.452.61.341.272.491.411.322.391.411.242.141.491.362.141.531.442.161.641.532.111.41.412.071.151.232.11.121.172.091.11.162.171.121.182.251.051.12.291.11.152.421.181.252.71.281.362.791.251.362.661.311.42.681.341.42.81.351.462.961.571.633.291.561.613.071.631.653.091.681.723.231.751.763.041.81.782.982.072.083.132.212.183.122.252.22.872.472.42.752.472.512.652.742.762.762.42.472.762.482.372.712.292.162.72.062.02.82.062.032.972.542.513.432.682.693.452.422.453.412.452.493.532.452.513.682.312.423.562.162.263.522.112.163.452.322.273.42.152.153.382.172.183.482.292.273.562.262.173.352.32.143.442.312.123.352.362.173.452.452.393.542.752.733.583.163.183.743.173.173.823.363.233.992.642.453.931.992.053.951.831.953.791.711.793.711.731.83.71.721.753.71.881.93.611.972.013.652.112.123.852.012.023.912.552.323.842.652.443.872.562.373.792.742.393.822.892.53.873.172.774.053.052.74.053.122.864.163.142.874.153.233.124.413.983.564.654.953.884.894.993.724.664.843.294.624.513.114.574.863.474.984.783.664.824.453.314.514.143.124.23.923.144.113.553.174.133.793.23.944.03.283.913.43.183.952.942.863.982.142.154.032.012.094.411.841.944.431.731.864.411.821.944.51.821.944.441.831.954.161.891.994.161.992.094.181.861.953.921.931.973.681.791.893.581.91.983.711.972.073.852.112.23.892.072.173.922.032.114.072.272.334.242.382.424.362.372.44.392.42.394.282.792.644.332.992.744.442.742.64.472.92.684.552.762.574.572.782.624.492.852.834.522.92.84.512.872.744.62.772.654.62.882.84.492.722.674.372.682.644.392.932.84.552.822.674.743.132.665.083.292.795.482.582.595.492.472.585.252.62.685.762.932.945.713.283.195.033.63.485.153.443.384.993.373.294.773.543.545.143.283.385.093.223.325.153.163.324.93.313.455.163.163.295.083.03.05.03.233.395.513.13.266.083.123.375.773.393.555.993.573.866.023.693.835.913.693.825.984.04.186.884.24.337.064.574.868.024.424.477.89'"
      ]
     },
     "execution_count": 17,
     "metadata": {},
     "output_type": "execute_result"
    }
   ],
   "source": [
    "# the sum of the price values\n",
    "df['price'].sum()"
   ]
  },
  {
   "cell_type": "code",
   "execution_count": 18,
   "metadata": {
    "colab": {
     "base_uri": "https://localhost:8080/"
    },
    "id": "uQVDLkSygkWZ",
    "outputId": "bde27e6f-beaa-425d-cb7a-6e7746fc4ffc"
   },
   "outputs": [
    {
     "name": "stderr",
     "output_type": "stream",
     "text": [
      "C:\\Users\\F5471052\\AppData\\Local\\Temp\\ipykernel_23704\\3867964895.py:1: FutureWarning: The default value of regex will change from True to False in a future version. In addition, single character regular expressions will *not* be treated as literal strings when regex=True.\n",
      "  df['price'] = pd.to_numeric(df['price'].str.replace('.', '.'))\n"
     ]
    }
   ],
   "source": [
    "\n",
    "df['price'] = pd.to_numeric(df['price'].str.replace('.', '.'))"
   ]
  },
  {
   "cell_type": "code",
   "execution_count": 19,
   "metadata": {
    "colab": {
     "base_uri": "https://localhost:8080/"
    },
    "id": "5QWLWPlThUvl",
    "outputId": "97d303db-7130-46fd-d068-9473cbfd0e78"
   },
   "outputs": [
    {
     "name": "stderr",
     "output_type": "stream",
     "text": [
      "C:\\Users\\F5471052\\AppData\\Local\\Temp\\ipykernel_23704\\3234449033.py:1: FutureWarning: The default value of regex will change from True to False in a future version. In addition, single character regular expressions will *not* be treated as literal strings when regex=True.\n",
      "  df['usdprice'] = pd.to_numeric(df['usdprice'].str.replace('.', '.'))\n"
     ]
    }
   ],
   "source": [
    "df['usdprice'] = pd.to_numeric(df['usdprice'].str.replace('.', '.'))"
   ]
  },
  {
   "cell_type": "code",
   "execution_count": 20,
   "metadata": {
    "colab": {
     "base_uri": "https://localhost:8080/"
    },
    "id": "mi9YvztkhNfJ",
    "outputId": "df5a97ea-d90e-4fab-aa96-a5ad46411a89"
   },
   "outputs": [
    {
     "data": {
      "text/plain": [
       "1    0.80\n",
       "2    0.86\n",
       "3    0.65\n",
       "4    0.80\n",
       "5    0.83\n",
       "Name: price, dtype: float64"
      ]
     },
     "execution_count": 20,
     "metadata": {},
     "output_type": "execute_result"
    }
   ],
   "source": [
    "df['price'].head()"
   ]
  },
  {
   "cell_type": "code",
   "execution_count": 21,
   "metadata": {
    "colab": {
     "base_uri": "https://localhost:8080/"
    },
    "id": "TW9jatfdg9_x",
    "outputId": "1b249982-5603-4620-dc16-0d463ad92b35"
   },
   "outputs": [
    {
     "data": {
      "text/plain": [
       "1877.55"
      ]
     },
     "execution_count": 21,
     "metadata": {},
     "output_type": "execute_result"
    }
   ],
   "source": [
    "df['price'].sum()"
   ]
  },
  {
   "cell_type": "code",
   "execution_count": 22,
   "metadata": {
    "id": "JqAh_zWc-hTl"
   },
   "outputs": [],
   "source": [
    "\n",
    "df=pd.concat([df, pd.get_dummies(df.commodity)], axis=1)"
   ]
  },
  {
   "cell_type": "code",
   "execution_count": 23,
   "metadata": {
    "colab": {
     "base_uri": "https://localhost:8080/",
     "height": 424
    },
    "id": "-BjzafVKG0iz",
    "outputId": "33ab9db7-4c9b-4fbb-ea65-e35ce806556f"
   },
   "outputs": [
    {
     "data": {
      "text/html": [
       "<div>\n",
       "<style scoped>\n",
       "    .dataframe tbody tr th:only-of-type {\n",
       "        vertical-align: middle;\n",
       "    }\n",
       "\n",
       "    .dataframe tbody tr th {\n",
       "        vertical-align: top;\n",
       "    }\n",
       "\n",
       "    .dataframe thead th {\n",
       "        text-align: right;\n",
       "    }\n",
       "</style>\n",
       "<table border=\"1\" class=\"dataframe\">\n",
       "  <thead>\n",
       "    <tr style=\"text-align: right;\">\n",
       "      <th></th>\n",
       "      <th>date</th>\n",
       "      <th>admin1</th>\n",
       "      <th>admin2</th>\n",
       "      <th>market</th>\n",
       "      <th>latitude</th>\n",
       "      <th>longitude</th>\n",
       "      <th>category</th>\n",
       "      <th>commodity</th>\n",
       "      <th>unit</th>\n",
       "      <th>priceflag</th>\n",
       "      <th>pricetype</th>\n",
       "      <th>currency</th>\n",
       "      <th>price</th>\n",
       "      <th>usdprice</th>\n",
       "      <th>Maize (white)</th>\n",
       "      <th>Maize (yellow)</th>\n",
       "      <th>Wheat</th>\n",
       "    </tr>\n",
       "  </thead>\n",
       "  <tbody>\n",
       "    <tr>\n",
       "      <th>1</th>\n",
       "      <td>2000-01-15</td>\n",
       "      <td>Gauteng</td>\n",
       "      <td>West Rand District Municipality</td>\n",
       "      <td>Randfontein</td>\n",
       "      <td>-26.199</td>\n",
       "      <td>27.669</td>\n",
       "      <td>cereals and tubers</td>\n",
       "      <td>Maize (white)</td>\n",
       "      <td>KG</td>\n",
       "      <td>actual</td>\n",
       "      <td>Wholesale</td>\n",
       "      <td>ZAR</td>\n",
       "      <td>0.80</td>\n",
       "      <td>0.1321</td>\n",
       "      <td>1</td>\n",
       "      <td>0</td>\n",
       "      <td>0</td>\n",
       "    </tr>\n",
       "    <tr>\n",
       "      <th>2</th>\n",
       "      <td>2000-01-15</td>\n",
       "      <td>Gauteng</td>\n",
       "      <td>West Rand District Municipality</td>\n",
       "      <td>Randfontein</td>\n",
       "      <td>-26.199</td>\n",
       "      <td>27.669</td>\n",
       "      <td>cereals and tubers</td>\n",
       "      <td>Maize (yellow)</td>\n",
       "      <td>KG</td>\n",
       "      <td>actual</td>\n",
       "      <td>Wholesale</td>\n",
       "      <td>ZAR</td>\n",
       "      <td>0.86</td>\n",
       "      <td>0.1413</td>\n",
       "      <td>0</td>\n",
       "      <td>1</td>\n",
       "      <td>0</td>\n",
       "    </tr>\n",
       "    <tr>\n",
       "      <th>3</th>\n",
       "      <td>2000-01-15</td>\n",
       "      <td>Gauteng</td>\n",
       "      <td>West Rand District Municipality</td>\n",
       "      <td>Randfontein</td>\n",
       "      <td>-26.199</td>\n",
       "      <td>27.669</td>\n",
       "      <td>cereals and tubers</td>\n",
       "      <td>Wheat</td>\n",
       "      <td>KG</td>\n",
       "      <td>actual</td>\n",
       "      <td>Wholesale</td>\n",
       "      <td>ZAR</td>\n",
       "      <td>0.65</td>\n",
       "      <td>0.1068</td>\n",
       "      <td>0</td>\n",
       "      <td>0</td>\n",
       "      <td>1</td>\n",
       "    </tr>\n",
       "    <tr>\n",
       "      <th>4</th>\n",
       "      <td>2000-02-15</td>\n",
       "      <td>Gauteng</td>\n",
       "      <td>West Rand District Municipality</td>\n",
       "      <td>Randfontein</td>\n",
       "      <td>-26.199</td>\n",
       "      <td>27.669</td>\n",
       "      <td>cereals and tubers</td>\n",
       "      <td>Maize (white)</td>\n",
       "      <td>KG</td>\n",
       "      <td>actual</td>\n",
       "      <td>Wholesale</td>\n",
       "      <td>ZAR</td>\n",
       "      <td>0.80</td>\n",
       "      <td>0.1260</td>\n",
       "      <td>1</td>\n",
       "      <td>0</td>\n",
       "      <td>0</td>\n",
       "    </tr>\n",
       "    <tr>\n",
       "      <th>5</th>\n",
       "      <td>2000-02-15</td>\n",
       "      <td>Gauteng</td>\n",
       "      <td>West Rand District Municipality</td>\n",
       "      <td>Randfontein</td>\n",
       "      <td>-26.199</td>\n",
       "      <td>27.669</td>\n",
       "      <td>cereals and tubers</td>\n",
       "      <td>Maize (yellow)</td>\n",
       "      <td>KG</td>\n",
       "      <td>actual</td>\n",
       "      <td>Wholesale</td>\n",
       "      <td>ZAR</td>\n",
       "      <td>0.83</td>\n",
       "      <td>0.1305</td>\n",
       "      <td>0</td>\n",
       "      <td>1</td>\n",
       "      <td>0</td>\n",
       "    </tr>\n",
       "    <tr>\n",
       "      <th>...</th>\n",
       "      <td>...</td>\n",
       "      <td>...</td>\n",
       "      <td>...</td>\n",
       "      <td>...</td>\n",
       "      <td>...</td>\n",
       "      <td>...</td>\n",
       "      <td>...</td>\n",
       "      <td>...</td>\n",
       "      <td>...</td>\n",
       "      <td>...</td>\n",
       "      <td>...</td>\n",
       "      <td>...</td>\n",
       "      <td>...</td>\n",
       "      <td>...</td>\n",
       "      <td>...</td>\n",
       "      <td>...</td>\n",
       "      <td>...</td>\n",
       "    </tr>\n",
       "    <tr>\n",
       "      <th>806</th>\n",
       "      <td>2022-05-15</td>\n",
       "      <td>Gauteng</td>\n",
       "      <td>West Rand District Municipality</td>\n",
       "      <td>Randfontein</td>\n",
       "      <td>-26.199</td>\n",
       "      <td>27.669</td>\n",
       "      <td>cereals and tubers</td>\n",
       "      <td>Maize (yellow)</td>\n",
       "      <td>KG</td>\n",
       "      <td>actual</td>\n",
       "      <td>Wholesale</td>\n",
       "      <td>ZAR</td>\n",
       "      <td>4.86</td>\n",
       "      <td>0.3185</td>\n",
       "      <td>0</td>\n",
       "      <td>1</td>\n",
       "      <td>0</td>\n",
       "    </tr>\n",
       "    <tr>\n",
       "      <th>807</th>\n",
       "      <td>2022-05-15</td>\n",
       "      <td>Gauteng</td>\n",
       "      <td>West Rand District Municipality</td>\n",
       "      <td>Randfontein</td>\n",
       "      <td>-26.199</td>\n",
       "      <td>27.669</td>\n",
       "      <td>cereals and tubers</td>\n",
       "      <td>Wheat</td>\n",
       "      <td>KG</td>\n",
       "      <td>actual</td>\n",
       "      <td>Wholesale</td>\n",
       "      <td>ZAR</td>\n",
       "      <td>8.02</td>\n",
       "      <td>0.5256</td>\n",
       "      <td>0</td>\n",
       "      <td>0</td>\n",
       "      <td>1</td>\n",
       "    </tr>\n",
       "    <tr>\n",
       "      <th>808</th>\n",
       "      <td>2022-06-15</td>\n",
       "      <td>Gauteng</td>\n",
       "      <td>West Rand District Municipality</td>\n",
       "      <td>Randfontein</td>\n",
       "      <td>-26.199</td>\n",
       "      <td>27.669</td>\n",
       "      <td>cereals and tubers</td>\n",
       "      <td>Maize (white)</td>\n",
       "      <td>KG</td>\n",
       "      <td>actual</td>\n",
       "      <td>Wholesale</td>\n",
       "      <td>ZAR</td>\n",
       "      <td>4.42</td>\n",
       "      <td>0.2897</td>\n",
       "      <td>1</td>\n",
       "      <td>0</td>\n",
       "      <td>0</td>\n",
       "    </tr>\n",
       "    <tr>\n",
       "      <th>809</th>\n",
       "      <td>2022-06-15</td>\n",
       "      <td>Gauteng</td>\n",
       "      <td>West Rand District Municipality</td>\n",
       "      <td>Randfontein</td>\n",
       "      <td>-26.199</td>\n",
       "      <td>27.669</td>\n",
       "      <td>cereals and tubers</td>\n",
       "      <td>Maize (yellow)</td>\n",
       "      <td>KG</td>\n",
       "      <td>actual</td>\n",
       "      <td>Wholesale</td>\n",
       "      <td>ZAR</td>\n",
       "      <td>4.47</td>\n",
       "      <td>0.2930</td>\n",
       "      <td>0</td>\n",
       "      <td>1</td>\n",
       "      <td>0</td>\n",
       "    </tr>\n",
       "    <tr>\n",
       "      <th>810</th>\n",
       "      <td>2022-06-15</td>\n",
       "      <td>Gauteng</td>\n",
       "      <td>West Rand District Municipality</td>\n",
       "      <td>Randfontein</td>\n",
       "      <td>-26.199</td>\n",
       "      <td>27.669</td>\n",
       "      <td>cereals and tubers</td>\n",
       "      <td>Wheat</td>\n",
       "      <td>KG</td>\n",
       "      <td>actual</td>\n",
       "      <td>Wholesale</td>\n",
       "      <td>ZAR</td>\n",
       "      <td>7.89</td>\n",
       "      <td>0.5171</td>\n",
       "      <td>0</td>\n",
       "      <td>0</td>\n",
       "      <td>1</td>\n",
       "    </tr>\n",
       "  </tbody>\n",
       "</table>\n",
       "<p>810 rows × 17 columns</p>\n",
       "</div>"
=======
      "cell_type": "code",
      "execution_count": null,
      "metadata": {
        "id": "njFMJkZAUVoE",
        "outputId": "d9967abd-8eb3-47a4-9e6b-7f89dbcac0f6",
        "colab": {
          "base_uri": "https://localhost:8080/",
          "height": 337
        }
      },
      "outputs": [
        {
          "output_type": "execute_result",
          "data": {
            "text/plain": [
              "         date   admin1                           admin2       market latitude  \\\n",
              "1  2000-01-15  Gauteng  West Rand District Municipality  Randfontein  -26.199   \n",
              "2  2000-01-15  Gauteng  West Rand District Municipality  Randfontein  -26.199   \n",
              "3  2000-01-15  Gauteng  West Rand District Municipality  Randfontein  -26.199   \n",
              "4  2000-02-15  Gauteng  West Rand District Municipality  Randfontein  -26.199   \n",
              "5  2000-02-15  Gauteng  West Rand District Municipality  Randfontein  -26.199   \n",
              "\n",
              "  longitude            category       commodity unit priceflag  pricetype  \\\n",
              "1    27.669  cereals and tubers   Maize (white)   KG    actual  Wholesale   \n",
              "2    27.669  cereals and tubers  Maize (yellow)   KG    actual  Wholesale   \n",
              "3    27.669  cereals and tubers           Wheat   KG    actual  Wholesale   \n",
              "4    27.669  cereals and tubers   Maize (white)   KG    actual  Wholesale   \n",
              "5    27.669  cereals and tubers  Maize (yellow)   KG    actual  Wholesale   \n",
              "\n",
              "  currency price usdprice  \n",
              "1      ZAR   0.8   0.1321  \n",
              "2      ZAR  0.86   0.1413  \n",
              "3      ZAR  0.65   0.1068  \n",
              "4      ZAR   0.8    0.126  \n",
              "5      ZAR  0.83   0.1305  "
            ],
            "text/html": [
              "\n",
              "  <div id=\"df-7a13ba75-1f4e-42fa-bac6-4d0c8f50723b\">\n",
              "    <div class=\"colab-df-container\">\n",
              "      <div>\n",
              "<style scoped>\n",
              "    .dataframe tbody tr th:only-of-type {\n",
              "        vertical-align: middle;\n",
              "    }\n",
              "\n",
              "    .dataframe tbody tr th {\n",
              "        vertical-align: top;\n",
              "    }\n",
              "\n",
              "    .dataframe thead th {\n",
              "        text-align: right;\n",
              "    }\n",
              "</style>\n",
              "<table border=\"1\" class=\"dataframe\">\n",
              "  <thead>\n",
              "    <tr style=\"text-align: right;\">\n",
              "      <th></th>\n",
              "      <th>date</th>\n",
              "      <th>admin1</th>\n",
              "      <th>admin2</th>\n",
              "      <th>market</th>\n",
              "      <th>latitude</th>\n",
              "      <th>longitude</th>\n",
              "      <th>category</th>\n",
              "      <th>commodity</th>\n",
              "      <th>unit</th>\n",
              "      <th>priceflag</th>\n",
              "      <th>pricetype</th>\n",
              "      <th>currency</th>\n",
              "      <th>price</th>\n",
              "      <th>usdprice</th>\n",
              "    </tr>\n",
              "  </thead>\n",
              "  <tbody>\n",
              "    <tr>\n",
              "      <th>1</th>\n",
              "      <td>2000-01-15</td>\n",
              "      <td>Gauteng</td>\n",
              "      <td>West Rand District Municipality</td>\n",
              "      <td>Randfontein</td>\n",
              "      <td>-26.199</td>\n",
              "      <td>27.669</td>\n",
              "      <td>cereals and tubers</td>\n",
              "      <td>Maize (white)</td>\n",
              "      <td>KG</td>\n",
              "      <td>actual</td>\n",
              "      <td>Wholesale</td>\n",
              "      <td>ZAR</td>\n",
              "      <td>0.8</td>\n",
              "      <td>0.1321</td>\n",
              "    </tr>\n",
              "    <tr>\n",
              "      <th>2</th>\n",
              "      <td>2000-01-15</td>\n",
              "      <td>Gauteng</td>\n",
              "      <td>West Rand District Municipality</td>\n",
              "      <td>Randfontein</td>\n",
              "      <td>-26.199</td>\n",
              "      <td>27.669</td>\n",
              "      <td>cereals and tubers</td>\n",
              "      <td>Maize (yellow)</td>\n",
              "      <td>KG</td>\n",
              "      <td>actual</td>\n",
              "      <td>Wholesale</td>\n",
              "      <td>ZAR</td>\n",
              "      <td>0.86</td>\n",
              "      <td>0.1413</td>\n",
              "    </tr>\n",
              "    <tr>\n",
              "      <th>3</th>\n",
              "      <td>2000-01-15</td>\n",
              "      <td>Gauteng</td>\n",
              "      <td>West Rand District Municipality</td>\n",
              "      <td>Randfontein</td>\n",
              "      <td>-26.199</td>\n",
              "      <td>27.669</td>\n",
              "      <td>cereals and tubers</td>\n",
              "      <td>Wheat</td>\n",
              "      <td>KG</td>\n",
              "      <td>actual</td>\n",
              "      <td>Wholesale</td>\n",
              "      <td>ZAR</td>\n",
              "      <td>0.65</td>\n",
              "      <td>0.1068</td>\n",
              "    </tr>\n",
              "    <tr>\n",
              "      <th>4</th>\n",
              "      <td>2000-02-15</td>\n",
              "      <td>Gauteng</td>\n",
              "      <td>West Rand District Municipality</td>\n",
              "      <td>Randfontein</td>\n",
              "      <td>-26.199</td>\n",
              "      <td>27.669</td>\n",
              "      <td>cereals and tubers</td>\n",
              "      <td>Maize (white)</td>\n",
              "      <td>KG</td>\n",
              "      <td>actual</td>\n",
              "      <td>Wholesale</td>\n",
              "      <td>ZAR</td>\n",
              "      <td>0.8</td>\n",
              "      <td>0.126</td>\n",
              "    </tr>\n",
              "    <tr>\n",
              "      <th>5</th>\n",
              "      <td>2000-02-15</td>\n",
              "      <td>Gauteng</td>\n",
              "      <td>West Rand District Municipality</td>\n",
              "      <td>Randfontein</td>\n",
              "      <td>-26.199</td>\n",
              "      <td>27.669</td>\n",
              "      <td>cereals and tubers</td>\n",
              "      <td>Maize (yellow)</td>\n",
              "      <td>KG</td>\n",
              "      <td>actual</td>\n",
              "      <td>Wholesale</td>\n",
              "      <td>ZAR</td>\n",
              "      <td>0.83</td>\n",
              "      <td>0.1305</td>\n",
              "    </tr>\n",
              "  </tbody>\n",
              "</table>\n",
              "</div>\n",
              "      <button class=\"colab-df-convert\" onclick=\"convertToInteractive('df-7a13ba75-1f4e-42fa-bac6-4d0c8f50723b')\"\n",
              "              title=\"Convert this dataframe to an interactive table.\"\n",
              "              style=\"display:none;\">\n",
              "        \n",
              "  <svg xmlns=\"http://www.w3.org/2000/svg\" height=\"24px\"viewBox=\"0 0 24 24\"\n",
              "       width=\"24px\">\n",
              "    <path d=\"M0 0h24v24H0V0z\" fill=\"none\"/>\n",
              "    <path d=\"M18.56 5.44l.94 2.06.94-2.06 2.06-.94-2.06-.94-.94-2.06-.94 2.06-2.06.94zm-11 1L8.5 8.5l.94-2.06 2.06-.94-2.06-.94L8.5 2.5l-.94 2.06-2.06.94zm10 10l.94 2.06.94-2.06 2.06-.94-2.06-.94-.94-2.06-.94 2.06-2.06.94z\"/><path d=\"M17.41 7.96l-1.37-1.37c-.4-.4-.92-.59-1.43-.59-.52 0-1.04.2-1.43.59L10.3 9.45l-7.72 7.72c-.78.78-.78 2.05 0 2.83L4 21.41c.39.39.9.59 1.41.59.51 0 1.02-.2 1.41-.59l7.78-7.78 2.81-2.81c.8-.78.8-2.07 0-2.86zM5.41 20L4 18.59l7.72-7.72 1.47 1.35L5.41 20z\"/>\n",
              "  </svg>\n",
              "      </button>\n",
              "      \n",
              "  <style>\n",
              "    .colab-df-container {\n",
              "      display:flex;\n",
              "      flex-wrap:wrap;\n",
              "      gap: 12px;\n",
              "    }\n",
              "\n",
              "    .colab-df-convert {\n",
              "      background-color: #E8F0FE;\n",
              "      border: none;\n",
              "      border-radius: 50%;\n",
              "      cursor: pointer;\n",
              "      display: none;\n",
              "      fill: #1967D2;\n",
              "      height: 32px;\n",
              "      padding: 0 0 0 0;\n",
              "      width: 32px;\n",
              "    }\n",
              "\n",
              "    .colab-df-convert:hover {\n",
              "      background-color: #E2EBFA;\n",
              "      box-shadow: 0px 1px 2px rgba(60, 64, 67, 0.3), 0px 1px 3px 1px rgba(60, 64, 67, 0.15);\n",
              "      fill: #174EA6;\n",
              "    }\n",
              "\n",
              "    [theme=dark] .colab-df-convert {\n",
              "      background-color: #3B4455;\n",
              "      fill: #D2E3FC;\n",
              "    }\n",
              "\n",
              "    [theme=dark] .colab-df-convert:hover {\n",
              "      background-color: #434B5C;\n",
              "      box-shadow: 0px 1px 3px 1px rgba(0, 0, 0, 0.15);\n",
              "      filter: drop-shadow(0px 1px 2px rgba(0, 0, 0, 0.3));\n",
              "      fill: #FFFFFF;\n",
              "    }\n",
              "  </style>\n",
              "\n",
              "      <script>\n",
              "        const buttonEl =\n",
              "          document.querySelector('#df-7a13ba75-1f4e-42fa-bac6-4d0c8f50723b button.colab-df-convert');\n",
              "        buttonEl.style.display =\n",
              "          google.colab.kernel.accessAllowed ? 'block' : 'none';\n",
              "\n",
              "        async function convertToInteractive(key) {\n",
              "          const element = document.querySelector('#df-7a13ba75-1f4e-42fa-bac6-4d0c8f50723b');\n",
              "          const dataTable =\n",
              "            await google.colab.kernel.invokeFunction('convertToInteractive',\n",
              "                                                     [key], {});\n",
              "          if (!dataTable) return;\n",
              "\n",
              "          const docLinkHtml = 'Like what you see? Visit the ' +\n",
              "            '<a target=\"_blank\" href=https://colab.research.google.com/notebooks/data_table.ipynb>data table notebook</a>'\n",
              "            + ' to learn more about interactive tables.';\n",
              "          element.innerHTML = '';\n",
              "          dataTable['output_type'] = 'display_data';\n",
              "          await google.colab.output.renderOutput(dataTable, element);\n",
              "          const docLink = document.createElement('div');\n",
              "          docLink.innerHTML = docLinkHtml;\n",
              "          element.appendChild(docLink);\n",
              "        }\n",
              "      </script>\n",
              "    </div>\n",
              "  </div>\n",
              "  "
            ]
          },
          "metadata": {},
          "execution_count": 14
        }
>>>>>>> e31f86b8802a04a1962850d49d4f7a33f00da512
      ],
      "source": [
        "# drop first row, index 0\n",
        "df=df.drop(df.index[[0]])\n",
        "df.head()"
      ]
<<<<<<< HEAD
     },
     "execution_count": 23,
     "metadata": {},
     "output_type": "execute_result"
    }
   ],
   "source": [
    "\n",
    "\n",
    "df"
   ]
  },
  {
   "cell_type": "code",
   "execution_count": 24,
   "metadata": {
    "colab": {
     "base_uri": "https://localhost:8080/"
=======
>>>>>>> e31f86b8802a04a1962850d49d4f7a33f00da512
    },
    {
      "cell_type": "code",
      "execution_count": null,
      "metadata": {
        "id": "ogzwVwaNUVoG"
      },
      "outputs": [],
      "source": [
        "# save data in df1 after grouping commodity with price\n",
        "df1= df[[\"commodity\",\"price\"]].groupby(['commodity'],as_index=False)"
      ]
<<<<<<< HEAD
     },
     "execution_count": 24,
     "metadata": {},
     "output_type": "execute_result"
    }
   ],
   "source": [
    "df[\"date\"].head()"
   ]
  },
  {
   "cell_type": "code",
   "execution_count": 25,
   "metadata": {
    "colab": {
     "base_uri": "https://localhost:8080/"
=======
>>>>>>> e31f86b8802a04a1962850d49d4f7a33f00da512
    },
    {
<<<<<<< HEAD
     "name": "stdout",
     "output_type": "stream",
     "text": [
      "         date   admin1                           admin2       market latitude  \\\n",
      "1  2000-01-15  Gauteng  West Rand District Municipality  Randfontein  -26.199   \n",
      "2  2000-01-15  Gauteng  West Rand District Municipality  Randfontein  -26.199   \n",
      "3  2000-01-15  Gauteng  West Rand District Municipality  Randfontein  -26.199   \n",
      "4  2000-02-15  Gauteng  West Rand District Municipality  Randfontein  -26.199   \n",
      "5  2000-02-15  Gauteng  West Rand District Municipality  Randfontein  -26.199   \n",
      "\n",
      "  longitude            category       commodity unit priceflag  pricetype  \\\n",
      "1    27.669  cereals and tubers   Maize (white)   KG    actual  Wholesale   \n",
      "2    27.669  cereals and tubers  Maize (yellow)   KG    actual  Wholesale   \n",
      "3    27.669  cereals and tubers           Wheat   KG    actual  Wholesale   \n",
      "4    27.669  cereals and tubers   Maize (white)   KG    actual  Wholesale   \n",
      "5    27.669  cereals and tubers  Maize (yellow)   KG    actual  Wholesale   \n",
      "\n",
      "  currency  price  usdprice  Maize (white)  Maize (yellow)  Wheat  \n",
      "1      ZAR   0.80    0.1321              1               0      0  \n",
      "2      ZAR   0.86    0.1413              0               1      0  \n",
      "3      ZAR   0.65    0.1068              0               0      1  \n",
      "4      ZAR   0.80    0.1260              1               0      0  \n",
      "5      ZAR   0.83    0.1305              0               1      0  \n"
     ]
    }
   ],
   "source": [
    "df=df.sort_values(by='date')\n",
    "print(df.head())"
   ]
  },
  {
   "cell_type": "code",
   "execution_count": 26,
   "metadata": {
    "colab": {
     "base_uri": "https://localhost:8080/",
     "height": 206
    },
    "id": "6F84jg6dJTib",
    "outputId": "4f8d61cd-907e-425e-e74a-9c43bfface22"
   },
   "outputs": [
    {
     "data": {
      "text/html": [
       "<div>\n",
       "<style scoped>\n",
       "    .dataframe tbody tr th:only-of-type {\n",
       "        vertical-align: middle;\n",
       "    }\n",
       "\n",
       "    .dataframe tbody tr th {\n",
       "        vertical-align: top;\n",
       "    }\n",
       "\n",
       "    .dataframe thead th {\n",
       "        text-align: right;\n",
       "    }\n",
       "</style>\n",
       "<table border=\"1\" class=\"dataframe\">\n",
       "  <thead>\n",
       "    <tr style=\"text-align: right;\">\n",
       "      <th></th>\n",
       "      <th>date</th>\n",
       "      <th>admin1</th>\n",
       "      <th>admin2</th>\n",
       "      <th>market</th>\n",
       "      <th>latitude</th>\n",
       "      <th>longitude</th>\n",
       "      <th>category</th>\n",
       "      <th>commodity</th>\n",
       "      <th>unit</th>\n",
       "      <th>priceflag</th>\n",
       "      <th>pricetype</th>\n",
       "      <th>currency</th>\n",
       "      <th>price</th>\n",
       "      <th>usdprice</th>\n",
       "      <th>Maize (white)</th>\n",
       "      <th>Maize (yellow)</th>\n",
       "      <th>Wheat</th>\n",
       "      <th>year</th>\n",
       "    </tr>\n",
       "  </thead>\n",
       "  <tbody>\n",
       "    <tr>\n",
       "      <th>1</th>\n",
       "      <td>2000-01-15</td>\n",
       "      <td>Gauteng</td>\n",
       "      <td>West Rand District Municipality</td>\n",
       "      <td>Randfontein</td>\n",
       "      <td>-26.199</td>\n",
       "      <td>27.669</td>\n",
       "      <td>cereals and tubers</td>\n",
       "      <td>Maize (white)</td>\n",
       "      <td>KG</td>\n",
       "      <td>actual</td>\n",
       "      <td>Wholesale</td>\n",
       "      <td>ZAR</td>\n",
       "      <td>0.80</td>\n",
       "      <td>0.1321</td>\n",
       "      <td>1</td>\n",
       "      <td>0</td>\n",
       "      <td>0</td>\n",
       "      <td>2000</td>\n",
       "    </tr>\n",
       "    <tr>\n",
       "      <th>2</th>\n",
       "      <td>2000-01-15</td>\n",
       "      <td>Gauteng</td>\n",
       "      <td>West Rand District Municipality</td>\n",
       "      <td>Randfontein</td>\n",
       "      <td>-26.199</td>\n",
       "      <td>27.669</td>\n",
       "      <td>cereals and tubers</td>\n",
       "      <td>Maize (yellow)</td>\n",
       "      <td>KG</td>\n",
       "      <td>actual</td>\n",
       "      <td>Wholesale</td>\n",
       "      <td>ZAR</td>\n",
       "      <td>0.86</td>\n",
       "      <td>0.1413</td>\n",
       "      <td>0</td>\n",
       "      <td>1</td>\n",
       "      <td>0</td>\n",
       "      <td>2000</td>\n",
       "    </tr>\n",
       "    <tr>\n",
       "      <th>3</th>\n",
       "      <td>2000-01-15</td>\n",
       "      <td>Gauteng</td>\n",
       "      <td>West Rand District Municipality</td>\n",
       "      <td>Randfontein</td>\n",
       "      <td>-26.199</td>\n",
       "      <td>27.669</td>\n",
       "      <td>cereals and tubers</td>\n",
       "      <td>Wheat</td>\n",
       "      <td>KG</td>\n",
       "      <td>actual</td>\n",
       "      <td>Wholesale</td>\n",
       "      <td>ZAR</td>\n",
       "      <td>0.65</td>\n",
       "      <td>0.1068</td>\n",
       "      <td>0</td>\n",
       "      <td>0</td>\n",
       "      <td>1</td>\n",
       "      <td>2000</td>\n",
       "    </tr>\n",
       "    <tr>\n",
       "      <th>4</th>\n",
       "      <td>2000-02-15</td>\n",
       "      <td>Gauteng</td>\n",
       "      <td>West Rand District Municipality</td>\n",
       "      <td>Randfontein</td>\n",
       "      <td>-26.199</td>\n",
       "      <td>27.669</td>\n",
       "      <td>cereals and tubers</td>\n",
       "      <td>Maize (white)</td>\n",
       "      <td>KG</td>\n",
       "      <td>actual</td>\n",
       "      <td>Wholesale</td>\n",
       "      <td>ZAR</td>\n",
       "      <td>0.80</td>\n",
       "      <td>0.1260</td>\n",
       "      <td>1</td>\n",
       "      <td>0</td>\n",
       "      <td>0</td>\n",
       "      <td>2000</td>\n",
       "    </tr>\n",
       "    <tr>\n",
       "      <th>5</th>\n",
       "      <td>2000-02-15</td>\n",
       "      <td>Gauteng</td>\n",
       "      <td>West Rand District Municipality</td>\n",
       "      <td>Randfontein</td>\n",
       "      <td>-26.199</td>\n",
       "      <td>27.669</td>\n",
       "      <td>cereals and tubers</td>\n",
       "      <td>Maize (yellow)</td>\n",
       "      <td>KG</td>\n",
       "      <td>actual</td>\n",
       "      <td>Wholesale</td>\n",
       "      <td>ZAR</td>\n",
       "      <td>0.83</td>\n",
       "      <td>0.1305</td>\n",
       "      <td>0</td>\n",
       "      <td>1</td>\n",
       "      <td>0</td>\n",
       "      <td>2000</td>\n",
       "    </tr>\n",
       "  </tbody>\n",
       "</table>\n",
       "</div>"
=======
      "cell_type": "code",
      "execution_count": null,
      "metadata": {
        "colab": {
          "base_uri": "https://localhost:8080/",
          "height": 520
        },
        "id": "6eB8KyexiaSt",
        "outputId": "4cf30d8a-11a4-4f54-eb3d-ddbb1127085e"
      },
      "outputs": [
        {
          "output_type": "execute_result",
          "data": {
            "text/plain": [
              "         commodity price\n",
              "1    Maize (white)   0.8\n",
              "2   Maize (yellow)  0.86\n",
              "3            Wheat  0.65\n",
              "4    Maize (white)   0.8\n",
              "5   Maize (yellow)  0.83\n",
              "6            Wheat  0.69\n",
              "7    Maize (white)  0.75\n",
              "8   Maize (yellow)  0.73\n",
              "9            Wheat  0.69\n",
              "10   Maize (white)  0.69\n",
              "11  Maize (yellow)  0.67\n",
              "12           Wheat   0.7\n",
              "13   Maize (white)  0.67\n",
              "14  Maize (yellow)  0.68\n",
              "15           Wheat   0.8"
            ],
            "text/html": [
              "\n",
              "  <div id=\"df-61ec953a-27bc-4e43-8ead-fad598c14a00\">\n",
              "    <div class=\"colab-df-container\">\n",
              "      <div>\n",
              "<style scoped>\n",
              "    .dataframe tbody tr th:only-of-type {\n",
              "        vertical-align: middle;\n",
              "    }\n",
              "\n",
              "    .dataframe tbody tr th {\n",
              "        vertical-align: top;\n",
              "    }\n",
              "\n",
              "    .dataframe thead th {\n",
              "        text-align: right;\n",
              "    }\n",
              "</style>\n",
              "<table border=\"1\" class=\"dataframe\">\n",
              "  <thead>\n",
              "    <tr style=\"text-align: right;\">\n",
              "      <th></th>\n",
              "      <th>commodity</th>\n",
              "      <th>price</th>\n",
              "    </tr>\n",
              "  </thead>\n",
              "  <tbody>\n",
              "    <tr>\n",
              "      <th>1</th>\n",
              "      <td>Maize (white)</td>\n",
              "      <td>0.8</td>\n",
              "    </tr>\n",
              "    <tr>\n",
              "      <th>2</th>\n",
              "      <td>Maize (yellow)</td>\n",
              "      <td>0.86</td>\n",
              "    </tr>\n",
              "    <tr>\n",
              "      <th>3</th>\n",
              "      <td>Wheat</td>\n",
              "      <td>0.65</td>\n",
              "    </tr>\n",
              "    <tr>\n",
              "      <th>4</th>\n",
              "      <td>Maize (white)</td>\n",
              "      <td>0.8</td>\n",
              "    </tr>\n",
              "    <tr>\n",
              "      <th>5</th>\n",
              "      <td>Maize (yellow)</td>\n",
              "      <td>0.83</td>\n",
              "    </tr>\n",
              "    <tr>\n",
              "      <th>6</th>\n",
              "      <td>Wheat</td>\n",
              "      <td>0.69</td>\n",
              "    </tr>\n",
              "    <tr>\n",
              "      <th>7</th>\n",
              "      <td>Maize (white)</td>\n",
              "      <td>0.75</td>\n",
              "    </tr>\n",
              "    <tr>\n",
              "      <th>8</th>\n",
              "      <td>Maize (yellow)</td>\n",
              "      <td>0.73</td>\n",
              "    </tr>\n",
              "    <tr>\n",
              "      <th>9</th>\n",
              "      <td>Wheat</td>\n",
              "      <td>0.69</td>\n",
              "    </tr>\n",
              "    <tr>\n",
              "      <th>10</th>\n",
              "      <td>Maize (white)</td>\n",
              "      <td>0.69</td>\n",
              "    </tr>\n",
              "    <tr>\n",
              "      <th>11</th>\n",
              "      <td>Maize (yellow)</td>\n",
              "      <td>0.67</td>\n",
              "    </tr>\n",
              "    <tr>\n",
              "      <th>12</th>\n",
              "      <td>Wheat</td>\n",
              "      <td>0.7</td>\n",
              "    </tr>\n",
              "    <tr>\n",
              "      <th>13</th>\n",
              "      <td>Maize (white)</td>\n",
              "      <td>0.67</td>\n",
              "    </tr>\n",
              "    <tr>\n",
              "      <th>14</th>\n",
              "      <td>Maize (yellow)</td>\n",
              "      <td>0.68</td>\n",
              "    </tr>\n",
              "    <tr>\n",
              "      <th>15</th>\n",
              "      <td>Wheat</td>\n",
              "      <td>0.8</td>\n",
              "    </tr>\n",
              "  </tbody>\n",
              "</table>\n",
              "</div>\n",
              "      <button class=\"colab-df-convert\" onclick=\"convertToInteractive('df-61ec953a-27bc-4e43-8ead-fad598c14a00')\"\n",
              "              title=\"Convert this dataframe to an interactive table.\"\n",
              "              style=\"display:none;\">\n",
              "        \n",
              "  <svg xmlns=\"http://www.w3.org/2000/svg\" height=\"24px\"viewBox=\"0 0 24 24\"\n",
              "       width=\"24px\">\n",
              "    <path d=\"M0 0h24v24H0V0z\" fill=\"none\"/>\n",
              "    <path d=\"M18.56 5.44l.94 2.06.94-2.06 2.06-.94-2.06-.94-.94-2.06-.94 2.06-2.06.94zm-11 1L8.5 8.5l.94-2.06 2.06-.94-2.06-.94L8.5 2.5l-.94 2.06-2.06.94zm10 10l.94 2.06.94-2.06 2.06-.94-2.06-.94-.94-2.06-.94 2.06-2.06.94z\"/><path d=\"M17.41 7.96l-1.37-1.37c-.4-.4-.92-.59-1.43-.59-.52 0-1.04.2-1.43.59L10.3 9.45l-7.72 7.72c-.78.78-.78 2.05 0 2.83L4 21.41c.39.39.9.59 1.41.59.51 0 1.02-.2 1.41-.59l7.78-7.78 2.81-2.81c.8-.78.8-2.07 0-2.86zM5.41 20L4 18.59l7.72-7.72 1.47 1.35L5.41 20z\"/>\n",
              "  </svg>\n",
              "      </button>\n",
              "      \n",
              "  <style>\n",
              "    .colab-df-container {\n",
              "      display:flex;\n",
              "      flex-wrap:wrap;\n",
              "      gap: 12px;\n",
              "    }\n",
              "\n",
              "    .colab-df-convert {\n",
              "      background-color: #E8F0FE;\n",
              "      border: none;\n",
              "      border-radius: 50%;\n",
              "      cursor: pointer;\n",
              "      display: none;\n",
              "      fill: #1967D2;\n",
              "      height: 32px;\n",
              "      padding: 0 0 0 0;\n",
              "      width: 32px;\n",
              "    }\n",
              "\n",
              "    .colab-df-convert:hover {\n",
              "      background-color: #E2EBFA;\n",
              "      box-shadow: 0px 1px 2px rgba(60, 64, 67, 0.3), 0px 1px 3px 1px rgba(60, 64, 67, 0.15);\n",
              "      fill: #174EA6;\n",
              "    }\n",
              "\n",
              "    [theme=dark] .colab-df-convert {\n",
              "      background-color: #3B4455;\n",
              "      fill: #D2E3FC;\n",
              "    }\n",
              "\n",
              "    [theme=dark] .colab-df-convert:hover {\n",
              "      background-color: #434B5C;\n",
              "      box-shadow: 0px 1px 3px 1px rgba(0, 0, 0, 0.15);\n",
              "      filter: drop-shadow(0px 1px 2px rgba(0, 0, 0, 0.3));\n",
              "      fill: #FFFFFF;\n",
              "    }\n",
              "  </style>\n",
              "\n",
              "      <script>\n",
              "        const buttonEl =\n",
              "          document.querySelector('#df-61ec953a-27bc-4e43-8ead-fad598c14a00 button.colab-df-convert');\n",
              "        buttonEl.style.display =\n",
              "          google.colab.kernel.accessAllowed ? 'block' : 'none';\n",
              "\n",
              "        async function convertToInteractive(key) {\n",
              "          const element = document.querySelector('#df-61ec953a-27bc-4e43-8ead-fad598c14a00');\n",
              "          const dataTable =\n",
              "            await google.colab.kernel.invokeFunction('convertToInteractive',\n",
              "                                                     [key], {});\n",
              "          if (!dataTable) return;\n",
              "\n",
              "          const docLinkHtml = 'Like what you see? Visit the ' +\n",
              "            '<a target=\"_blank\" href=https://colab.research.google.com/notebooks/data_table.ipynb>data table notebook</a>'\n",
              "            + ' to learn more about interactive tables.';\n",
              "          element.innerHTML = '';\n",
              "          dataTable['output_type'] = 'display_data';\n",
              "          await google.colab.output.renderOutput(dataTable, element);\n",
              "          const docLink = document.createElement('div');\n",
              "          docLink.innerHTML = docLinkHtml;\n",
              "          element.appendChild(docLink);\n",
              "        }\n",
              "      </script>\n",
              "    </div>\n",
              "  </div>\n",
              "  "
            ]
          },
          "metadata": {},
          "execution_count": 16
        }
>>>>>>> e31f86b8802a04a1962850d49d4f7a33f00da512
      ],
      "source": [
        "# diplay the first five rows\n",
        "df1.head()"
      ]
<<<<<<< HEAD
     },
     "execution_count": 26,
     "metadata": {},
     "output_type": "execute_result"
    }
   ],
   "source": [
    "# convert Year to Datetime \n",
    "df['year'] = pd.DatetimeIndex(df['date']).year\n",
    "df.head()"
   ]
  },
  {
   "cell_type": "code",
   "execution_count": 27,
   "metadata": {
    "colab": {
     "base_uri": "https://localhost:8080/",
     "height": 206
=======
>>>>>>> e31f86b8802a04a1962850d49d4f7a33f00da512
    },
    {
      "cell_type": "code",
      "execution_count": null,
      "metadata": {
        "colab": {
          "base_uri": "https://localhost:8080/",
          "height": 520
        },
        "id": "6kjxVbXNiiUt",
        "outputId": "f003f9dc-856a-4cdb-edf5-1ee80396e345"
      },
      "outputs": [
        {
          "output_type": "execute_result",
          "data": {
            "text/plain": [
              "          commodity price\n",
              "796   Maize (white)  3.69\n",
              "797  Maize (yellow)  3.82\n",
              "798           Wheat  5.98\n",
              "799   Maize (white)   4.0\n",
              "800  Maize (yellow)  4.18\n",
              "801           Wheat  6.88\n",
              "802   Maize (white)   4.2\n",
              "803  Maize (yellow)  4.33\n",
              "804           Wheat  7.06\n",
              "805   Maize (white)  4.57\n",
              "806  Maize (yellow)  4.86\n",
              "807           Wheat  8.02\n",
              "808   Maize (white)  4.42\n",
              "809  Maize (yellow)  4.47\n",
              "810           Wheat  7.89"
            ],
            "text/html": [
              "\n",
              "  <div id=\"df-9e6350eb-294e-43cd-9382-4d1fa30a29b9\">\n",
              "    <div class=\"colab-df-container\">\n",
              "      <div>\n",
              "<style scoped>\n",
              "    .dataframe tbody tr th:only-of-type {\n",
              "        vertical-align: middle;\n",
              "    }\n",
              "\n",
              "    .dataframe tbody tr th {\n",
              "        vertical-align: top;\n",
              "    }\n",
              "\n",
              "    .dataframe thead th {\n",
              "        text-align: right;\n",
              "    }\n",
              "</style>\n",
              "<table border=\"1\" class=\"dataframe\">\n",
              "  <thead>\n",
              "    <tr style=\"text-align: right;\">\n",
              "      <th></th>\n",
              "      <th>commodity</th>\n",
              "      <th>price</th>\n",
              "    </tr>\n",
              "  </thead>\n",
              "  <tbody>\n",
              "    <tr>\n",
              "      <th>796</th>\n",
              "      <td>Maize (white)</td>\n",
              "      <td>3.69</td>\n",
              "    </tr>\n",
              "    <tr>\n",
              "      <th>797</th>\n",
              "      <td>Maize (yellow)</td>\n",
              "      <td>3.82</td>\n",
              "    </tr>\n",
              "    <tr>\n",
              "      <th>798</th>\n",
              "      <td>Wheat</td>\n",
              "      <td>5.98</td>\n",
              "    </tr>\n",
              "    <tr>\n",
              "      <th>799</th>\n",
              "      <td>Maize (white)</td>\n",
              "      <td>4.0</td>\n",
              "    </tr>\n",
              "    <tr>\n",
              "      <th>800</th>\n",
              "      <td>Maize (yellow)</td>\n",
              "      <td>4.18</td>\n",
              "    </tr>\n",
              "    <tr>\n",
              "      <th>801</th>\n",
              "      <td>Wheat</td>\n",
              "      <td>6.88</td>\n",
              "    </tr>\n",
              "    <tr>\n",
              "      <th>802</th>\n",
              "      <td>Maize (white)</td>\n",
              "      <td>4.2</td>\n",
              "    </tr>\n",
              "    <tr>\n",
              "      <th>803</th>\n",
              "      <td>Maize (yellow)</td>\n",
              "      <td>4.33</td>\n",
              "    </tr>\n",
              "    <tr>\n",
              "      <th>804</th>\n",
              "      <td>Wheat</td>\n",
              "      <td>7.06</td>\n",
              "    </tr>\n",
              "    <tr>\n",
              "      <th>805</th>\n",
              "      <td>Maize (white)</td>\n",
              "      <td>4.57</td>\n",
              "    </tr>\n",
              "    <tr>\n",
              "      <th>806</th>\n",
              "      <td>Maize (yellow)</td>\n",
              "      <td>4.86</td>\n",
              "    </tr>\n",
              "    <tr>\n",
              "      <th>807</th>\n",
              "      <td>Wheat</td>\n",
              "      <td>8.02</td>\n",
              "    </tr>\n",
              "    <tr>\n",
              "      <th>808</th>\n",
              "      <td>Maize (white)</td>\n",
              "      <td>4.42</td>\n",
              "    </tr>\n",
              "    <tr>\n",
              "      <th>809</th>\n",
              "      <td>Maize (yellow)</td>\n",
              "      <td>4.47</td>\n",
              "    </tr>\n",
              "    <tr>\n",
              "      <th>810</th>\n",
              "      <td>Wheat</td>\n",
              "      <td>7.89</td>\n",
              "    </tr>\n",
              "  </tbody>\n",
              "</table>\n",
              "</div>\n",
              "      <button class=\"colab-df-convert\" onclick=\"convertToInteractive('df-9e6350eb-294e-43cd-9382-4d1fa30a29b9')\"\n",
              "              title=\"Convert this dataframe to an interactive table.\"\n",
              "              style=\"display:none;\">\n",
              "        \n",
              "  <svg xmlns=\"http://www.w3.org/2000/svg\" height=\"24px\"viewBox=\"0 0 24 24\"\n",
              "       width=\"24px\">\n",
              "    <path d=\"M0 0h24v24H0V0z\" fill=\"none\"/>\n",
              "    <path d=\"M18.56 5.44l.94 2.06.94-2.06 2.06-.94-2.06-.94-.94-2.06-.94 2.06-2.06.94zm-11 1L8.5 8.5l.94-2.06 2.06-.94-2.06-.94L8.5 2.5l-.94 2.06-2.06.94zm10 10l.94 2.06.94-2.06 2.06-.94-2.06-.94-.94-2.06-.94 2.06-2.06.94z\"/><path d=\"M17.41 7.96l-1.37-1.37c-.4-.4-.92-.59-1.43-.59-.52 0-1.04.2-1.43.59L10.3 9.45l-7.72 7.72c-.78.78-.78 2.05 0 2.83L4 21.41c.39.39.9.59 1.41.59.51 0 1.02-.2 1.41-.59l7.78-7.78 2.81-2.81c.8-.78.8-2.07 0-2.86zM5.41 20L4 18.59l7.72-7.72 1.47 1.35L5.41 20z\"/>\n",
              "  </svg>\n",
              "      </button>\n",
              "      \n",
              "  <style>\n",
              "    .colab-df-container {\n",
              "      display:flex;\n",
              "      flex-wrap:wrap;\n",
              "      gap: 12px;\n",
              "    }\n",
              "\n",
              "    .colab-df-convert {\n",
              "      background-color: #E8F0FE;\n",
              "      border: none;\n",
              "      border-radius: 50%;\n",
              "      cursor: pointer;\n",
              "      display: none;\n",
              "      fill: #1967D2;\n",
              "      height: 32px;\n",
              "      padding: 0 0 0 0;\n",
              "      width: 32px;\n",
              "    }\n",
              "\n",
              "    .colab-df-convert:hover {\n",
              "      background-color: #E2EBFA;\n",
              "      box-shadow: 0px 1px 2px rgba(60, 64, 67, 0.3), 0px 1px 3px 1px rgba(60, 64, 67, 0.15);\n",
              "      fill: #174EA6;\n",
              "    }\n",
              "\n",
              "    [theme=dark] .colab-df-convert {\n",
              "      background-color: #3B4455;\n",
              "      fill: #D2E3FC;\n",
              "    }\n",
              "\n",
              "    [theme=dark] .colab-df-convert:hover {\n",
              "      background-color: #434B5C;\n",
              "      box-shadow: 0px 1px 3px 1px rgba(0, 0, 0, 0.15);\n",
              "      filter: drop-shadow(0px 1px 2px rgba(0, 0, 0, 0.3));\n",
              "      fill: #FFFFFF;\n",
              "    }\n",
              "  </style>\n",
              "\n",
              "      <script>\n",
              "        const buttonEl =\n",
              "          document.querySelector('#df-9e6350eb-294e-43cd-9382-4d1fa30a29b9 button.colab-df-convert');\n",
              "        buttonEl.style.display =\n",
              "          google.colab.kernel.accessAllowed ? 'block' : 'none';\n",
              "\n",
              "        async function convertToInteractive(key) {\n",
              "          const element = document.querySelector('#df-9e6350eb-294e-43cd-9382-4d1fa30a29b9');\n",
              "          const dataTable =\n",
              "            await google.colab.kernel.invokeFunction('convertToInteractive',\n",
              "                                                     [key], {});\n",
              "          if (!dataTable) return;\n",
              "\n",
              "          const docLinkHtml = 'Like what you see? Visit the ' +\n",
              "            '<a target=\"_blank\" href=https://colab.research.google.com/notebooks/data_table.ipynb>data table notebook</a>'\n",
              "            + ' to learn more about interactive tables.';\n",
              "          element.innerHTML = '';\n",
              "          dataTable['output_type'] = 'display_data';\n",
              "          await google.colab.output.renderOutput(dataTable, element);\n",
              "          const docLink = document.createElement('div');\n",
              "          docLink.innerHTML = docLinkHtml;\n",
              "          element.appendChild(docLink);\n",
              "        }\n",
              "      </script>\n",
              "    </div>\n",
              "  </div>\n",
              "  "
            ]
          },
          "metadata": {},
          "execution_count": 17
        }
      ],
      "source": [
        "# display commodity and price\n",
        "df1.tail()"
      ]
<<<<<<< HEAD
     },
     "execution_count": 27,
     "metadata": {},
     "output_type": "execute_result"
    }
   ],
   "source": [
    "\n",
    "df['month'] = pd.DatetimeIndex(df['date']).month\n",
    "df.head()"
   ]
  },
  {
   "cell_type": "code",
   "execution_count": 28,
   "metadata": {
    "colab": {
     "base_uri": "https://localhost:8080/",
     "height": 238
=======
>>>>>>> e31f86b8802a04a1962850d49d4f7a33f00da512
    },
    {
      "cell_type": "code",
      "execution_count": null,
      "metadata": {
        "colab": {
          "base_uri": "https://localhost:8080/"
        },
        "id": "Bsa0j0YK20gn",
        "outputId": "cae6c128-006b-454b-a311-173e8c67a471"
      },
      "outputs": [
        {
          "output_type": "execute_result",
          "data": {
            "text/plain": [
              "Maize (white)     270\n",
              "Maize (yellow)    270\n",
              "Wheat             270\n",
              "Name: commodity, dtype: int64"
            ]
          },
          "metadata": {},
          "execution_count": 19
        }
      ],
      "source": [
        "#computing total numbers of commodities\n",
        "df['commodity'].value_counts()"
      ]
<<<<<<< HEAD
     },
     "execution_count": 28,
     "metadata": {},
     "output_type": "execute_result"
    }
   ],
   "source": [
    "df=df.set_index('date')\n",
    "df.head()"
   ]
  },
  {
   "cell_type": "code",
   "execution_count": 29,
   "metadata": {
    "colab": {
     "base_uri": "https://localhost:8080/",
     "height": 206
=======
>>>>>>> e31f86b8802a04a1962850d49d4f7a33f00da512
    },
    {
      "cell_type": "code",
      "execution_count": null,
      "metadata": {
        "colab": {
          "base_uri": "https://localhost:8080/",
          "height": 140
        },
        "id": "MGZdecPXf_xF",
        "outputId": "1f1330f6-847d-4563-820e-0f821b3db2ff"
      },
      "outputs": [
        {
          "output_type": "execute_result",
          "data": {
            "text/plain": [
              "'0.80.860.650.80.830.690.750.730.690.690.670.70.670.680.80.60.610.80.540.530.760.510.50.750.540.540.840.620.630.950.670.710.980.690.740.980.80.821.040.840.891.00.820.861.030.810.821.050.760.771.070.780.81.030.90.881.020.980.921.011.00.981.051.061.051.131.281.231.241.551.481.421.741.651.461.851.521.422.011.471.421.921.391.381.781.311.231.751.351.331.71.391.491.741.491.691.761.541.961.761.471.971.81.41.721.741.351.451.531.31.31.11.091.260.890.941.150.790.831.070.880.91.090.890.921.040.830.860.980.860.881.10.90.931.070.880.931.040.910.971.081.091.11.081.31.291.151.331.381.091.081.221.041.111.21.071.051.081.110.991.01.00.880.90.930.940.960.910.920.950.970.90.940.960.970.960.950.820.880.880.660.730.920.540.650.910.530.60.910.550.610.870.560.610.920.580.610.960.610.630.950.650.620.960.80.711.010.850.761.110.930.811.071.140.881.041.130.951.021.020.961.11.141.011.091.091.01.091.21.071.241.341.21.361.41.261.441.291.211.321.331.251.451.341.281.621.381.481.521.421.61.441.421.571.751.51.641.841.971.92.091.671.672.161.651.682.251.741.742.451.681.682.741.831.833.091.861.923.361.821.93.061.872.02.81.731.873.051.791.913.171.751.833.761.871.924.071.861.853.961.781.83.82.012.064.041.962.013.971.851.833.761.861.863.321.781.783.011.761.732.61.671.642.521.811.732.751.731.62.741.71.532.671.631.432.531.61.462.631.511.452.61.341.272.491.411.322.391.411.242.141.491.362.141.531.442.161.641.532.111.41.412.071.151.232.11.121.172.091.11.162.171.121.182.251.051.12.291.11.152.421.181.252.71.281.362.791.251.362.661.311.42.681.341.42.81.351.462.961.571.633.291.561.613.071.631.653.091.681.723.231.751.763.041.81.782.982.072.083.132.212.183.122.252.22.872.472.42.752.472.512.652.742.762.762.42.472.762.482.372.712.292.162.72.062.02.82.062.032.972.542.513.432.682.693.452.422.453.412.452.493.532.452.513.682.312.423.562.162.263.522.112.163.452.322.273.42.152.153.382.172.183.482.292.273.562.262.173.352.32.143.442.312.123.352.362.173.452.452.393.542.752.733.583.163.183.743.173.173.823.363.233.992.642.453.931.992.053.951.831.953.791.711.793.711.731.83.71.721.753.71.881.93.611.972.013.652.112.123.852.012.023.912.552.323.842.652.443.872.562.373.792.742.393.822.892.53.873.172.774.053.052.74.053.122.864.163.142.874.153.233.124.413.983.564.654.953.884.894.993.724.664.843.294.624.513.114.574.863.474.984.783.664.824.453.314.514.143.124.23.923.144.113.553.174.133.793.23.944.03.283.913.43.183.952.942.863.982.142.154.032.012.094.411.841.944.431.731.864.411.821.944.51.821.944.441.831.954.161.891.994.161.992.094.181.861.953.921.931.973.681.791.893.581.91.983.711.972.073.852.112.23.892.072.173.922.032.114.072.272.334.242.382.424.362.372.44.392.42.394.282.792.644.332.992.744.442.742.64.472.92.684.552.762.574.572.782.624.492.852.834.522.92.84.512.872.744.62.772.654.62.882.84.492.722.674.372.682.644.392.932.84.552.822.674.743.132.665.083.292.795.482.582.595.492.472.585.252.62.685.762.932.945.713.283.195.033.63.485.153.443.384.993.373.294.773.543.545.143.283.385.093.223.325.153.163.324.93.313.455.163.163.295.083.03.05.03.233.395.513.13.266.083.123.375.773.393.555.993.573.866.023.693.835.913.693.825.984.04.186.884.24.337.064.574.868.024.424.477.89'"
            ],
            "application/vnd.google.colaboratory.intrinsic+json": {
              "type": "string"
            }
          },
          "metadata": {},
          "execution_count": 20
        }
      ],
      "source": [
        "# the sum of the price values\n",
        "df['price'].sum()"
      ]
<<<<<<< HEAD
     },
     "execution_count": 29,
     "metadata": {},
     "output_type": "execute_result"
    }
   ],
   "source": [
    "df.index.names = [None]\n",
    " \n",
    "df.head()"
   ]
  },
  {
   "cell_type": "code",
   "execution_count": 30,
   "metadata": {
    "colab": {
     "base_uri": "https://localhost:8080/",
     "height": 206
=======
>>>>>>> e31f86b8802a04a1962850d49d4f7a33f00da512
    },
    {
      "cell_type": "code",
      "execution_count": null,
      "metadata": {
        "colab": {
          "base_uri": "https://localhost:8080/"
        },
        "id": "uQVDLkSygkWZ",
        "outputId": "364509fa-fd1b-4ab9-c821-304b76e2143d"
      },
      "outputs": [
        {
          "output_type": "stream",
          "name": "stderr",
          "text": [
            "/usr/local/lib/python3.7/dist-packages/ipykernel_launcher.py:1: FutureWarning: The default value of regex will change from True to False in a future version. In addition, single character regular expressions will *not* be treated as literal strings when regex=True.\n",
            "  \"\"\"Entry point for launching an IPython kernel.\n"
          ]
        }
      ],
      "source": [
        "#formatting the values of price since they not adding up\n",
        "df['price'] = pd.to_numeric(df['price'].str.replace('.', '.'))"
      ]
<<<<<<< HEAD
     },
     "execution_count": 30,
     "metadata": {},
     "output_type": "execute_result"
    }
   ],
   "source": [
    "df=df.rename_axis(\"date\", axis=\"columns\")\n",
    "df.head()"
   ]
  },
  {
   "cell_type": "markdown",
   "metadata": {
    "id": "7kAGa8s98o4C"
   },
   "source": [
    "Downloading data to the csv file"
   ]
  },
  {
   "cell_type": "code",
   "execution_count": 31,
   "metadata": {
    "id": "uMQaXcIgxv7i"
   },
   "outputs": [],
   "source": [
    "df.to_csv('food_prices_cleaned.csv')"
   ]
  },
  {
   "cell_type": "code",
   "execution_count": 32,
   "metadata": {},
   "outputs": [],
   "source": [
    "df.to_csv(\"food_prices_cleaned.csv\", index=False, header=True)"
   ]
  },
  {
   "cell_type": "code",
   "execution_count": 33,
   "metadata": {
    "id": "0Q27HtGg8RMe"
   },
   "outputs": [],
   "source": [
    "#from google.colab import files\n",
    "#df.download(\"food_prices_cleaned.csv\")"
   ]
  },
  {
   "cell_type": "code",
   "execution_count": 34,
   "metadata": {
=======
    },
    {
      "cell_type": "code",
      "execution_count": null,
      "metadata": {
        "colab": {
          "base_uri": "https://localhost:8080/"
        },
        "id": "5QWLWPlThUvl",
        "outputId": "51df51ae-03da-45f4-d283-1e1bc74af26f"
      },
      "outputs": [
        {
          "output_type": "stream",
          "name": "stderr",
          "text": [
            "/usr/local/lib/python3.7/dist-packages/ipykernel_launcher.py:1: FutureWarning: The default value of regex will change from True to False in a future version. In addition, single character regular expressions will *not* be treated as literal strings when regex=True.\n",
            "  \"\"\"Entry point for launching an IPython kernel.\n"
          ]
        }
      ],
      "source": [
        "#formatting the values of usdprice since they not adding up\n",
        "df['usdprice'] = pd.to_numeric(df['usdprice'].str.replace('.', '.'))"
      ]
    },
    {
      "cell_type": "code",
      "execution_count": null,
      "metadata": {
        "colab": {
          "base_uri": "https://localhost:8080/"
        },
        "id": "mi9YvztkhNfJ",
        "outputId": "c7b492b7-a827-44be-871b-aea2e6b9f44a"
      },
      "outputs": [
        {
          "output_type": "execute_result",
          "data": {
            "text/plain": [
              "1    0.80\n",
              "2    0.86\n",
              "3    0.65\n",
              "4    0.80\n",
              "5    0.83\n",
              "Name: price, dtype: float64"
            ]
          },
          "metadata": {},
          "execution_count": 23
        }
      ],
      "source": [
        "#checking first five values of price\n",
        "df['price'].head()"
      ]
    },
    {
      "cell_type": "code",
      "execution_count": null,
      "metadata": {
        "colab": {
          "base_uri": "https://localhost:8080/"
        },
        "id": "TW9jatfdg9_x",
        "outputId": "5d63f873-fe67-4805-c1da-e0f144115cae"
      },
      "outputs": [
        {
          "output_type": "execute_result",
          "data": {
            "text/plain": [
              "1877.55"
            ]
          },
          "metadata": {},
          "execution_count": 24
        }
      ],
      "source": [
        "#computing sum of prices\n",
        "df['price'].sum()"
      ]
    },
    {
      "cell_type": "code",
      "execution_count": null,
      "metadata": {
        "id": "JqAh_zWc-hTl"
      },
      "outputs": [],
      "source": [
        "#catogorising commodity types \n",
        "df=pd.concat([df, pd.get_dummies(df.commodity)], axis=1)"
      ]
    },
    {
      "cell_type": "code",
      "execution_count": null,
      "metadata": {
        "colab": {
          "base_uri": "https://localhost:8080/",
          "height": 852
        },
        "id": "-BjzafVKG0iz",
        "outputId": "4c3228cc-6f38-4ef9-9d36-2ec807c9b88c"
      },
      "outputs": [
        {
          "output_type": "execute_result",
          "data": {
            "text/plain": [
              "           date   admin1                           admin2       market  \\\n",
              "1    2000-01-15  Gauteng  West Rand District Municipality  Randfontein   \n",
              "2    2000-01-15  Gauteng  West Rand District Municipality  Randfontein   \n",
              "3    2000-01-15  Gauteng  West Rand District Municipality  Randfontein   \n",
              "4    2000-02-15  Gauteng  West Rand District Municipality  Randfontein   \n",
              "5    2000-02-15  Gauteng  West Rand District Municipality  Randfontein   \n",
              "..          ...      ...                              ...          ...   \n",
              "806  2022-05-15  Gauteng  West Rand District Municipality  Randfontein   \n",
              "807  2022-05-15  Gauteng  West Rand District Municipality  Randfontein   \n",
              "808  2022-06-15  Gauteng  West Rand District Municipality  Randfontein   \n",
              "809  2022-06-15  Gauteng  West Rand District Municipality  Randfontein   \n",
              "810  2022-06-15  Gauteng  West Rand District Municipality  Randfontein   \n",
              "\n",
              "    latitude longitude            category       commodity unit priceflag  \\\n",
              "1    -26.199    27.669  cereals and tubers   Maize (white)   KG    actual   \n",
              "2    -26.199    27.669  cereals and tubers  Maize (yellow)   KG    actual   \n",
              "3    -26.199    27.669  cereals and tubers           Wheat   KG    actual   \n",
              "4    -26.199    27.669  cereals and tubers   Maize (white)   KG    actual   \n",
              "5    -26.199    27.669  cereals and tubers  Maize (yellow)   KG    actual   \n",
              "..       ...       ...                 ...             ...  ...       ...   \n",
              "806  -26.199    27.669  cereals and tubers  Maize (yellow)   KG    actual   \n",
              "807  -26.199    27.669  cereals and tubers           Wheat   KG    actual   \n",
              "808  -26.199    27.669  cereals and tubers   Maize (white)   KG    actual   \n",
              "809  -26.199    27.669  cereals and tubers  Maize (yellow)   KG    actual   \n",
              "810  -26.199    27.669  cereals and tubers           Wheat   KG    actual   \n",
              "\n",
              "     pricetype currency  price  usdprice  Maize (white)  Maize (yellow)  Wheat  \n",
              "1    Wholesale      ZAR   0.80    0.1321              1               0      0  \n",
              "2    Wholesale      ZAR   0.86    0.1413              0               1      0  \n",
              "3    Wholesale      ZAR   0.65    0.1068              0               0      1  \n",
              "4    Wholesale      ZAR   0.80    0.1260              1               0      0  \n",
              "5    Wholesale      ZAR   0.83    0.1305              0               1      0  \n",
              "..         ...      ...    ...       ...            ...             ...    ...  \n",
              "806  Wholesale      ZAR   4.86    0.3185              0               1      0  \n",
              "807  Wholesale      ZAR   8.02    0.5256              0               0      1  \n",
              "808  Wholesale      ZAR   4.42    0.2897              1               0      0  \n",
              "809  Wholesale      ZAR   4.47    0.2930              0               1      0  \n",
              "810  Wholesale      ZAR   7.89    0.5171              0               0      1  \n",
              "\n",
              "[810 rows x 17 columns]"
            ],
            "text/html": [
              "\n",
              "  <div id=\"df-a90314ee-4d50-4346-b25f-15cfe5189645\">\n",
              "    <div class=\"colab-df-container\">\n",
              "      <div>\n",
              "<style scoped>\n",
              "    .dataframe tbody tr th:only-of-type {\n",
              "        vertical-align: middle;\n",
              "    }\n",
              "\n",
              "    .dataframe tbody tr th {\n",
              "        vertical-align: top;\n",
              "    }\n",
              "\n",
              "    .dataframe thead th {\n",
              "        text-align: right;\n",
              "    }\n",
              "</style>\n",
              "<table border=\"1\" class=\"dataframe\">\n",
              "  <thead>\n",
              "    <tr style=\"text-align: right;\">\n",
              "      <th></th>\n",
              "      <th>date</th>\n",
              "      <th>admin1</th>\n",
              "      <th>admin2</th>\n",
              "      <th>market</th>\n",
              "      <th>latitude</th>\n",
              "      <th>longitude</th>\n",
              "      <th>category</th>\n",
              "      <th>commodity</th>\n",
              "      <th>unit</th>\n",
              "      <th>priceflag</th>\n",
              "      <th>pricetype</th>\n",
              "      <th>currency</th>\n",
              "      <th>price</th>\n",
              "      <th>usdprice</th>\n",
              "      <th>Maize (white)</th>\n",
              "      <th>Maize (yellow)</th>\n",
              "      <th>Wheat</th>\n",
              "    </tr>\n",
              "  </thead>\n",
              "  <tbody>\n",
              "    <tr>\n",
              "      <th>1</th>\n",
              "      <td>2000-01-15</td>\n",
              "      <td>Gauteng</td>\n",
              "      <td>West Rand District Municipality</td>\n",
              "      <td>Randfontein</td>\n",
              "      <td>-26.199</td>\n",
              "      <td>27.669</td>\n",
              "      <td>cereals and tubers</td>\n",
              "      <td>Maize (white)</td>\n",
              "      <td>KG</td>\n",
              "      <td>actual</td>\n",
              "      <td>Wholesale</td>\n",
              "      <td>ZAR</td>\n",
              "      <td>0.80</td>\n",
              "      <td>0.1321</td>\n",
              "      <td>1</td>\n",
              "      <td>0</td>\n",
              "      <td>0</td>\n",
              "    </tr>\n",
              "    <tr>\n",
              "      <th>2</th>\n",
              "      <td>2000-01-15</td>\n",
              "      <td>Gauteng</td>\n",
              "      <td>West Rand District Municipality</td>\n",
              "      <td>Randfontein</td>\n",
              "      <td>-26.199</td>\n",
              "      <td>27.669</td>\n",
              "      <td>cereals and tubers</td>\n",
              "      <td>Maize (yellow)</td>\n",
              "      <td>KG</td>\n",
              "      <td>actual</td>\n",
              "      <td>Wholesale</td>\n",
              "      <td>ZAR</td>\n",
              "      <td>0.86</td>\n",
              "      <td>0.1413</td>\n",
              "      <td>0</td>\n",
              "      <td>1</td>\n",
              "      <td>0</td>\n",
              "    </tr>\n",
              "    <tr>\n",
              "      <th>3</th>\n",
              "      <td>2000-01-15</td>\n",
              "      <td>Gauteng</td>\n",
              "      <td>West Rand District Municipality</td>\n",
              "      <td>Randfontein</td>\n",
              "      <td>-26.199</td>\n",
              "      <td>27.669</td>\n",
              "      <td>cereals and tubers</td>\n",
              "      <td>Wheat</td>\n",
              "      <td>KG</td>\n",
              "      <td>actual</td>\n",
              "      <td>Wholesale</td>\n",
              "      <td>ZAR</td>\n",
              "      <td>0.65</td>\n",
              "      <td>0.1068</td>\n",
              "      <td>0</td>\n",
              "      <td>0</td>\n",
              "      <td>1</td>\n",
              "    </tr>\n",
              "    <tr>\n",
              "      <th>4</th>\n",
              "      <td>2000-02-15</td>\n",
              "      <td>Gauteng</td>\n",
              "      <td>West Rand District Municipality</td>\n",
              "      <td>Randfontein</td>\n",
              "      <td>-26.199</td>\n",
              "      <td>27.669</td>\n",
              "      <td>cereals and tubers</td>\n",
              "      <td>Maize (white)</td>\n",
              "      <td>KG</td>\n",
              "      <td>actual</td>\n",
              "      <td>Wholesale</td>\n",
              "      <td>ZAR</td>\n",
              "      <td>0.80</td>\n",
              "      <td>0.1260</td>\n",
              "      <td>1</td>\n",
              "      <td>0</td>\n",
              "      <td>0</td>\n",
              "    </tr>\n",
              "    <tr>\n",
              "      <th>5</th>\n",
              "      <td>2000-02-15</td>\n",
              "      <td>Gauteng</td>\n",
              "      <td>West Rand District Municipality</td>\n",
              "      <td>Randfontein</td>\n",
              "      <td>-26.199</td>\n",
              "      <td>27.669</td>\n",
              "      <td>cereals and tubers</td>\n",
              "      <td>Maize (yellow)</td>\n",
              "      <td>KG</td>\n",
              "      <td>actual</td>\n",
              "      <td>Wholesale</td>\n",
              "      <td>ZAR</td>\n",
              "      <td>0.83</td>\n",
              "      <td>0.1305</td>\n",
              "      <td>0</td>\n",
              "      <td>1</td>\n",
              "      <td>0</td>\n",
              "    </tr>\n",
              "    <tr>\n",
              "      <th>...</th>\n",
              "      <td>...</td>\n",
              "      <td>...</td>\n",
              "      <td>...</td>\n",
              "      <td>...</td>\n",
              "      <td>...</td>\n",
              "      <td>...</td>\n",
              "      <td>...</td>\n",
              "      <td>...</td>\n",
              "      <td>...</td>\n",
              "      <td>...</td>\n",
              "      <td>...</td>\n",
              "      <td>...</td>\n",
              "      <td>...</td>\n",
              "      <td>...</td>\n",
              "      <td>...</td>\n",
              "      <td>...</td>\n",
              "      <td>...</td>\n",
              "    </tr>\n",
              "    <tr>\n",
              "      <th>806</th>\n",
              "      <td>2022-05-15</td>\n",
              "      <td>Gauteng</td>\n",
              "      <td>West Rand District Municipality</td>\n",
              "      <td>Randfontein</td>\n",
              "      <td>-26.199</td>\n",
              "      <td>27.669</td>\n",
              "      <td>cereals and tubers</td>\n",
              "      <td>Maize (yellow)</td>\n",
              "      <td>KG</td>\n",
              "      <td>actual</td>\n",
              "      <td>Wholesale</td>\n",
              "      <td>ZAR</td>\n",
              "      <td>4.86</td>\n",
              "      <td>0.3185</td>\n",
              "      <td>0</td>\n",
              "      <td>1</td>\n",
              "      <td>0</td>\n",
              "    </tr>\n",
              "    <tr>\n",
              "      <th>807</th>\n",
              "      <td>2022-05-15</td>\n",
              "      <td>Gauteng</td>\n",
              "      <td>West Rand District Municipality</td>\n",
              "      <td>Randfontein</td>\n",
              "      <td>-26.199</td>\n",
              "      <td>27.669</td>\n",
              "      <td>cereals and tubers</td>\n",
              "      <td>Wheat</td>\n",
              "      <td>KG</td>\n",
              "      <td>actual</td>\n",
              "      <td>Wholesale</td>\n",
              "      <td>ZAR</td>\n",
              "      <td>8.02</td>\n",
              "      <td>0.5256</td>\n",
              "      <td>0</td>\n",
              "      <td>0</td>\n",
              "      <td>1</td>\n",
              "    </tr>\n",
              "    <tr>\n",
              "      <th>808</th>\n",
              "      <td>2022-06-15</td>\n",
              "      <td>Gauteng</td>\n",
              "      <td>West Rand District Municipality</td>\n",
              "      <td>Randfontein</td>\n",
              "      <td>-26.199</td>\n",
              "      <td>27.669</td>\n",
              "      <td>cereals and tubers</td>\n",
              "      <td>Maize (white)</td>\n",
              "      <td>KG</td>\n",
              "      <td>actual</td>\n",
              "      <td>Wholesale</td>\n",
              "      <td>ZAR</td>\n",
              "      <td>4.42</td>\n",
              "      <td>0.2897</td>\n",
              "      <td>1</td>\n",
              "      <td>0</td>\n",
              "      <td>0</td>\n",
              "    </tr>\n",
              "    <tr>\n",
              "      <th>809</th>\n",
              "      <td>2022-06-15</td>\n",
              "      <td>Gauteng</td>\n",
              "      <td>West Rand District Municipality</td>\n",
              "      <td>Randfontein</td>\n",
              "      <td>-26.199</td>\n",
              "      <td>27.669</td>\n",
              "      <td>cereals and tubers</td>\n",
              "      <td>Maize (yellow)</td>\n",
              "      <td>KG</td>\n",
              "      <td>actual</td>\n",
              "      <td>Wholesale</td>\n",
              "      <td>ZAR</td>\n",
              "      <td>4.47</td>\n",
              "      <td>0.2930</td>\n",
              "      <td>0</td>\n",
              "      <td>1</td>\n",
              "      <td>0</td>\n",
              "    </tr>\n",
              "    <tr>\n",
              "      <th>810</th>\n",
              "      <td>2022-06-15</td>\n",
              "      <td>Gauteng</td>\n",
              "      <td>West Rand District Municipality</td>\n",
              "      <td>Randfontein</td>\n",
              "      <td>-26.199</td>\n",
              "      <td>27.669</td>\n",
              "      <td>cereals and tubers</td>\n",
              "      <td>Wheat</td>\n",
              "      <td>KG</td>\n",
              "      <td>actual</td>\n",
              "      <td>Wholesale</td>\n",
              "      <td>ZAR</td>\n",
              "      <td>7.89</td>\n",
              "      <td>0.5171</td>\n",
              "      <td>0</td>\n",
              "      <td>0</td>\n",
              "      <td>1</td>\n",
              "    </tr>\n",
              "  </tbody>\n",
              "</table>\n",
              "<p>810 rows × 17 columns</p>\n",
              "</div>\n",
              "      <button class=\"colab-df-convert\" onclick=\"convertToInteractive('df-a90314ee-4d50-4346-b25f-15cfe5189645')\"\n",
              "              title=\"Convert this dataframe to an interactive table.\"\n",
              "              style=\"display:none;\">\n",
              "        \n",
              "  <svg xmlns=\"http://www.w3.org/2000/svg\" height=\"24px\"viewBox=\"0 0 24 24\"\n",
              "       width=\"24px\">\n",
              "    <path d=\"M0 0h24v24H0V0z\" fill=\"none\"/>\n",
              "    <path d=\"M18.56 5.44l.94 2.06.94-2.06 2.06-.94-2.06-.94-.94-2.06-.94 2.06-2.06.94zm-11 1L8.5 8.5l.94-2.06 2.06-.94-2.06-.94L8.5 2.5l-.94 2.06-2.06.94zm10 10l.94 2.06.94-2.06 2.06-.94-2.06-.94-.94-2.06-.94 2.06-2.06.94z\"/><path d=\"M17.41 7.96l-1.37-1.37c-.4-.4-.92-.59-1.43-.59-.52 0-1.04.2-1.43.59L10.3 9.45l-7.72 7.72c-.78.78-.78 2.05 0 2.83L4 21.41c.39.39.9.59 1.41.59.51 0 1.02-.2 1.41-.59l7.78-7.78 2.81-2.81c.8-.78.8-2.07 0-2.86zM5.41 20L4 18.59l7.72-7.72 1.47 1.35L5.41 20z\"/>\n",
              "  </svg>\n",
              "      </button>\n",
              "      \n",
              "  <style>\n",
              "    .colab-df-container {\n",
              "      display:flex;\n",
              "      flex-wrap:wrap;\n",
              "      gap: 12px;\n",
              "    }\n",
              "\n",
              "    .colab-df-convert {\n",
              "      background-color: #E8F0FE;\n",
              "      border: none;\n",
              "      border-radius: 50%;\n",
              "      cursor: pointer;\n",
              "      display: none;\n",
              "      fill: #1967D2;\n",
              "      height: 32px;\n",
              "      padding: 0 0 0 0;\n",
              "      width: 32px;\n",
              "    }\n",
              "\n",
              "    .colab-df-convert:hover {\n",
              "      background-color: #E2EBFA;\n",
              "      box-shadow: 0px 1px 2px rgba(60, 64, 67, 0.3), 0px 1px 3px 1px rgba(60, 64, 67, 0.15);\n",
              "      fill: #174EA6;\n",
              "    }\n",
              "\n",
              "    [theme=dark] .colab-df-convert {\n",
              "      background-color: #3B4455;\n",
              "      fill: #D2E3FC;\n",
              "    }\n",
              "\n",
              "    [theme=dark] .colab-df-convert:hover {\n",
              "      background-color: #434B5C;\n",
              "      box-shadow: 0px 1px 3px 1px rgba(0, 0, 0, 0.15);\n",
              "      filter: drop-shadow(0px 1px 2px rgba(0, 0, 0, 0.3));\n",
              "      fill: #FFFFFF;\n",
              "    }\n",
              "  </style>\n",
              "\n",
              "      <script>\n",
              "        const buttonEl =\n",
              "          document.querySelector('#df-a90314ee-4d50-4346-b25f-15cfe5189645 button.colab-df-convert');\n",
              "        buttonEl.style.display =\n",
              "          google.colab.kernel.accessAllowed ? 'block' : 'none';\n",
              "\n",
              "        async function convertToInteractive(key) {\n",
              "          const element = document.querySelector('#df-a90314ee-4d50-4346-b25f-15cfe5189645');\n",
              "          const dataTable =\n",
              "            await google.colab.kernel.invokeFunction('convertToInteractive',\n",
              "                                                     [key], {});\n",
              "          if (!dataTable) return;\n",
              "\n",
              "          const docLinkHtml = 'Like what you see? Visit the ' +\n",
              "            '<a target=\"_blank\" href=https://colab.research.google.com/notebooks/data_table.ipynb>data table notebook</a>'\n",
              "            + ' to learn more about interactive tables.';\n",
              "          element.innerHTML = '';\n",
              "          dataTable['output_type'] = 'display_data';\n",
              "          await google.colab.output.renderOutput(dataTable, element);\n",
              "          const docLink = document.createElement('div');\n",
              "          docLink.innerHTML = docLinkHtml;\n",
              "          element.appendChild(docLink);\n",
              "        }\n",
              "      </script>\n",
              "    </div>\n",
              "  </div>\n",
              "  "
            ]
          },
          "metadata": {},
          "execution_count": 26
        }
      ],
      "source": [
        "#display dataset\n",
        "\n",
        "df"
      ]
    },
    {
      "cell_type": "code",
      "execution_count": null,
      "metadata": {
        "colab": {
          "base_uri": "https://localhost:8080/"
        },
        "id": "7-4nPZ0YID0x",
        "outputId": "51349e9f-fd83-4835-e957-27935d737eef"
      },
      "outputs": [
        {
          "output_type": "execute_result",
          "data": {
            "text/plain": [
              "1    2000-01-15\n",
              "2    2000-01-15\n",
              "3    2000-01-15\n",
              "4    2000-02-15\n",
              "5    2000-02-15\n",
              "Name: date, dtype: object"
            ]
          },
          "metadata": {},
          "execution_count": 27
        }
      ],
      "source": [
        "# display first five values from date\n",
        "df[\"date\"].head()"
      ]
    },
    {
      "cell_type": "code",
      "execution_count": null,
      "metadata": {
        "colab": {
          "base_uri": "https://localhost:8080/"
        },
        "id": "nG2VMchBU1V8",
        "outputId": "9de8294b-46f8-4994-be07-e8e78902697a"
      },
      "outputs": [
        {
          "output_type": "stream",
          "name": "stdout",
          "text": [
            "         date   admin1                           admin2       market latitude  \\\n",
            "1  2000-01-15  Gauteng  West Rand District Municipality  Randfontein  -26.199   \n",
            "2  2000-01-15  Gauteng  West Rand District Municipality  Randfontein  -26.199   \n",
            "3  2000-01-15  Gauteng  West Rand District Municipality  Randfontein  -26.199   \n",
            "4  2000-02-15  Gauteng  West Rand District Municipality  Randfontein  -26.199   \n",
            "5  2000-02-15  Gauteng  West Rand District Municipality  Randfontein  -26.199   \n",
            "\n",
            "  longitude            category       commodity unit priceflag  pricetype  \\\n",
            "1    27.669  cereals and tubers   Maize (white)   KG    actual  Wholesale   \n",
            "2    27.669  cereals and tubers  Maize (yellow)   KG    actual  Wholesale   \n",
            "3    27.669  cereals and tubers           Wheat   KG    actual  Wholesale   \n",
            "4    27.669  cereals and tubers   Maize (white)   KG    actual  Wholesale   \n",
            "5    27.669  cereals and tubers  Maize (yellow)   KG    actual  Wholesale   \n",
            "\n",
            "  currency  price  usdprice  Maize (white)  Maize (yellow)  Wheat  \n",
            "1      ZAR   0.80    0.1321              1               0      0  \n",
            "2      ZAR   0.86    0.1413              0               1      0  \n",
            "3      ZAR   0.65    0.1068              0               0      1  \n",
            "4      ZAR   0.80    0.1260              1               0      0  \n",
            "5      ZAR   0.83    0.1305              0               1      0  \n"
          ]
        }
      ],
      "source": [
        "#sorting dates \n",
        "df=df.sort_values(by='date')\n",
        "print(df.head())"
      ]
    },
    {
      "cell_type": "code",
      "execution_count": null,
      "metadata": {
        "colab": {
          "base_uri": "https://localhost:8080/",
          "height": 461
        },
        "id": "6F84jg6dJTib",
        "outputId": "780248a0-5c89-4199-9976-a8d4c07bd4c4"
      },
      "outputs": [
        {
          "output_type": "execute_result",
          "data": {
            "text/plain": [
              "         date   admin1                           admin2       market latitude  \\\n",
              "1  2000-01-15  Gauteng  West Rand District Municipality  Randfontein  -26.199   \n",
              "2  2000-01-15  Gauteng  West Rand District Municipality  Randfontein  -26.199   \n",
              "3  2000-01-15  Gauteng  West Rand District Municipality  Randfontein  -26.199   \n",
              "4  2000-02-15  Gauteng  West Rand District Municipality  Randfontein  -26.199   \n",
              "5  2000-02-15  Gauteng  West Rand District Municipality  Randfontein  -26.199   \n",
              "\n",
              "  longitude            category       commodity unit priceflag  pricetype  \\\n",
              "1    27.669  cereals and tubers   Maize (white)   KG    actual  Wholesale   \n",
              "2    27.669  cereals and tubers  Maize (yellow)   KG    actual  Wholesale   \n",
              "3    27.669  cereals and tubers           Wheat   KG    actual  Wholesale   \n",
              "4    27.669  cereals and tubers   Maize (white)   KG    actual  Wholesale   \n",
              "5    27.669  cereals and tubers  Maize (yellow)   KG    actual  Wholesale   \n",
              "\n",
              "  currency  price  usdprice  Maize (white)  Maize (yellow)  Wheat  year  \n",
              "1      ZAR   0.80    0.1321              1               0      0  2000  \n",
              "2      ZAR   0.86    0.1413              0               1      0  2000  \n",
              "3      ZAR   0.65    0.1068              0               0      1  2000  \n",
              "4      ZAR   0.80    0.1260              1               0      0  2000  \n",
              "5      ZAR   0.83    0.1305              0               1      0  2000  "
            ],
            "text/html": [
              "\n",
              "  <div id=\"df-9f6bb489-7ab6-4243-a92c-8c2df8807ce0\">\n",
              "    <div class=\"colab-df-container\">\n",
              "      <div>\n",
              "<style scoped>\n",
              "    .dataframe tbody tr th:only-of-type {\n",
              "        vertical-align: middle;\n",
              "    }\n",
              "\n",
              "    .dataframe tbody tr th {\n",
              "        vertical-align: top;\n",
              "    }\n",
              "\n",
              "    .dataframe thead th {\n",
              "        text-align: right;\n",
              "    }\n",
              "</style>\n",
              "<table border=\"1\" class=\"dataframe\">\n",
              "  <thead>\n",
              "    <tr style=\"text-align: right;\">\n",
              "      <th></th>\n",
              "      <th>date</th>\n",
              "      <th>admin1</th>\n",
              "      <th>admin2</th>\n",
              "      <th>market</th>\n",
              "      <th>latitude</th>\n",
              "      <th>longitude</th>\n",
              "      <th>category</th>\n",
              "      <th>commodity</th>\n",
              "      <th>unit</th>\n",
              "      <th>priceflag</th>\n",
              "      <th>pricetype</th>\n",
              "      <th>currency</th>\n",
              "      <th>price</th>\n",
              "      <th>usdprice</th>\n",
              "      <th>Maize (white)</th>\n",
              "      <th>Maize (yellow)</th>\n",
              "      <th>Wheat</th>\n",
              "      <th>year</th>\n",
              "    </tr>\n",
              "  </thead>\n",
              "  <tbody>\n",
              "    <tr>\n",
              "      <th>1</th>\n",
              "      <td>2000-01-15</td>\n",
              "      <td>Gauteng</td>\n",
              "      <td>West Rand District Municipality</td>\n",
              "      <td>Randfontein</td>\n",
              "      <td>-26.199</td>\n",
              "      <td>27.669</td>\n",
              "      <td>cereals and tubers</td>\n",
              "      <td>Maize (white)</td>\n",
              "      <td>KG</td>\n",
              "      <td>actual</td>\n",
              "      <td>Wholesale</td>\n",
              "      <td>ZAR</td>\n",
              "      <td>0.80</td>\n",
              "      <td>0.1321</td>\n",
              "      <td>1</td>\n",
              "      <td>0</td>\n",
              "      <td>0</td>\n",
              "      <td>2000</td>\n",
              "    </tr>\n",
              "    <tr>\n",
              "      <th>2</th>\n",
              "      <td>2000-01-15</td>\n",
              "      <td>Gauteng</td>\n",
              "      <td>West Rand District Municipality</td>\n",
              "      <td>Randfontein</td>\n",
              "      <td>-26.199</td>\n",
              "      <td>27.669</td>\n",
              "      <td>cereals and tubers</td>\n",
              "      <td>Maize (yellow)</td>\n",
              "      <td>KG</td>\n",
              "      <td>actual</td>\n",
              "      <td>Wholesale</td>\n",
              "      <td>ZAR</td>\n",
              "      <td>0.86</td>\n",
              "      <td>0.1413</td>\n",
              "      <td>0</td>\n",
              "      <td>1</td>\n",
              "      <td>0</td>\n",
              "      <td>2000</td>\n",
              "    </tr>\n",
              "    <tr>\n",
              "      <th>3</th>\n",
              "      <td>2000-01-15</td>\n",
              "      <td>Gauteng</td>\n",
              "      <td>West Rand District Municipality</td>\n",
              "      <td>Randfontein</td>\n",
              "      <td>-26.199</td>\n",
              "      <td>27.669</td>\n",
              "      <td>cereals and tubers</td>\n",
              "      <td>Wheat</td>\n",
              "      <td>KG</td>\n",
              "      <td>actual</td>\n",
              "      <td>Wholesale</td>\n",
              "      <td>ZAR</td>\n",
              "      <td>0.65</td>\n",
              "      <td>0.1068</td>\n",
              "      <td>0</td>\n",
              "      <td>0</td>\n",
              "      <td>1</td>\n",
              "      <td>2000</td>\n",
              "    </tr>\n",
              "    <tr>\n",
              "      <th>4</th>\n",
              "      <td>2000-02-15</td>\n",
              "      <td>Gauteng</td>\n",
              "      <td>West Rand District Municipality</td>\n",
              "      <td>Randfontein</td>\n",
              "      <td>-26.199</td>\n",
              "      <td>27.669</td>\n",
              "      <td>cereals and tubers</td>\n",
              "      <td>Maize (white)</td>\n",
              "      <td>KG</td>\n",
              "      <td>actual</td>\n",
              "      <td>Wholesale</td>\n",
              "      <td>ZAR</td>\n",
              "      <td>0.80</td>\n",
              "      <td>0.1260</td>\n",
              "      <td>1</td>\n",
              "      <td>0</td>\n",
              "      <td>0</td>\n",
              "      <td>2000</td>\n",
              "    </tr>\n",
              "    <tr>\n",
              "      <th>5</th>\n",
              "      <td>2000-02-15</td>\n",
              "      <td>Gauteng</td>\n",
              "      <td>West Rand District Municipality</td>\n",
              "      <td>Randfontein</td>\n",
              "      <td>-26.199</td>\n",
              "      <td>27.669</td>\n",
              "      <td>cereals and tubers</td>\n",
              "      <td>Maize (yellow)</td>\n",
              "      <td>KG</td>\n",
              "      <td>actual</td>\n",
              "      <td>Wholesale</td>\n",
              "      <td>ZAR</td>\n",
              "      <td>0.83</td>\n",
              "      <td>0.1305</td>\n",
              "      <td>0</td>\n",
              "      <td>1</td>\n",
              "      <td>0</td>\n",
              "      <td>2000</td>\n",
              "    </tr>\n",
              "  </tbody>\n",
              "</table>\n",
              "</div>\n",
              "      <button class=\"colab-df-convert\" onclick=\"convertToInteractive('df-9f6bb489-7ab6-4243-a92c-8c2df8807ce0')\"\n",
              "              title=\"Convert this dataframe to an interactive table.\"\n",
              "              style=\"display:none;\">\n",
              "        \n",
              "  <svg xmlns=\"http://www.w3.org/2000/svg\" height=\"24px\"viewBox=\"0 0 24 24\"\n",
              "       width=\"24px\">\n",
              "    <path d=\"M0 0h24v24H0V0z\" fill=\"none\"/>\n",
              "    <path d=\"M18.56 5.44l.94 2.06.94-2.06 2.06-.94-2.06-.94-.94-2.06-.94 2.06-2.06.94zm-11 1L8.5 8.5l.94-2.06 2.06-.94-2.06-.94L8.5 2.5l-.94 2.06-2.06.94zm10 10l.94 2.06.94-2.06 2.06-.94-2.06-.94-.94-2.06-.94 2.06-2.06.94z\"/><path d=\"M17.41 7.96l-1.37-1.37c-.4-.4-.92-.59-1.43-.59-.52 0-1.04.2-1.43.59L10.3 9.45l-7.72 7.72c-.78.78-.78 2.05 0 2.83L4 21.41c.39.39.9.59 1.41.59.51 0 1.02-.2 1.41-.59l7.78-7.78 2.81-2.81c.8-.78.8-2.07 0-2.86zM5.41 20L4 18.59l7.72-7.72 1.47 1.35L5.41 20z\"/>\n",
              "  </svg>\n",
              "      </button>\n",
              "      \n",
              "  <style>\n",
              "    .colab-df-container {\n",
              "      display:flex;\n",
              "      flex-wrap:wrap;\n",
              "      gap: 12px;\n",
              "    }\n",
              "\n",
              "    .colab-df-convert {\n",
              "      background-color: #E8F0FE;\n",
              "      border: none;\n",
              "      border-radius: 50%;\n",
              "      cursor: pointer;\n",
              "      display: none;\n",
              "      fill: #1967D2;\n",
              "      height: 32px;\n",
              "      padding: 0 0 0 0;\n",
              "      width: 32px;\n",
              "    }\n",
              "\n",
              "    .colab-df-convert:hover {\n",
              "      background-color: #E2EBFA;\n",
              "      box-shadow: 0px 1px 2px rgba(60, 64, 67, 0.3), 0px 1px 3px 1px rgba(60, 64, 67, 0.15);\n",
              "      fill: #174EA6;\n",
              "    }\n",
              "\n",
              "    [theme=dark] .colab-df-convert {\n",
              "      background-color: #3B4455;\n",
              "      fill: #D2E3FC;\n",
              "    }\n",
              "\n",
              "    [theme=dark] .colab-df-convert:hover {\n",
              "      background-color: #434B5C;\n",
              "      box-shadow: 0px 1px 3px 1px rgba(0, 0, 0, 0.15);\n",
              "      filter: drop-shadow(0px 1px 2px rgba(0, 0, 0, 0.3));\n",
              "      fill: #FFFFFF;\n",
              "    }\n",
              "  </style>\n",
              "\n",
              "      <script>\n",
              "        const buttonEl =\n",
              "          document.querySelector('#df-9f6bb489-7ab6-4243-a92c-8c2df8807ce0 button.colab-df-convert');\n",
              "        buttonEl.style.display =\n",
              "          google.colab.kernel.accessAllowed ? 'block' : 'none';\n",
              "\n",
              "        async function convertToInteractive(key) {\n",
              "          const element = document.querySelector('#df-9f6bb489-7ab6-4243-a92c-8c2df8807ce0');\n",
              "          const dataTable =\n",
              "            await google.colab.kernel.invokeFunction('convertToInteractive',\n",
              "                                                     [key], {});\n",
              "          if (!dataTable) return;\n",
              "\n",
              "          const docLinkHtml = 'Like what you see? Visit the ' +\n",
              "            '<a target=\"_blank\" href=https://colab.research.google.com/notebooks/data_table.ipynb>data table notebook</a>'\n",
              "            + ' to learn more about interactive tables.';\n",
              "          element.innerHTML = '';\n",
              "          dataTable['output_type'] = 'display_data';\n",
              "          await google.colab.output.renderOutput(dataTable, element);\n",
              "          const docLink = document.createElement('div');\n",
              "          docLink.innerHTML = docLinkHtml;\n",
              "          element.appendChild(docLink);\n",
              "        }\n",
              "      </script>\n",
              "    </div>\n",
              "  </div>\n",
              "  "
            ]
          },
          "metadata": {},
          "execution_count": 29
        }
      ],
      "source": [
        "# extracting year from the date\n",
        "df['year'] = pd.DatetimeIndex(df['date']).year\n",
        "df.head()"
      ]
    },
    {
      "cell_type": "code",
      "execution_count": null,
      "metadata": {
        "colab": {
          "base_uri": "https://localhost:8080/",
          "height": 461
        },
        "id": "9nUm7MQARED7",
        "outputId": "eba0eb4a-aaf4-4f93-a144-d2072ad1730d"
      },
      "outputs": [
        {
          "output_type": "execute_result",
          "data": {
            "text/plain": [
              "         date   admin1                           admin2       market latitude  \\\n",
              "1  2000-01-15  Gauteng  West Rand District Municipality  Randfontein  -26.199   \n",
              "2  2000-01-15  Gauteng  West Rand District Municipality  Randfontein  -26.199   \n",
              "3  2000-01-15  Gauteng  West Rand District Municipality  Randfontein  -26.199   \n",
              "4  2000-02-15  Gauteng  West Rand District Municipality  Randfontein  -26.199   \n",
              "5  2000-02-15  Gauteng  West Rand District Municipality  Randfontein  -26.199   \n",
              "\n",
              "  longitude            category       commodity unit priceflag  pricetype  \\\n",
              "1    27.669  cereals and tubers   Maize (white)   KG    actual  Wholesale   \n",
              "2    27.669  cereals and tubers  Maize (yellow)   KG    actual  Wholesale   \n",
              "3    27.669  cereals and tubers           Wheat   KG    actual  Wholesale   \n",
              "4    27.669  cereals and tubers   Maize (white)   KG    actual  Wholesale   \n",
              "5    27.669  cereals and tubers  Maize (yellow)   KG    actual  Wholesale   \n",
              "\n",
              "  currency  price  usdprice  Maize (white)  Maize (yellow)  Wheat  year  month  \n",
              "1      ZAR   0.80    0.1321              1               0      0  2000      1  \n",
              "2      ZAR   0.86    0.1413              0               1      0  2000      1  \n",
              "3      ZAR   0.65    0.1068              0               0      1  2000      1  \n",
              "4      ZAR   0.80    0.1260              1               0      0  2000      2  \n",
              "5      ZAR   0.83    0.1305              0               1      0  2000      2  "
            ],
            "text/html": [
              "\n",
              "  <div id=\"df-3da938c2-736a-4e87-9c06-79fd31c33b64\">\n",
              "    <div class=\"colab-df-container\">\n",
              "      <div>\n",
              "<style scoped>\n",
              "    .dataframe tbody tr th:only-of-type {\n",
              "        vertical-align: middle;\n",
              "    }\n",
              "\n",
              "    .dataframe tbody tr th {\n",
              "        vertical-align: top;\n",
              "    }\n",
              "\n",
              "    .dataframe thead th {\n",
              "        text-align: right;\n",
              "    }\n",
              "</style>\n",
              "<table border=\"1\" class=\"dataframe\">\n",
              "  <thead>\n",
              "    <tr style=\"text-align: right;\">\n",
              "      <th></th>\n",
              "      <th>date</th>\n",
              "      <th>admin1</th>\n",
              "      <th>admin2</th>\n",
              "      <th>market</th>\n",
              "      <th>latitude</th>\n",
              "      <th>longitude</th>\n",
              "      <th>category</th>\n",
              "      <th>commodity</th>\n",
              "      <th>unit</th>\n",
              "      <th>priceflag</th>\n",
              "      <th>pricetype</th>\n",
              "      <th>currency</th>\n",
              "      <th>price</th>\n",
              "      <th>usdprice</th>\n",
              "      <th>Maize (white)</th>\n",
              "      <th>Maize (yellow)</th>\n",
              "      <th>Wheat</th>\n",
              "      <th>year</th>\n",
              "      <th>month</th>\n",
              "    </tr>\n",
              "  </thead>\n",
              "  <tbody>\n",
              "    <tr>\n",
              "      <th>1</th>\n",
              "      <td>2000-01-15</td>\n",
              "      <td>Gauteng</td>\n",
              "      <td>West Rand District Municipality</td>\n",
              "      <td>Randfontein</td>\n",
              "      <td>-26.199</td>\n",
              "      <td>27.669</td>\n",
              "      <td>cereals and tubers</td>\n",
              "      <td>Maize (white)</td>\n",
              "      <td>KG</td>\n",
              "      <td>actual</td>\n",
              "      <td>Wholesale</td>\n",
              "      <td>ZAR</td>\n",
              "      <td>0.80</td>\n",
              "      <td>0.1321</td>\n",
              "      <td>1</td>\n",
              "      <td>0</td>\n",
              "      <td>0</td>\n",
              "      <td>2000</td>\n",
              "      <td>1</td>\n",
              "    </tr>\n",
              "    <tr>\n",
              "      <th>2</th>\n",
              "      <td>2000-01-15</td>\n",
              "      <td>Gauteng</td>\n",
              "      <td>West Rand District Municipality</td>\n",
              "      <td>Randfontein</td>\n",
              "      <td>-26.199</td>\n",
              "      <td>27.669</td>\n",
              "      <td>cereals and tubers</td>\n",
              "      <td>Maize (yellow)</td>\n",
              "      <td>KG</td>\n",
              "      <td>actual</td>\n",
              "      <td>Wholesale</td>\n",
              "      <td>ZAR</td>\n",
              "      <td>0.86</td>\n",
              "      <td>0.1413</td>\n",
              "      <td>0</td>\n",
              "      <td>1</td>\n",
              "      <td>0</td>\n",
              "      <td>2000</td>\n",
              "      <td>1</td>\n",
              "    </tr>\n",
              "    <tr>\n",
              "      <th>3</th>\n",
              "      <td>2000-01-15</td>\n",
              "      <td>Gauteng</td>\n",
              "      <td>West Rand District Municipality</td>\n",
              "      <td>Randfontein</td>\n",
              "      <td>-26.199</td>\n",
              "      <td>27.669</td>\n",
              "      <td>cereals and tubers</td>\n",
              "      <td>Wheat</td>\n",
              "      <td>KG</td>\n",
              "      <td>actual</td>\n",
              "      <td>Wholesale</td>\n",
              "      <td>ZAR</td>\n",
              "      <td>0.65</td>\n",
              "      <td>0.1068</td>\n",
              "      <td>0</td>\n",
              "      <td>0</td>\n",
              "      <td>1</td>\n",
              "      <td>2000</td>\n",
              "      <td>1</td>\n",
              "    </tr>\n",
              "    <tr>\n",
              "      <th>4</th>\n",
              "      <td>2000-02-15</td>\n",
              "      <td>Gauteng</td>\n",
              "      <td>West Rand District Municipality</td>\n",
              "      <td>Randfontein</td>\n",
              "      <td>-26.199</td>\n",
              "      <td>27.669</td>\n",
              "      <td>cereals and tubers</td>\n",
              "      <td>Maize (white)</td>\n",
              "      <td>KG</td>\n",
              "      <td>actual</td>\n",
              "      <td>Wholesale</td>\n",
              "      <td>ZAR</td>\n",
              "      <td>0.80</td>\n",
              "      <td>0.1260</td>\n",
              "      <td>1</td>\n",
              "      <td>0</td>\n",
              "      <td>0</td>\n",
              "      <td>2000</td>\n",
              "      <td>2</td>\n",
              "    </tr>\n",
              "    <tr>\n",
              "      <th>5</th>\n",
              "      <td>2000-02-15</td>\n",
              "      <td>Gauteng</td>\n",
              "      <td>West Rand District Municipality</td>\n",
              "      <td>Randfontein</td>\n",
              "      <td>-26.199</td>\n",
              "      <td>27.669</td>\n",
              "      <td>cereals and tubers</td>\n",
              "      <td>Maize (yellow)</td>\n",
              "      <td>KG</td>\n",
              "      <td>actual</td>\n",
              "      <td>Wholesale</td>\n",
              "      <td>ZAR</td>\n",
              "      <td>0.83</td>\n",
              "      <td>0.1305</td>\n",
              "      <td>0</td>\n",
              "      <td>1</td>\n",
              "      <td>0</td>\n",
              "      <td>2000</td>\n",
              "      <td>2</td>\n",
              "    </tr>\n",
              "  </tbody>\n",
              "</table>\n",
              "</div>\n",
              "      <button class=\"colab-df-convert\" onclick=\"convertToInteractive('df-3da938c2-736a-4e87-9c06-79fd31c33b64')\"\n",
              "              title=\"Convert this dataframe to an interactive table.\"\n",
              "              style=\"display:none;\">\n",
              "        \n",
              "  <svg xmlns=\"http://www.w3.org/2000/svg\" height=\"24px\"viewBox=\"0 0 24 24\"\n",
              "       width=\"24px\">\n",
              "    <path d=\"M0 0h24v24H0V0z\" fill=\"none\"/>\n",
              "    <path d=\"M18.56 5.44l.94 2.06.94-2.06 2.06-.94-2.06-.94-.94-2.06-.94 2.06-2.06.94zm-11 1L8.5 8.5l.94-2.06 2.06-.94-2.06-.94L8.5 2.5l-.94 2.06-2.06.94zm10 10l.94 2.06.94-2.06 2.06-.94-2.06-.94-.94-2.06-.94 2.06-2.06.94z\"/><path d=\"M17.41 7.96l-1.37-1.37c-.4-.4-.92-.59-1.43-.59-.52 0-1.04.2-1.43.59L10.3 9.45l-7.72 7.72c-.78.78-.78 2.05 0 2.83L4 21.41c.39.39.9.59 1.41.59.51 0 1.02-.2 1.41-.59l7.78-7.78 2.81-2.81c.8-.78.8-2.07 0-2.86zM5.41 20L4 18.59l7.72-7.72 1.47 1.35L5.41 20z\"/>\n",
              "  </svg>\n",
              "      </button>\n",
              "      \n",
              "  <style>\n",
              "    .colab-df-container {\n",
              "      display:flex;\n",
              "      flex-wrap:wrap;\n",
              "      gap: 12px;\n",
              "    }\n",
              "\n",
              "    .colab-df-convert {\n",
              "      background-color: #E8F0FE;\n",
              "      border: none;\n",
              "      border-radius: 50%;\n",
              "      cursor: pointer;\n",
              "      display: none;\n",
              "      fill: #1967D2;\n",
              "      height: 32px;\n",
              "      padding: 0 0 0 0;\n",
              "      width: 32px;\n",
              "    }\n",
              "\n",
              "    .colab-df-convert:hover {\n",
              "      background-color: #E2EBFA;\n",
              "      box-shadow: 0px 1px 2px rgba(60, 64, 67, 0.3), 0px 1px 3px 1px rgba(60, 64, 67, 0.15);\n",
              "      fill: #174EA6;\n",
              "    }\n",
              "\n",
              "    [theme=dark] .colab-df-convert {\n",
              "      background-color: #3B4455;\n",
              "      fill: #D2E3FC;\n",
              "    }\n",
              "\n",
              "    [theme=dark] .colab-df-convert:hover {\n",
              "      background-color: #434B5C;\n",
              "      box-shadow: 0px 1px 3px 1px rgba(0, 0, 0, 0.15);\n",
              "      filter: drop-shadow(0px 1px 2px rgba(0, 0, 0, 0.3));\n",
              "      fill: #FFFFFF;\n",
              "    }\n",
              "  </style>\n",
              "\n",
              "      <script>\n",
              "        const buttonEl =\n",
              "          document.querySelector('#df-3da938c2-736a-4e87-9c06-79fd31c33b64 button.colab-df-convert');\n",
              "        buttonEl.style.display =\n",
              "          google.colab.kernel.accessAllowed ? 'block' : 'none';\n",
              "\n",
              "        async function convertToInteractive(key) {\n",
              "          const element = document.querySelector('#df-3da938c2-736a-4e87-9c06-79fd31c33b64');\n",
              "          const dataTable =\n",
              "            await google.colab.kernel.invokeFunction('convertToInteractive',\n",
              "                                                     [key], {});\n",
              "          if (!dataTable) return;\n",
              "\n",
              "          const docLinkHtml = 'Like what you see? Visit the ' +\n",
              "            '<a target=\"_blank\" href=https://colab.research.google.com/notebooks/data_table.ipynb>data table notebook</a>'\n",
              "            + ' to learn more about interactive tables.';\n",
              "          element.innerHTML = '';\n",
              "          dataTable['output_type'] = 'display_data';\n",
              "          await google.colab.output.renderOutput(dataTable, element);\n",
              "          const docLink = document.createElement('div');\n",
              "          docLink.innerHTML = docLinkHtml;\n",
              "          element.appendChild(docLink);\n",
              "        }\n",
              "      </script>\n",
              "    </div>\n",
              "  </div>\n",
              "  "
            ]
          },
          "metadata": {},
          "execution_count": 30
        }
      ],
      "source": [
        "# extracting month from the date\n",
        "df['month'] = pd.DatetimeIndex(df['date']).month\n",
        "df.head()"
      ]
    },
    {
      "cell_type": "code",
      "execution_count": null,
      "metadata": {
        "colab": {
          "base_uri": "https://localhost:8080/",
          "height": 492
        },
        "id": "2kyi5TV_Xtrw",
        "outputId": "e3944d03-88f9-4587-aece-f887ef406bf0"
      },
      "outputs": [
        {
          "output_type": "execute_result",
          "data": {
            "text/plain": [
              "             admin1                           admin2       market latitude  \\\n",
              "date                                                                         \n",
              "2000-01-15  Gauteng  West Rand District Municipality  Randfontein  -26.199   \n",
              "2000-01-15  Gauteng  West Rand District Municipality  Randfontein  -26.199   \n",
              "2000-01-15  Gauteng  West Rand District Municipality  Randfontein  -26.199   \n",
              "2000-02-15  Gauteng  West Rand District Municipality  Randfontein  -26.199   \n",
              "2000-02-15  Gauteng  West Rand District Municipality  Randfontein  -26.199   \n",
              "\n",
              "           longitude            category       commodity unit priceflag  \\\n",
              "date                                                                      \n",
              "2000-01-15    27.669  cereals and tubers   Maize (white)   KG    actual   \n",
              "2000-01-15    27.669  cereals and tubers  Maize (yellow)   KG    actual   \n",
              "2000-01-15    27.669  cereals and tubers           Wheat   KG    actual   \n",
              "2000-02-15    27.669  cereals and tubers   Maize (white)   KG    actual   \n",
              "2000-02-15    27.669  cereals and tubers  Maize (yellow)   KG    actual   \n",
              "\n",
              "            pricetype currency  price  usdprice  Maize (white)  \\\n",
              "date                                                             \n",
              "2000-01-15  Wholesale      ZAR   0.80    0.1321              1   \n",
              "2000-01-15  Wholesale      ZAR   0.86    0.1413              0   \n",
              "2000-01-15  Wholesale      ZAR   0.65    0.1068              0   \n",
              "2000-02-15  Wholesale      ZAR   0.80    0.1260              1   \n",
              "2000-02-15  Wholesale      ZAR   0.83    0.1305              0   \n",
              "\n",
              "            Maize (yellow)  Wheat  year  month  \n",
              "date                                            \n",
              "2000-01-15               0      0  2000      1  \n",
              "2000-01-15               1      0  2000      1  \n",
              "2000-01-15               0      1  2000      1  \n",
              "2000-02-15               0      0  2000      2  \n",
              "2000-02-15               1      0  2000      2  "
            ],
            "text/html": [
              "\n",
              "  <div id=\"df-6fa301cd-682e-4da5-9bdb-0892754b4ee3\">\n",
              "    <div class=\"colab-df-container\">\n",
              "      <div>\n",
              "<style scoped>\n",
              "    .dataframe tbody tr th:only-of-type {\n",
              "        vertical-align: middle;\n",
              "    }\n",
              "\n",
              "    .dataframe tbody tr th {\n",
              "        vertical-align: top;\n",
              "    }\n",
              "\n",
              "    .dataframe thead th {\n",
              "        text-align: right;\n",
              "    }\n",
              "</style>\n",
              "<table border=\"1\" class=\"dataframe\">\n",
              "  <thead>\n",
              "    <tr style=\"text-align: right;\">\n",
              "      <th></th>\n",
              "      <th>admin1</th>\n",
              "      <th>admin2</th>\n",
              "      <th>market</th>\n",
              "      <th>latitude</th>\n",
              "      <th>longitude</th>\n",
              "      <th>category</th>\n",
              "      <th>commodity</th>\n",
              "      <th>unit</th>\n",
              "      <th>priceflag</th>\n",
              "      <th>pricetype</th>\n",
              "      <th>currency</th>\n",
              "      <th>price</th>\n",
              "      <th>usdprice</th>\n",
              "      <th>Maize (white)</th>\n",
              "      <th>Maize (yellow)</th>\n",
              "      <th>Wheat</th>\n",
              "      <th>year</th>\n",
              "      <th>month</th>\n",
              "    </tr>\n",
              "    <tr>\n",
              "      <th>date</th>\n",
              "      <th></th>\n",
              "      <th></th>\n",
              "      <th></th>\n",
              "      <th></th>\n",
              "      <th></th>\n",
              "      <th></th>\n",
              "      <th></th>\n",
              "      <th></th>\n",
              "      <th></th>\n",
              "      <th></th>\n",
              "      <th></th>\n",
              "      <th></th>\n",
              "      <th></th>\n",
              "      <th></th>\n",
              "      <th></th>\n",
              "      <th></th>\n",
              "      <th></th>\n",
              "      <th></th>\n",
              "    </tr>\n",
              "  </thead>\n",
              "  <tbody>\n",
              "    <tr>\n",
              "      <th>2000-01-15</th>\n",
              "      <td>Gauteng</td>\n",
              "      <td>West Rand District Municipality</td>\n",
              "      <td>Randfontein</td>\n",
              "      <td>-26.199</td>\n",
              "      <td>27.669</td>\n",
              "      <td>cereals and tubers</td>\n",
              "      <td>Maize (white)</td>\n",
              "      <td>KG</td>\n",
              "      <td>actual</td>\n",
              "      <td>Wholesale</td>\n",
              "      <td>ZAR</td>\n",
              "      <td>0.80</td>\n",
              "      <td>0.1321</td>\n",
              "      <td>1</td>\n",
              "      <td>0</td>\n",
              "      <td>0</td>\n",
              "      <td>2000</td>\n",
              "      <td>1</td>\n",
              "    </tr>\n",
              "    <tr>\n",
              "      <th>2000-01-15</th>\n",
              "      <td>Gauteng</td>\n",
              "      <td>West Rand District Municipality</td>\n",
              "      <td>Randfontein</td>\n",
              "      <td>-26.199</td>\n",
              "      <td>27.669</td>\n",
              "      <td>cereals and tubers</td>\n",
              "      <td>Maize (yellow)</td>\n",
              "      <td>KG</td>\n",
              "      <td>actual</td>\n",
              "      <td>Wholesale</td>\n",
              "      <td>ZAR</td>\n",
              "      <td>0.86</td>\n",
              "      <td>0.1413</td>\n",
              "      <td>0</td>\n",
              "      <td>1</td>\n",
              "      <td>0</td>\n",
              "      <td>2000</td>\n",
              "      <td>1</td>\n",
              "    </tr>\n",
              "    <tr>\n",
              "      <th>2000-01-15</th>\n",
              "      <td>Gauteng</td>\n",
              "      <td>West Rand District Municipality</td>\n",
              "      <td>Randfontein</td>\n",
              "      <td>-26.199</td>\n",
              "      <td>27.669</td>\n",
              "      <td>cereals and tubers</td>\n",
              "      <td>Wheat</td>\n",
              "      <td>KG</td>\n",
              "      <td>actual</td>\n",
              "      <td>Wholesale</td>\n",
              "      <td>ZAR</td>\n",
              "      <td>0.65</td>\n",
              "      <td>0.1068</td>\n",
              "      <td>0</td>\n",
              "      <td>0</td>\n",
              "      <td>1</td>\n",
              "      <td>2000</td>\n",
              "      <td>1</td>\n",
              "    </tr>\n",
              "    <tr>\n",
              "      <th>2000-02-15</th>\n",
              "      <td>Gauteng</td>\n",
              "      <td>West Rand District Municipality</td>\n",
              "      <td>Randfontein</td>\n",
              "      <td>-26.199</td>\n",
              "      <td>27.669</td>\n",
              "      <td>cereals and tubers</td>\n",
              "      <td>Maize (white)</td>\n",
              "      <td>KG</td>\n",
              "      <td>actual</td>\n",
              "      <td>Wholesale</td>\n",
              "      <td>ZAR</td>\n",
              "      <td>0.80</td>\n",
              "      <td>0.1260</td>\n",
              "      <td>1</td>\n",
              "      <td>0</td>\n",
              "      <td>0</td>\n",
              "      <td>2000</td>\n",
              "      <td>2</td>\n",
              "    </tr>\n",
              "    <tr>\n",
              "      <th>2000-02-15</th>\n",
              "      <td>Gauteng</td>\n",
              "      <td>West Rand District Municipality</td>\n",
              "      <td>Randfontein</td>\n",
              "      <td>-26.199</td>\n",
              "      <td>27.669</td>\n",
              "      <td>cereals and tubers</td>\n",
              "      <td>Maize (yellow)</td>\n",
              "      <td>KG</td>\n",
              "      <td>actual</td>\n",
              "      <td>Wholesale</td>\n",
              "      <td>ZAR</td>\n",
              "      <td>0.83</td>\n",
              "      <td>0.1305</td>\n",
              "      <td>0</td>\n",
              "      <td>1</td>\n",
              "      <td>0</td>\n",
              "      <td>2000</td>\n",
              "      <td>2</td>\n",
              "    </tr>\n",
              "  </tbody>\n",
              "</table>\n",
              "</div>\n",
              "      <button class=\"colab-df-convert\" onclick=\"convertToInteractive('df-6fa301cd-682e-4da5-9bdb-0892754b4ee3')\"\n",
              "              title=\"Convert this dataframe to an interactive table.\"\n",
              "              style=\"display:none;\">\n",
              "        \n",
              "  <svg xmlns=\"http://www.w3.org/2000/svg\" height=\"24px\"viewBox=\"0 0 24 24\"\n",
              "       width=\"24px\">\n",
              "    <path d=\"M0 0h24v24H0V0z\" fill=\"none\"/>\n",
              "    <path d=\"M18.56 5.44l.94 2.06.94-2.06 2.06-.94-2.06-.94-.94-2.06-.94 2.06-2.06.94zm-11 1L8.5 8.5l.94-2.06 2.06-.94-2.06-.94L8.5 2.5l-.94 2.06-2.06.94zm10 10l.94 2.06.94-2.06 2.06-.94-2.06-.94-.94-2.06-.94 2.06-2.06.94z\"/><path d=\"M17.41 7.96l-1.37-1.37c-.4-.4-.92-.59-1.43-.59-.52 0-1.04.2-1.43.59L10.3 9.45l-7.72 7.72c-.78.78-.78 2.05 0 2.83L4 21.41c.39.39.9.59 1.41.59.51 0 1.02-.2 1.41-.59l7.78-7.78 2.81-2.81c.8-.78.8-2.07 0-2.86zM5.41 20L4 18.59l7.72-7.72 1.47 1.35L5.41 20z\"/>\n",
              "  </svg>\n",
              "      </button>\n",
              "      \n",
              "  <style>\n",
              "    .colab-df-container {\n",
              "      display:flex;\n",
              "      flex-wrap:wrap;\n",
              "      gap: 12px;\n",
              "    }\n",
              "\n",
              "    .colab-df-convert {\n",
              "      background-color: #E8F0FE;\n",
              "      border: none;\n",
              "      border-radius: 50%;\n",
              "      cursor: pointer;\n",
              "      display: none;\n",
              "      fill: #1967D2;\n",
              "      height: 32px;\n",
              "      padding: 0 0 0 0;\n",
              "      width: 32px;\n",
              "    }\n",
              "\n",
              "    .colab-df-convert:hover {\n",
              "      background-color: #E2EBFA;\n",
              "      box-shadow: 0px 1px 2px rgba(60, 64, 67, 0.3), 0px 1px 3px 1px rgba(60, 64, 67, 0.15);\n",
              "      fill: #174EA6;\n",
              "    }\n",
              "\n",
              "    [theme=dark] .colab-df-convert {\n",
              "      background-color: #3B4455;\n",
              "      fill: #D2E3FC;\n",
              "    }\n",
              "\n",
              "    [theme=dark] .colab-df-convert:hover {\n",
              "      background-color: #434B5C;\n",
              "      box-shadow: 0px 1px 3px 1px rgba(0, 0, 0, 0.15);\n",
              "      filter: drop-shadow(0px 1px 2px rgba(0, 0, 0, 0.3));\n",
              "      fill: #FFFFFF;\n",
              "    }\n",
              "  </style>\n",
              "\n",
              "      <script>\n",
              "        const buttonEl =\n",
              "          document.querySelector('#df-6fa301cd-682e-4da5-9bdb-0892754b4ee3 button.colab-df-convert');\n",
              "        buttonEl.style.display =\n",
              "          google.colab.kernel.accessAllowed ? 'block' : 'none';\n",
              "\n",
              "        async function convertToInteractive(key) {\n",
              "          const element = document.querySelector('#df-6fa301cd-682e-4da5-9bdb-0892754b4ee3');\n",
              "          const dataTable =\n",
              "            await google.colab.kernel.invokeFunction('convertToInteractive',\n",
              "                                                     [key], {});\n",
              "          if (!dataTable) return;\n",
              "\n",
              "          const docLinkHtml = 'Like what you see? Visit the ' +\n",
              "            '<a target=\"_blank\" href=https://colab.research.google.com/notebooks/data_table.ipynb>data table notebook</a>'\n",
              "            + ' to learn more about interactive tables.';\n",
              "          element.innerHTML = '';\n",
              "          dataTable['output_type'] = 'display_data';\n",
              "          await google.colab.output.renderOutput(dataTable, element);\n",
              "          const docLink = document.createElement('div');\n",
              "          docLink.innerHTML = docLinkHtml;\n",
              "          element.appendChild(docLink);\n",
              "        }\n",
              "      </script>\n",
              "    </div>\n",
              "  </div>\n",
              "  "
            ]
          },
          "metadata": {},
          "execution_count": 31
        }
      ],
      "source": [
        "#set index to date feature\n",
        "df=df.set_index('date')\n",
        "df.head()"
      ]
    },
    {
      "cell_type": "code",
      "execution_count": null,
      "metadata": {
        "colab": {
          "base_uri": "https://localhost:8080/",
          "height": 461
        },
        "id": "p5bKk30FuXTG",
        "outputId": "2f2ce607-0248-4d7c-bd8c-5c67e7079b6d"
      },
      "outputs": [
        {
          "output_type": "execute_result",
          "data": {
            "text/plain": [
              "             admin1                           admin2       market latitude  \\\n",
              "2000-01-15  Gauteng  West Rand District Municipality  Randfontein  -26.199   \n",
              "2000-01-15  Gauteng  West Rand District Municipality  Randfontein  -26.199   \n",
              "2000-01-15  Gauteng  West Rand District Municipality  Randfontein  -26.199   \n",
              "2000-02-15  Gauteng  West Rand District Municipality  Randfontein  -26.199   \n",
              "2000-02-15  Gauteng  West Rand District Municipality  Randfontein  -26.199   \n",
              "\n",
              "           longitude            category       commodity unit priceflag  \\\n",
              "2000-01-15    27.669  cereals and tubers   Maize (white)   KG    actual   \n",
              "2000-01-15    27.669  cereals and tubers  Maize (yellow)   KG    actual   \n",
              "2000-01-15    27.669  cereals and tubers           Wheat   KG    actual   \n",
              "2000-02-15    27.669  cereals and tubers   Maize (white)   KG    actual   \n",
              "2000-02-15    27.669  cereals and tubers  Maize (yellow)   KG    actual   \n",
              "\n",
              "            pricetype currency  price  usdprice  Maize (white)  \\\n",
              "2000-01-15  Wholesale      ZAR   0.80    0.1321              1   \n",
              "2000-01-15  Wholesale      ZAR   0.86    0.1413              0   \n",
              "2000-01-15  Wholesale      ZAR   0.65    0.1068              0   \n",
              "2000-02-15  Wholesale      ZAR   0.80    0.1260              1   \n",
              "2000-02-15  Wholesale      ZAR   0.83    0.1305              0   \n",
              "\n",
              "            Maize (yellow)  Wheat  year  month  \n",
              "2000-01-15               0      0  2000      1  \n",
              "2000-01-15               1      0  2000      1  \n",
              "2000-01-15               0      1  2000      1  \n",
              "2000-02-15               0      0  2000      2  \n",
              "2000-02-15               1      0  2000      2  "
            ],
            "text/html": [
              "\n",
              "  <div id=\"df-5680fc7c-7476-4cd7-a760-2f284a2bd2c0\">\n",
              "    <div class=\"colab-df-container\">\n",
              "      <div>\n",
              "<style scoped>\n",
              "    .dataframe tbody tr th:only-of-type {\n",
              "        vertical-align: middle;\n",
              "    }\n",
              "\n",
              "    .dataframe tbody tr th {\n",
              "        vertical-align: top;\n",
              "    }\n",
              "\n",
              "    .dataframe thead th {\n",
              "        text-align: right;\n",
              "    }\n",
              "</style>\n",
              "<table border=\"1\" class=\"dataframe\">\n",
              "  <thead>\n",
              "    <tr style=\"text-align: right;\">\n",
              "      <th></th>\n",
              "      <th>admin1</th>\n",
              "      <th>admin2</th>\n",
              "      <th>market</th>\n",
              "      <th>latitude</th>\n",
              "      <th>longitude</th>\n",
              "      <th>category</th>\n",
              "      <th>commodity</th>\n",
              "      <th>unit</th>\n",
              "      <th>priceflag</th>\n",
              "      <th>pricetype</th>\n",
              "      <th>currency</th>\n",
              "      <th>price</th>\n",
              "      <th>usdprice</th>\n",
              "      <th>Maize (white)</th>\n",
              "      <th>Maize (yellow)</th>\n",
              "      <th>Wheat</th>\n",
              "      <th>year</th>\n",
              "      <th>month</th>\n",
              "    </tr>\n",
              "  </thead>\n",
              "  <tbody>\n",
              "    <tr>\n",
              "      <th>2000-01-15</th>\n",
              "      <td>Gauteng</td>\n",
              "      <td>West Rand District Municipality</td>\n",
              "      <td>Randfontein</td>\n",
              "      <td>-26.199</td>\n",
              "      <td>27.669</td>\n",
              "      <td>cereals and tubers</td>\n",
              "      <td>Maize (white)</td>\n",
              "      <td>KG</td>\n",
              "      <td>actual</td>\n",
              "      <td>Wholesale</td>\n",
              "      <td>ZAR</td>\n",
              "      <td>0.80</td>\n",
              "      <td>0.1321</td>\n",
              "      <td>1</td>\n",
              "      <td>0</td>\n",
              "      <td>0</td>\n",
              "      <td>2000</td>\n",
              "      <td>1</td>\n",
              "    </tr>\n",
              "    <tr>\n",
              "      <th>2000-01-15</th>\n",
              "      <td>Gauteng</td>\n",
              "      <td>West Rand District Municipality</td>\n",
              "      <td>Randfontein</td>\n",
              "      <td>-26.199</td>\n",
              "      <td>27.669</td>\n",
              "      <td>cereals and tubers</td>\n",
              "      <td>Maize (yellow)</td>\n",
              "      <td>KG</td>\n",
              "      <td>actual</td>\n",
              "      <td>Wholesale</td>\n",
              "      <td>ZAR</td>\n",
              "      <td>0.86</td>\n",
              "      <td>0.1413</td>\n",
              "      <td>0</td>\n",
              "      <td>1</td>\n",
              "      <td>0</td>\n",
              "      <td>2000</td>\n",
              "      <td>1</td>\n",
              "    </tr>\n",
              "    <tr>\n",
              "      <th>2000-01-15</th>\n",
              "      <td>Gauteng</td>\n",
              "      <td>West Rand District Municipality</td>\n",
              "      <td>Randfontein</td>\n",
              "      <td>-26.199</td>\n",
              "      <td>27.669</td>\n",
              "      <td>cereals and tubers</td>\n",
              "      <td>Wheat</td>\n",
              "      <td>KG</td>\n",
              "      <td>actual</td>\n",
              "      <td>Wholesale</td>\n",
              "      <td>ZAR</td>\n",
              "      <td>0.65</td>\n",
              "      <td>0.1068</td>\n",
              "      <td>0</td>\n",
              "      <td>0</td>\n",
              "      <td>1</td>\n",
              "      <td>2000</td>\n",
              "      <td>1</td>\n",
              "    </tr>\n",
              "    <tr>\n",
              "      <th>2000-02-15</th>\n",
              "      <td>Gauteng</td>\n",
              "      <td>West Rand District Municipality</td>\n",
              "      <td>Randfontein</td>\n",
              "      <td>-26.199</td>\n",
              "      <td>27.669</td>\n",
              "      <td>cereals and tubers</td>\n",
              "      <td>Maize (white)</td>\n",
              "      <td>KG</td>\n",
              "      <td>actual</td>\n",
              "      <td>Wholesale</td>\n",
              "      <td>ZAR</td>\n",
              "      <td>0.80</td>\n",
              "      <td>0.1260</td>\n",
              "      <td>1</td>\n",
              "      <td>0</td>\n",
              "      <td>0</td>\n",
              "      <td>2000</td>\n",
              "      <td>2</td>\n",
              "    </tr>\n",
              "    <tr>\n",
              "      <th>2000-02-15</th>\n",
              "      <td>Gauteng</td>\n",
              "      <td>West Rand District Municipality</td>\n",
              "      <td>Randfontein</td>\n",
              "      <td>-26.199</td>\n",
              "      <td>27.669</td>\n",
              "      <td>cereals and tubers</td>\n",
              "      <td>Maize (yellow)</td>\n",
              "      <td>KG</td>\n",
              "      <td>actual</td>\n",
              "      <td>Wholesale</td>\n",
              "      <td>ZAR</td>\n",
              "      <td>0.83</td>\n",
              "      <td>0.1305</td>\n",
              "      <td>0</td>\n",
              "      <td>1</td>\n",
              "      <td>0</td>\n",
              "      <td>2000</td>\n",
              "      <td>2</td>\n",
              "    </tr>\n",
              "  </tbody>\n",
              "</table>\n",
              "</div>\n",
              "      <button class=\"colab-df-convert\" onclick=\"convertToInteractive('df-5680fc7c-7476-4cd7-a760-2f284a2bd2c0')\"\n",
              "              title=\"Convert this dataframe to an interactive table.\"\n",
              "              style=\"display:none;\">\n",
              "        \n",
              "  <svg xmlns=\"http://www.w3.org/2000/svg\" height=\"24px\"viewBox=\"0 0 24 24\"\n",
              "       width=\"24px\">\n",
              "    <path d=\"M0 0h24v24H0V0z\" fill=\"none\"/>\n",
              "    <path d=\"M18.56 5.44l.94 2.06.94-2.06 2.06-.94-2.06-.94-.94-2.06-.94 2.06-2.06.94zm-11 1L8.5 8.5l.94-2.06 2.06-.94-2.06-.94L8.5 2.5l-.94 2.06-2.06.94zm10 10l.94 2.06.94-2.06 2.06-.94-2.06-.94-.94-2.06-.94 2.06-2.06.94z\"/><path d=\"M17.41 7.96l-1.37-1.37c-.4-.4-.92-.59-1.43-.59-.52 0-1.04.2-1.43.59L10.3 9.45l-7.72 7.72c-.78.78-.78 2.05 0 2.83L4 21.41c.39.39.9.59 1.41.59.51 0 1.02-.2 1.41-.59l7.78-7.78 2.81-2.81c.8-.78.8-2.07 0-2.86zM5.41 20L4 18.59l7.72-7.72 1.47 1.35L5.41 20z\"/>\n",
              "  </svg>\n",
              "      </button>\n",
              "      \n",
              "  <style>\n",
              "    .colab-df-container {\n",
              "      display:flex;\n",
              "      flex-wrap:wrap;\n",
              "      gap: 12px;\n",
              "    }\n",
              "\n",
              "    .colab-df-convert {\n",
              "      background-color: #E8F0FE;\n",
              "      border: none;\n",
              "      border-radius: 50%;\n",
              "      cursor: pointer;\n",
              "      display: none;\n",
              "      fill: #1967D2;\n",
              "      height: 32px;\n",
              "      padding: 0 0 0 0;\n",
              "      width: 32px;\n",
              "    }\n",
              "\n",
              "    .colab-df-convert:hover {\n",
              "      background-color: #E2EBFA;\n",
              "      box-shadow: 0px 1px 2px rgba(60, 64, 67, 0.3), 0px 1px 3px 1px rgba(60, 64, 67, 0.15);\n",
              "      fill: #174EA6;\n",
              "    }\n",
              "\n",
              "    [theme=dark] .colab-df-convert {\n",
              "      background-color: #3B4455;\n",
              "      fill: #D2E3FC;\n",
              "    }\n",
              "\n",
              "    [theme=dark] .colab-df-convert:hover {\n",
              "      background-color: #434B5C;\n",
              "      box-shadow: 0px 1px 3px 1px rgba(0, 0, 0, 0.15);\n",
              "      filter: drop-shadow(0px 1px 2px rgba(0, 0, 0, 0.3));\n",
              "      fill: #FFFFFF;\n",
              "    }\n",
              "  </style>\n",
              "\n",
              "      <script>\n",
              "        const buttonEl =\n",
              "          document.querySelector('#df-5680fc7c-7476-4cd7-a760-2f284a2bd2c0 button.colab-df-convert');\n",
              "        buttonEl.style.display =\n",
              "          google.colab.kernel.accessAllowed ? 'block' : 'none';\n",
              "\n",
              "        async function convertToInteractive(key) {\n",
              "          const element = document.querySelector('#df-5680fc7c-7476-4cd7-a760-2f284a2bd2c0');\n",
              "          const dataTable =\n",
              "            await google.colab.kernel.invokeFunction('convertToInteractive',\n",
              "                                                     [key], {});\n",
              "          if (!dataTable) return;\n",
              "\n",
              "          const docLinkHtml = 'Like what you see? Visit the ' +\n",
              "            '<a target=\"_blank\" href=https://colab.research.google.com/notebooks/data_table.ipynb>data table notebook</a>'\n",
              "            + ' to learn more about interactive tables.';\n",
              "          element.innerHTML = '';\n",
              "          dataTable['output_type'] = 'display_data';\n",
              "          await google.colab.output.renderOutput(dataTable, element);\n",
              "          const docLink = document.createElement('div');\n",
              "          docLink.innerHTML = docLinkHtml;\n",
              "          element.appendChild(docLink);\n",
              "        }\n",
              "      </script>\n",
              "    </div>\n",
              "  </div>\n",
              "  "
            ]
          },
          "metadata": {},
          "execution_count": 32
        }
      ],
      "source": [
        "#set index to date None\n",
        "df.index.names = [None]\n",
        " \n",
        "df.head()"
      ]
    },
    {
      "cell_type": "code",
      "execution_count": null,
      "metadata": {
        "colab": {
          "base_uri": "https://localhost:8080/",
          "height": 461
        },
        "id": "gbI2TvlTsxHL",
        "outputId": "b85f3612-687d-48f3-b343-b7b736f010ad"
      },
      "outputs": [
        {
          "output_type": "execute_result",
          "data": {
            "text/plain": [
              "date         admin1                           admin2       market latitude  \\\n",
              "2000-01-15  Gauteng  West Rand District Municipality  Randfontein  -26.199   \n",
              "2000-01-15  Gauteng  West Rand District Municipality  Randfontein  -26.199   \n",
              "2000-01-15  Gauteng  West Rand District Municipality  Randfontein  -26.199   \n",
              "2000-02-15  Gauteng  West Rand District Municipality  Randfontein  -26.199   \n",
              "2000-02-15  Gauteng  West Rand District Municipality  Randfontein  -26.199   \n",
              "\n",
              "date       longitude            category       commodity unit priceflag  \\\n",
              "2000-01-15    27.669  cereals and tubers   Maize (white)   KG    actual   \n",
              "2000-01-15    27.669  cereals and tubers  Maize (yellow)   KG    actual   \n",
              "2000-01-15    27.669  cereals and tubers           Wheat   KG    actual   \n",
              "2000-02-15    27.669  cereals and tubers   Maize (white)   KG    actual   \n",
              "2000-02-15    27.669  cereals and tubers  Maize (yellow)   KG    actual   \n",
              "\n",
              "date        pricetype currency  price  usdprice  Maize (white)  \\\n",
              "2000-01-15  Wholesale      ZAR   0.80    0.1321              1   \n",
              "2000-01-15  Wholesale      ZAR   0.86    0.1413              0   \n",
              "2000-01-15  Wholesale      ZAR   0.65    0.1068              0   \n",
              "2000-02-15  Wholesale      ZAR   0.80    0.1260              1   \n",
              "2000-02-15  Wholesale      ZAR   0.83    0.1305              0   \n",
              "\n",
              "date        Maize (yellow)  Wheat  year  month  \n",
              "2000-01-15               0      0  2000      1  \n",
              "2000-01-15               1      0  2000      1  \n",
              "2000-01-15               0      1  2000      1  \n",
              "2000-02-15               0      0  2000      2  \n",
              "2000-02-15               1      0  2000      2  "
            ],
            "text/html": [
              "\n",
              "  <div id=\"df-accf3cf5-cbd4-406c-a72b-5fc8731b4f02\">\n",
              "    <div class=\"colab-df-container\">\n",
              "      <div>\n",
              "<style scoped>\n",
              "    .dataframe tbody tr th:only-of-type {\n",
              "        vertical-align: middle;\n",
              "    }\n",
              "\n",
              "    .dataframe tbody tr th {\n",
              "        vertical-align: top;\n",
              "    }\n",
              "\n",
              "    .dataframe thead th {\n",
              "        text-align: right;\n",
              "    }\n",
              "</style>\n",
              "<table border=\"1\" class=\"dataframe\">\n",
              "  <thead>\n",
              "    <tr style=\"text-align: right;\">\n",
              "      <th>date</th>\n",
              "      <th>admin1</th>\n",
              "      <th>admin2</th>\n",
              "      <th>market</th>\n",
              "      <th>latitude</th>\n",
              "      <th>longitude</th>\n",
              "      <th>category</th>\n",
              "      <th>commodity</th>\n",
              "      <th>unit</th>\n",
              "      <th>priceflag</th>\n",
              "      <th>pricetype</th>\n",
              "      <th>currency</th>\n",
              "      <th>price</th>\n",
              "      <th>usdprice</th>\n",
              "      <th>Maize (white)</th>\n",
              "      <th>Maize (yellow)</th>\n",
              "      <th>Wheat</th>\n",
              "      <th>year</th>\n",
              "      <th>month</th>\n",
              "    </tr>\n",
              "  </thead>\n",
              "  <tbody>\n",
              "    <tr>\n",
              "      <th>2000-01-15</th>\n",
              "      <td>Gauteng</td>\n",
              "      <td>West Rand District Municipality</td>\n",
              "      <td>Randfontein</td>\n",
              "      <td>-26.199</td>\n",
              "      <td>27.669</td>\n",
              "      <td>cereals and tubers</td>\n",
              "      <td>Maize (white)</td>\n",
              "      <td>KG</td>\n",
              "      <td>actual</td>\n",
              "      <td>Wholesale</td>\n",
              "      <td>ZAR</td>\n",
              "      <td>0.80</td>\n",
              "      <td>0.1321</td>\n",
              "      <td>1</td>\n",
              "      <td>0</td>\n",
              "      <td>0</td>\n",
              "      <td>2000</td>\n",
              "      <td>1</td>\n",
              "    </tr>\n",
              "    <tr>\n",
              "      <th>2000-01-15</th>\n",
              "      <td>Gauteng</td>\n",
              "      <td>West Rand District Municipality</td>\n",
              "      <td>Randfontein</td>\n",
              "      <td>-26.199</td>\n",
              "      <td>27.669</td>\n",
              "      <td>cereals and tubers</td>\n",
              "      <td>Maize (yellow)</td>\n",
              "      <td>KG</td>\n",
              "      <td>actual</td>\n",
              "      <td>Wholesale</td>\n",
              "      <td>ZAR</td>\n",
              "      <td>0.86</td>\n",
              "      <td>0.1413</td>\n",
              "      <td>0</td>\n",
              "      <td>1</td>\n",
              "      <td>0</td>\n",
              "      <td>2000</td>\n",
              "      <td>1</td>\n",
              "    </tr>\n",
              "    <tr>\n",
              "      <th>2000-01-15</th>\n",
              "      <td>Gauteng</td>\n",
              "      <td>West Rand District Municipality</td>\n",
              "      <td>Randfontein</td>\n",
              "      <td>-26.199</td>\n",
              "      <td>27.669</td>\n",
              "      <td>cereals and tubers</td>\n",
              "      <td>Wheat</td>\n",
              "      <td>KG</td>\n",
              "      <td>actual</td>\n",
              "      <td>Wholesale</td>\n",
              "      <td>ZAR</td>\n",
              "      <td>0.65</td>\n",
              "      <td>0.1068</td>\n",
              "      <td>0</td>\n",
              "      <td>0</td>\n",
              "      <td>1</td>\n",
              "      <td>2000</td>\n",
              "      <td>1</td>\n",
              "    </tr>\n",
              "    <tr>\n",
              "      <th>2000-02-15</th>\n",
              "      <td>Gauteng</td>\n",
              "      <td>West Rand District Municipality</td>\n",
              "      <td>Randfontein</td>\n",
              "      <td>-26.199</td>\n",
              "      <td>27.669</td>\n",
              "      <td>cereals and tubers</td>\n",
              "      <td>Maize (white)</td>\n",
              "      <td>KG</td>\n",
              "      <td>actual</td>\n",
              "      <td>Wholesale</td>\n",
              "      <td>ZAR</td>\n",
              "      <td>0.80</td>\n",
              "      <td>0.1260</td>\n",
              "      <td>1</td>\n",
              "      <td>0</td>\n",
              "      <td>0</td>\n",
              "      <td>2000</td>\n",
              "      <td>2</td>\n",
              "    </tr>\n",
              "    <tr>\n",
              "      <th>2000-02-15</th>\n",
              "      <td>Gauteng</td>\n",
              "      <td>West Rand District Municipality</td>\n",
              "      <td>Randfontein</td>\n",
              "      <td>-26.199</td>\n",
              "      <td>27.669</td>\n",
              "      <td>cereals and tubers</td>\n",
              "      <td>Maize (yellow)</td>\n",
              "      <td>KG</td>\n",
              "      <td>actual</td>\n",
              "      <td>Wholesale</td>\n",
              "      <td>ZAR</td>\n",
              "      <td>0.83</td>\n",
              "      <td>0.1305</td>\n",
              "      <td>0</td>\n",
              "      <td>1</td>\n",
              "      <td>0</td>\n",
              "      <td>2000</td>\n",
              "      <td>2</td>\n",
              "    </tr>\n",
              "  </tbody>\n",
              "</table>\n",
              "</div>\n",
              "      <button class=\"colab-df-convert\" onclick=\"convertToInteractive('df-accf3cf5-cbd4-406c-a72b-5fc8731b4f02')\"\n",
              "              title=\"Convert this dataframe to an interactive table.\"\n",
              "              style=\"display:none;\">\n",
              "        \n",
              "  <svg xmlns=\"http://www.w3.org/2000/svg\" height=\"24px\"viewBox=\"0 0 24 24\"\n",
              "       width=\"24px\">\n",
              "    <path d=\"M0 0h24v24H0V0z\" fill=\"none\"/>\n",
              "    <path d=\"M18.56 5.44l.94 2.06.94-2.06 2.06-.94-2.06-.94-.94-2.06-.94 2.06-2.06.94zm-11 1L8.5 8.5l.94-2.06 2.06-.94-2.06-.94L8.5 2.5l-.94 2.06-2.06.94zm10 10l.94 2.06.94-2.06 2.06-.94-2.06-.94-.94-2.06-.94 2.06-2.06.94z\"/><path d=\"M17.41 7.96l-1.37-1.37c-.4-.4-.92-.59-1.43-.59-.52 0-1.04.2-1.43.59L10.3 9.45l-7.72 7.72c-.78.78-.78 2.05 0 2.83L4 21.41c.39.39.9.59 1.41.59.51 0 1.02-.2 1.41-.59l7.78-7.78 2.81-2.81c.8-.78.8-2.07 0-2.86zM5.41 20L4 18.59l7.72-7.72 1.47 1.35L5.41 20z\"/>\n",
              "  </svg>\n",
              "      </button>\n",
              "      \n",
              "  <style>\n",
              "    .colab-df-container {\n",
              "      display:flex;\n",
              "      flex-wrap:wrap;\n",
              "      gap: 12px;\n",
              "    }\n",
              "\n",
              "    .colab-df-convert {\n",
              "      background-color: #E8F0FE;\n",
              "      border: none;\n",
              "      border-radius: 50%;\n",
              "      cursor: pointer;\n",
              "      display: none;\n",
              "      fill: #1967D2;\n",
              "      height: 32px;\n",
              "      padding: 0 0 0 0;\n",
              "      width: 32px;\n",
              "    }\n",
              "\n",
              "    .colab-df-convert:hover {\n",
              "      background-color: #E2EBFA;\n",
              "      box-shadow: 0px 1px 2px rgba(60, 64, 67, 0.3), 0px 1px 3px 1px rgba(60, 64, 67, 0.15);\n",
              "      fill: #174EA6;\n",
              "    }\n",
              "\n",
              "    [theme=dark] .colab-df-convert {\n",
              "      background-color: #3B4455;\n",
              "      fill: #D2E3FC;\n",
              "    }\n",
              "\n",
              "    [theme=dark] .colab-df-convert:hover {\n",
              "      background-color: #434B5C;\n",
              "      box-shadow: 0px 1px 3px 1px rgba(0, 0, 0, 0.15);\n",
              "      filter: drop-shadow(0px 1px 2px rgba(0, 0, 0, 0.3));\n",
              "      fill: #FFFFFF;\n",
              "    }\n",
              "  </style>\n",
              "\n",
              "      <script>\n",
              "        const buttonEl =\n",
              "          document.querySelector('#df-accf3cf5-cbd4-406c-a72b-5fc8731b4f02 button.colab-df-convert');\n",
              "        buttonEl.style.display =\n",
              "          google.colab.kernel.accessAllowed ? 'block' : 'none';\n",
              "\n",
              "        async function convertToInteractive(key) {\n",
              "          const element = document.querySelector('#df-accf3cf5-cbd4-406c-a72b-5fc8731b4f02');\n",
              "          const dataTable =\n",
              "            await google.colab.kernel.invokeFunction('convertToInteractive',\n",
              "                                                     [key], {});\n",
              "          if (!dataTable) return;\n",
              "\n",
              "          const docLinkHtml = 'Like what you see? Visit the ' +\n",
              "            '<a target=\"_blank\" href=https://colab.research.google.com/notebooks/data_table.ipynb>data table notebook</a>'\n",
              "            + ' to learn more about interactive tables.';\n",
              "          element.innerHTML = '';\n",
              "          dataTable['output_type'] = 'display_data';\n",
              "          await google.colab.output.renderOutput(dataTable, element);\n",
              "          const docLink = document.createElement('div');\n",
              "          docLink.innerHTML = docLinkHtml;\n",
              "          element.appendChild(docLink);\n",
              "        }\n",
              "      </script>\n",
              "    </div>\n",
              "  </div>\n",
              "  "
            ]
          },
          "metadata": {},
          "execution_count": 33
        }
      ],
      "source": [
        "#rename none column to date\n",
        "df=df.rename_axis(\"date\", axis=\"columns\")\n",
        "df.head()"
      ]
    },
    {
      "cell_type": "code",
      "source": [
        "# renaming admin1  to Province\n",
        "df.columns = df.columns.str.replace('admin1', 'Province')\n",
        "# renaming admin1  to Province\n",
        "df.columns = df.columns.str.replace('admin2', 'City')"
      ],
      "metadata": {
        "id": "TTmTvU-HWMy6"
      },
      "execution_count": null,
      "outputs": []
    },
    {
      "cell_type": "code",
      "source": [
        "#display first five rows of dataset\n",
        "df.head()"
      ],
      "metadata": {
        "id": "pp0YiLpEYec2",
        "outputId": "f7e7e311-fd2d-419a-ea15-6dc86cdd76f4",
        "colab": {
          "base_uri": "https://localhost:8080/",
          "height": 461
        }
      },
      "execution_count": null,
      "outputs": [
        {
          "output_type": "execute_result",
          "data": {
            "text/plain": [
              "date       Province                             City       market latitude  \\\n",
              "2000-01-15  Gauteng  West Rand District Municipality  Randfontein  -26.199   \n",
              "2000-01-15  Gauteng  West Rand District Municipality  Randfontein  -26.199   \n",
              "2000-01-15  Gauteng  West Rand District Municipality  Randfontein  -26.199   \n",
              "2000-02-15  Gauteng  West Rand District Municipality  Randfontein  -26.199   \n",
              "2000-02-15  Gauteng  West Rand District Municipality  Randfontein  -26.199   \n",
              "\n",
              "date       longitude            category       commodity unit priceflag  \\\n",
              "2000-01-15    27.669  cereals and tubers   Maize (white)   KG    actual   \n",
              "2000-01-15    27.669  cereals and tubers  Maize (yellow)   KG    actual   \n",
              "2000-01-15    27.669  cereals and tubers           Wheat   KG    actual   \n",
              "2000-02-15    27.669  cereals and tubers   Maize (white)   KG    actual   \n",
              "2000-02-15    27.669  cereals and tubers  Maize (yellow)   KG    actual   \n",
              "\n",
              "date        pricetype currency  price  usdprice  Maize (white)  \\\n",
              "2000-01-15  Wholesale      ZAR   0.80    0.1321              1   \n",
              "2000-01-15  Wholesale      ZAR   0.86    0.1413              0   \n",
              "2000-01-15  Wholesale      ZAR   0.65    0.1068              0   \n",
              "2000-02-15  Wholesale      ZAR   0.80    0.1260              1   \n",
              "2000-02-15  Wholesale      ZAR   0.83    0.1305              0   \n",
              "\n",
              "date        Maize (yellow)  Wheat  year  month  \n",
              "2000-01-15               0      0  2000      1  \n",
              "2000-01-15               1      0  2000      1  \n",
              "2000-01-15               0      1  2000      1  \n",
              "2000-02-15               0      0  2000      2  \n",
              "2000-02-15               1      0  2000      2  "
            ],
            "text/html": [
              "\n",
              "  <div id=\"df-5436ffdf-dbfb-4305-8f51-ebd021883ec5\">\n",
              "    <div class=\"colab-df-container\">\n",
              "      <div>\n",
              "<style scoped>\n",
              "    .dataframe tbody tr th:only-of-type {\n",
              "        vertical-align: middle;\n",
              "    }\n",
              "\n",
              "    .dataframe tbody tr th {\n",
              "        vertical-align: top;\n",
              "    }\n",
              "\n",
              "    .dataframe thead th {\n",
              "        text-align: right;\n",
              "    }\n",
              "</style>\n",
              "<table border=\"1\" class=\"dataframe\">\n",
              "  <thead>\n",
              "    <tr style=\"text-align: right;\">\n",
              "      <th>date</th>\n",
              "      <th>Province</th>\n",
              "      <th>City</th>\n",
              "      <th>market</th>\n",
              "      <th>latitude</th>\n",
              "      <th>longitude</th>\n",
              "      <th>category</th>\n",
              "      <th>commodity</th>\n",
              "      <th>unit</th>\n",
              "      <th>priceflag</th>\n",
              "      <th>pricetype</th>\n",
              "      <th>currency</th>\n",
              "      <th>price</th>\n",
              "      <th>usdprice</th>\n",
              "      <th>Maize (white)</th>\n",
              "      <th>Maize (yellow)</th>\n",
              "      <th>Wheat</th>\n",
              "      <th>year</th>\n",
              "      <th>month</th>\n",
              "    </tr>\n",
              "  </thead>\n",
              "  <tbody>\n",
              "    <tr>\n",
              "      <th>2000-01-15</th>\n",
              "      <td>Gauteng</td>\n",
              "      <td>West Rand District Municipality</td>\n",
              "      <td>Randfontein</td>\n",
              "      <td>-26.199</td>\n",
              "      <td>27.669</td>\n",
              "      <td>cereals and tubers</td>\n",
              "      <td>Maize (white)</td>\n",
              "      <td>KG</td>\n",
              "      <td>actual</td>\n",
              "      <td>Wholesale</td>\n",
              "      <td>ZAR</td>\n",
              "      <td>0.80</td>\n",
              "      <td>0.1321</td>\n",
              "      <td>1</td>\n",
              "      <td>0</td>\n",
              "      <td>0</td>\n",
              "      <td>2000</td>\n",
              "      <td>1</td>\n",
              "    </tr>\n",
              "    <tr>\n",
              "      <th>2000-01-15</th>\n",
              "      <td>Gauteng</td>\n",
              "      <td>West Rand District Municipality</td>\n",
              "      <td>Randfontein</td>\n",
              "      <td>-26.199</td>\n",
              "      <td>27.669</td>\n",
              "      <td>cereals and tubers</td>\n",
              "      <td>Maize (yellow)</td>\n",
              "      <td>KG</td>\n",
              "      <td>actual</td>\n",
              "      <td>Wholesale</td>\n",
              "      <td>ZAR</td>\n",
              "      <td>0.86</td>\n",
              "      <td>0.1413</td>\n",
              "      <td>0</td>\n",
              "      <td>1</td>\n",
              "      <td>0</td>\n",
              "      <td>2000</td>\n",
              "      <td>1</td>\n",
              "    </tr>\n",
              "    <tr>\n",
              "      <th>2000-01-15</th>\n",
              "      <td>Gauteng</td>\n",
              "      <td>West Rand District Municipality</td>\n",
              "      <td>Randfontein</td>\n",
              "      <td>-26.199</td>\n",
              "      <td>27.669</td>\n",
              "      <td>cereals and tubers</td>\n",
              "      <td>Wheat</td>\n",
              "      <td>KG</td>\n",
              "      <td>actual</td>\n",
              "      <td>Wholesale</td>\n",
              "      <td>ZAR</td>\n",
              "      <td>0.65</td>\n",
              "      <td>0.1068</td>\n",
              "      <td>0</td>\n",
              "      <td>0</td>\n",
              "      <td>1</td>\n",
              "      <td>2000</td>\n",
              "      <td>1</td>\n",
              "    </tr>\n",
              "    <tr>\n",
              "      <th>2000-02-15</th>\n",
              "      <td>Gauteng</td>\n",
              "      <td>West Rand District Municipality</td>\n",
              "      <td>Randfontein</td>\n",
              "      <td>-26.199</td>\n",
              "      <td>27.669</td>\n",
              "      <td>cereals and tubers</td>\n",
              "      <td>Maize (white)</td>\n",
              "      <td>KG</td>\n",
              "      <td>actual</td>\n",
              "      <td>Wholesale</td>\n",
              "      <td>ZAR</td>\n",
              "      <td>0.80</td>\n",
              "      <td>0.1260</td>\n",
              "      <td>1</td>\n",
              "      <td>0</td>\n",
              "      <td>0</td>\n",
              "      <td>2000</td>\n",
              "      <td>2</td>\n",
              "    </tr>\n",
              "    <tr>\n",
              "      <th>2000-02-15</th>\n",
              "      <td>Gauteng</td>\n",
              "      <td>West Rand District Municipality</td>\n",
              "      <td>Randfontein</td>\n",
              "      <td>-26.199</td>\n",
              "      <td>27.669</td>\n",
              "      <td>cereals and tubers</td>\n",
              "      <td>Maize (yellow)</td>\n",
              "      <td>KG</td>\n",
              "      <td>actual</td>\n",
              "      <td>Wholesale</td>\n",
              "      <td>ZAR</td>\n",
              "      <td>0.83</td>\n",
              "      <td>0.1305</td>\n",
              "      <td>0</td>\n",
              "      <td>1</td>\n",
              "      <td>0</td>\n",
              "      <td>2000</td>\n",
              "      <td>2</td>\n",
              "    </tr>\n",
              "  </tbody>\n",
              "</table>\n",
              "</div>\n",
              "      <button class=\"colab-df-convert\" onclick=\"convertToInteractive('df-5436ffdf-dbfb-4305-8f51-ebd021883ec5')\"\n",
              "              title=\"Convert this dataframe to an interactive table.\"\n",
              "              style=\"display:none;\">\n",
              "        \n",
              "  <svg xmlns=\"http://www.w3.org/2000/svg\" height=\"24px\"viewBox=\"0 0 24 24\"\n",
              "       width=\"24px\">\n",
              "    <path d=\"M0 0h24v24H0V0z\" fill=\"none\"/>\n",
              "    <path d=\"M18.56 5.44l.94 2.06.94-2.06 2.06-.94-2.06-.94-.94-2.06-.94 2.06-2.06.94zm-11 1L8.5 8.5l.94-2.06 2.06-.94-2.06-.94L8.5 2.5l-.94 2.06-2.06.94zm10 10l.94 2.06.94-2.06 2.06-.94-2.06-.94-.94-2.06-.94 2.06-2.06.94z\"/><path d=\"M17.41 7.96l-1.37-1.37c-.4-.4-.92-.59-1.43-.59-.52 0-1.04.2-1.43.59L10.3 9.45l-7.72 7.72c-.78.78-.78 2.05 0 2.83L4 21.41c.39.39.9.59 1.41.59.51 0 1.02-.2 1.41-.59l7.78-7.78 2.81-2.81c.8-.78.8-2.07 0-2.86zM5.41 20L4 18.59l7.72-7.72 1.47 1.35L5.41 20z\"/>\n",
              "  </svg>\n",
              "      </button>\n",
              "      \n",
              "  <style>\n",
              "    .colab-df-container {\n",
              "      display:flex;\n",
              "      flex-wrap:wrap;\n",
              "      gap: 12px;\n",
              "    }\n",
              "\n",
              "    .colab-df-convert {\n",
              "      background-color: #E8F0FE;\n",
              "      border: none;\n",
              "      border-radius: 50%;\n",
              "      cursor: pointer;\n",
              "      display: none;\n",
              "      fill: #1967D2;\n",
              "      height: 32px;\n",
              "      padding: 0 0 0 0;\n",
              "      width: 32px;\n",
              "    }\n",
              "\n",
              "    .colab-df-convert:hover {\n",
              "      background-color: #E2EBFA;\n",
              "      box-shadow: 0px 1px 2px rgba(60, 64, 67, 0.3), 0px 1px 3px 1px rgba(60, 64, 67, 0.15);\n",
              "      fill: #174EA6;\n",
              "    }\n",
              "\n",
              "    [theme=dark] .colab-df-convert {\n",
              "      background-color: #3B4455;\n",
              "      fill: #D2E3FC;\n",
              "    }\n",
              "\n",
              "    [theme=dark] .colab-df-convert:hover {\n",
              "      background-color: #434B5C;\n",
              "      box-shadow: 0px 1px 3px 1px rgba(0, 0, 0, 0.15);\n",
              "      filter: drop-shadow(0px 1px 2px rgba(0, 0, 0, 0.3));\n",
              "      fill: #FFFFFF;\n",
              "    }\n",
              "  </style>\n",
              "\n",
              "      <script>\n",
              "        const buttonEl =\n",
              "          document.querySelector('#df-5436ffdf-dbfb-4305-8f51-ebd021883ec5 button.colab-df-convert');\n",
              "        buttonEl.style.display =\n",
              "          google.colab.kernel.accessAllowed ? 'block' : 'none';\n",
              "\n",
              "        async function convertToInteractive(key) {\n",
              "          const element = document.querySelector('#df-5436ffdf-dbfb-4305-8f51-ebd021883ec5');\n",
              "          const dataTable =\n",
              "            await google.colab.kernel.invokeFunction('convertToInteractive',\n",
              "                                                     [key], {});\n",
              "          if (!dataTable) return;\n",
              "\n",
              "          const docLinkHtml = 'Like what you see? Visit the ' +\n",
              "            '<a target=\"_blank\" href=https://colab.research.google.com/notebooks/data_table.ipynb>data table notebook</a>'\n",
              "            + ' to learn more about interactive tables.';\n",
              "          element.innerHTML = '';\n",
              "          dataTable['output_type'] = 'display_data';\n",
              "          await google.colab.output.renderOutput(dataTable, element);\n",
              "          const docLink = document.createElement('div');\n",
              "          docLink.innerHTML = docLinkHtml;\n",
              "          element.appendChild(docLink);\n",
              "        }\n",
              "      </script>\n",
              "    </div>\n",
              "  </div>\n",
              "  "
            ]
          },
          "metadata": {},
          "execution_count": 38
        }
      ]
    },
    {
      "cell_type": "markdown",
      "metadata": {
        "id": "7kAGa8s98o4C"
      },
      "source": [
        "Downloading data to the csv file"
      ]
    },
    {
      "cell_type": "code",
      "execution_count": null,
      "metadata": {
        "id": "uMQaXcIgxv7i"
      },
      "outputs": [],
      "source": [
        "\n",
        "#df.to_csv('food_prices_cleaned.csv')"
      ]
    },
    {
      "cell_type": "code",
      "execution_count": null,
      "metadata": {
        "id": "tg4DT9VSUVok"
      },
      "outputs": [],
      "source": [
        "#df.to_csv(\"food_prices_cleaned.csv\", index=False, header=True)"
      ]
    },
    {
      "cell_type": "code",
      "execution_count": null,
      "metadata": {
        "id": "0Q27HtGg8RMe",
        "outputId": "214df80b-126f-4abb-e3a9-3a1d8185399f",
        "colab": {
          "base_uri": "https://localhost:8080/",
          "height": 17
        }
      },
      "outputs": [
        {
          "output_type": "display_data",
          "data": {
            "text/plain": [
              "<IPython.core.display.Javascript object>"
            ],
            "application/javascript": [
              "\n",
              "    async function download(id, filename, size) {\n",
              "      if (!google.colab.kernel.accessAllowed) {\n",
              "        return;\n",
              "      }\n",
              "      const div = document.createElement('div');\n",
              "      const label = document.createElement('label');\n",
              "      label.textContent = `Downloading \"${filename}\": `;\n",
              "      div.appendChild(label);\n",
              "      const progress = document.createElement('progress');\n",
              "      progress.max = size;\n",
              "      div.appendChild(progress);\n",
              "      document.body.appendChild(div);\n",
              "\n",
              "      const buffers = [];\n",
              "      let downloaded = 0;\n",
              "\n",
              "      const channel = await google.colab.kernel.comms.open(id);\n",
              "      // Send a message to notify the kernel that we're ready.\n",
              "      channel.send({})\n",
              "\n",
              "      for await (const message of channel.messages) {\n",
              "        // Send a message to notify the kernel that we're ready.\n",
              "        channel.send({})\n",
              "        if (message.buffers) {\n",
              "          for (const buffer of message.buffers) {\n",
              "            buffers.push(buffer);\n",
              "            downloaded += buffer.byteLength;\n",
              "            progress.value = downloaded;\n",
              "          }\n",
              "        }\n",
              "      }\n",
              "      const blob = new Blob(buffers, {type: 'application/binary'});\n",
              "      const a = document.createElement('a');\n",
              "      a.href = window.URL.createObjectURL(blob);\n",
              "      a.download = filename;\n",
              "      div.appendChild(a);\n",
              "      a.click();\n",
              "      div.remove();\n",
              "    }\n",
              "  "
            ]
          },
          "metadata": {}
        },
        {
          "output_type": "display_data",
          "data": {
            "text/plain": [
              "<IPython.core.display.Javascript object>"
            ],
            "application/javascript": [
              "download(\"download_f86b0d9b-df3e-4212-bc31-0d60d3473145\", \"food_prices_cleaned.csv\", 118983)"
            ]
          },
          "metadata": {}
        }
      ],
      "source": [
        "from google.colab import files\n",
        "files.download(\"food_prices_cleaned.csv\")"
      ]
    },
    {
      "cell_type": "code",
      "execution_count": null,
      "metadata": {
        "colab": {
          "base_uri": "https://localhost:8080/"
        },
        "id": "NEyQF5igT-J1",
        "outputId": "a3c1d70f-d997-450f-fc5b-397d5be94dab"
      },
      "outputs": [
        {
          "output_type": "execute_result",
          "data": {
            "text/plain": [
              "2000    36\n",
              "2012    36\n",
              "2021    36\n",
              "2020    36\n",
              "2019    36\n",
              "2018    36\n",
              "2017    36\n",
              "2016    36\n",
              "2015    36\n",
              "2014    36\n",
              "2013    36\n",
              "2011    36\n",
              "2001    36\n",
              "2010    36\n",
              "2009    36\n",
              "2008    36\n",
              "2007    36\n",
              "2006    36\n",
              "2005    36\n",
              "2004    36\n",
              "2003    36\n",
              "2002    36\n",
              "2022    18\n",
              "Name: year, dtype: int64"
            ]
          },
          "metadata": {},
          "execution_count": 42
        }
      ],
      "source": [
        "#evaluate year feature\n",
        "df['year'].value_counts()"
      ]
    },
    {
      "cell_type": "markdown",
      "metadata": {
        "id": "zK7e6mwOUVoq"
      },
      "source": [
        "### Visualisation\n",
        "- Evaluating the data through visuals"
      ]
    },
    {
      "cell_type": "code",
      "execution_count": null,
      "metadata": {
        "colab": {
          "base_uri": "https://localhost:8080/",
          "height": 242
        },
        "id": "5Levkm9zVQug",
        "outputId": "f09346aa-f699-4b00-cb69-765bfde90038"
      },
      "outputs": [
        {
          "output_type": "execute_result",
          "data": {
            "text/plain": [
              "<seaborn.axisgrid.FacetGrid at 0x7fadb7b2bb50>"
            ]
          },
          "metadata": {},
          "execution_count": 43
        },
        {
          "output_type": "display_data",
          "data": {
            "text/plain": [
              "<Figure size 648x216 with 3 Axes>"
            ],
            "image/png": "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\n"
          },
          "metadata": {
            "needs_background": "light"
          }
        }
      ],
      "source": [
        "# coomodity of maize, yellow and whtie are the same including wheat\n",
        "g = sns.FacetGrid(df, col='commodity')\n",
        "g.map(plt.hist, 'year', bins=20)"
      ]
    },
    {
      "cell_type": "code",
      "execution_count": null,
      "metadata": {
        "id": "4hyNddxkUVor",
        "outputId": "0fd18bd8-df18-48af-eaa3-a157a1acc9dc",
        "colab": {
          "base_uri": "https://localhost:8080/",
          "height": 585
        }
      },
      "outputs": [
        {
          "output_type": "display_data",
          "data": {
            "text/plain": [
              "<Figure size 576x576 with 1 Axes>"
            ],
            "image/png": "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\n"
          },
          "metadata": {
            "needs_background": "light"
          }
        }
      ],
      "source": [
        "#price is correlated to usdprice\n",
        "#maize(white) is correlated to price\n",
        "#maize(yellow) is correlated to price\n",
        "#wheat is correlated to price\n",
        "#year is correlated to price\n",
        "#month is correlated to price\n",
        "from statsmodels.graphics.correlation import plot_corr\n",
        "\n",
        "fig = plt.figure(figsize=(8,8));\n",
        "ax = fig.add_subplot(111);\n",
        "plot_corr(df.corr(), xnames = df.corr().columns, ax = ax);"
      ]
    },
    {
      "cell_type": "code",
      "execution_count": null,
      "metadata": {
        "id": "XX9gEETQUVot",
        "outputId": "1014ecaf-fc4a-4dbc-e822-b052cc070b4f",
        "colab": {
          "base_uri": "https://localhost:8080/",
          "height": 279
        }
      },
      "outputs": [
        {
          "output_type": "display_data",
          "data": {
            "text/plain": [
              "<Figure size 432x288 with 1 Axes>"
            ],
            "image/png": "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\n"
          },
          "metadata": {
            "needs_background": "light"
          }
        }
      ],
      "source": [
        "# have a look at feature distributions and price data is skewed to the left\n",
        "sns.boxplot(x='price', data=df);"
      ]
    },
    {
      "cell_type": "code",
      "source": [
        "# have a look at feature distributions and usd price is skewed to the left\n",
        "sns.boxplot(x='usdprice', data=df);"
      ],
      "metadata": {
        "id": "kA5QhJpPZq9O",
        "outputId": "efabe6b6-a7c3-4113-a02e-0068f35da1c6",
        "colab": {
          "base_uri": "https://localhost:8080/",
          "height": 279
        }
      },
      "execution_count": null,
      "outputs": [
        {
          "output_type": "display_data",
          "data": {
            "text/plain": [
              "<Figure size 432x288 with 1 Axes>"
            ],
            "image/png": "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\n"
          },
          "metadata": {
            "needs_background": "light"
          }
        }
      ]
    },
    {
      "cell_type": "code",
      "execution_count": null,
      "metadata": {
        "id": "_6t6YB_sUVou",
        "outputId": "2b0ec280-ad50-454a-a119-6f15b8eb4802",
        "colab": {
          "base_uri": "https://localhost:8080/",
          "height": 279
        }
      },
      "outputs": [
        {
          "output_type": "display_data",
          "data": {
            "text/plain": [
              "<Figure size 432x288 with 1 Axes>"
            ],
            "image/png": "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\n"
          },
          "metadata": {
            "needs_background": "light"
          }
        }
      ],
      "source": [
        "# have a look at feature distributions and year is normal\n",
        "sns.boxplot(x='year', data=df);"
      ]
    },
    {
      "cell_type": "code",
      "source": [],
      "metadata": {
        "id": "Oc4N5IQ_Z6R0"
      },
      "execution_count": null,
      "outputs": []
    }
  ],
  "metadata": {
>>>>>>> e31f86b8802a04a1962850d49d4f7a33f00da512
    "colab": {
      "provenance": [],
      "include_colab_link": true
    },
<<<<<<< HEAD
    "id": "NEyQF5igT-J1",
    "outputId": "cfe4bc79-5459-4b50-f477-1945419a1d3c"
   },
   "outputs": [
    {
     "data": {
      "text/plain": [
       "2000    36\n",
       "2012    36\n",
       "2021    36\n",
       "2020    36\n",
       "2019    36\n",
       "2018    36\n",
       "2017    36\n",
       "2016    36\n",
       "2015    36\n",
       "2014    36\n",
       "2013    36\n",
       "2011    36\n",
       "2001    36\n",
       "2010    36\n",
       "2009    36\n",
       "2008    36\n",
       "2007    36\n",
       "2006    36\n",
       "2005    36\n",
       "2004    36\n",
       "2003    36\n",
       "2002    36\n",
       "2022    18\n",
       "Name: year, dtype: int64"
      ]
     },
     "execution_count": 34,
     "metadata": {},
     "output_type": "execute_result"
    }
   ],
   "source": [
    "df['year'].value_counts()"
   ]
  },
  {
   "cell_type": "markdown",
   "metadata": {},
   "source": [
    "### Visualisation\n",
    "- Evaluating the data through visuals"
   ]
  },
  {
   "cell_type": "code",
   "execution_count": 82,
   "metadata": {
    "colab": {
     "base_uri": "https://localhost:8080/",
     "height": 242
=======
    "kernelspec": {
      "display_name": "Python 3 (ipykernel)",
      "language": "python",
      "name": "python3"
>>>>>>> e31f86b8802a04a1962850d49d4f7a33f00da512
    },
    "language_info": {
      "codemirror_mode": {
        "name": "ipython",
        "version": 3
      },
      "file_extension": ".py",
      "mimetype": "text/x-python",
      "name": "python",
      "nbconvert_exporter": "python",
      "pygments_lexer": "ipython3",
      "version": "3.9.12"
    }
  },
<<<<<<< HEAD
  {
   "cell_type": "code",
   "execution_count": 87,
   "metadata": {
    "scrolled": true
   },
   "outputs": [
    {
     "data": {
      "image/png": "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\n",
      "text/plain": [
       "<Figure size 576x576 with 1 Axes>"
      ]
     },
     "metadata": {
      "needs_background": "light"
     },
     "output_type": "display_data"
    }
   ],
   "source": [
    "from statsmodels.graphics.correlation import plot_corr\n",
    "\n",
    "fig = plt.figure(figsize=(8,8));\n",
    "ax = fig.add_subplot(111);\n",
    "plot_corr(df.corr(), xnames = df.corr().columns, ax = ax);"
   ]
  },
  {
   "cell_type": "code",
   "execution_count": 55,
   "metadata": {},
   "outputs": [
    {
     "data": {
      "text/plain": [
       "<AxesSubplot:>"
      ]
     },
     "execution_count": 55,
     "metadata": {},
     "output_type": "execute_result"
    },
    {
     "data": {
      "image/png": "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\n",
      "text/plain": [
       "<Figure size 432x288 with 1 Axes>"
      ]
     },
     "metadata": {
      "needs_background": "light"
     },
     "output_type": "display_data"
    }
   ],
   "source": [
    "df['price'].plot()"
   ]
  },
  {
   "cell_type": "code",
   "execution_count": 92,
   "metadata": {},
   "outputs": [
    {
     "data": {
      "image/png": "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\n",
      "text/plain": [
       "<Figure size 432x288 with 1 Axes>"
      ]
     },
     "metadata": {
      "needs_background": "light"
     },
     "output_type": "display_data"
    }
   ],
   "source": [
    "# have a look at feature distributions\n",
    "sns.boxplot(x='price', data=df);"
   ]
  },
  {
   "cell_type": "code",
   "execution_count": 36,
   "metadata": {},
   "outputs": [],
   "source": [
    "# testing for stationarity\n",
    "from statsmodels.tsa.stattools import adfuller"
   ]
  },
  {
   "cell_type": "code",
   "execution_count": 37,
   "metadata": {},
   "outputs": [],
   "source": [
    "test_results = adfuller(df['price'])"
   ]
  },
  {
   "cell_type": "code",
   "execution_count": 42,
   "metadata": {},
   "outputs": [],
   "source": [
    "# Ho: It is none stationary\n",
    "# H1: It is stationary\n",
    "\n",
    "def adfuller_test(price):\n",
    "    result = adfuller(price)\n",
    "    labels = ['ADF Test Statitic', 'p-value', '#Lags Used', 'Number of Observations Used']\n",
    "    for value,label in zip(result,labels):\n",
    "        print(label+ ' : ' +str(value))\n",
    "    if result[1] <= 0.5:\n",
    "        print('strong evidence against the null hypothesis(Ho), reject the null hypothesis. Data hos no unit root and is stationary')\n",
    "    else:\n",
    "        print('Weak evidence, against null hypothesis, time series has a unit root, indicating it is non-stationary')"
   ]
  },
  {
   "cell_type": "code",
   "execution_count": 41,
   "metadata": {},
   "outputs": [
    {
     "name": "stdout",
     "output_type": "stream",
     "text": [
      "ADF Test Statitic : -0.18956686796345154\n",
      "p-value : 0.9397538466008509\n",
      "#Lags Used : 17\n",
      "Number of Observations Used : 792\n",
      "Weak evidence\n"
     ]
    }
   ],
   "source": [
    "adfuller_test(df['price'])"
   ]
  },
  {
   "cell_type": "markdown",
   "metadata": {},
   "source": [
    "### Differencing"
   ]
  },
  {
   "cell_type": "code",
   "execution_count": 49,
   "metadata": {},
   "outputs": [],
   "source": [
    "# creating a new column to view the price shift\n",
    "df['Price First Difference'] = df['price']- df['price'].shift(1)"
   ]
  },
  {
   "cell_type": "code",
   "execution_count": 50,
   "metadata": {},
   "outputs": [],
   "source": [
    "df['Seasonal First Difference'] = df['price']- df['price'].shift(12)"
   ]
  },
  {
   "cell_type": "code",
   "execution_count": 51,
   "metadata": {},
   "outputs": [
    {
     "data": {
      "text/html": [
       "<div>\n",
       "<style scoped>\n",
       "    .dataframe tbody tr th:only-of-type {\n",
       "        vertical-align: middle;\n",
       "    }\n",
       "\n",
       "    .dataframe tbody tr th {\n",
       "        vertical-align: top;\n",
       "    }\n",
       "\n",
       "    .dataframe thead th {\n",
       "        text-align: right;\n",
       "    }\n",
       "</style>\n",
       "<table border=\"1\" class=\"dataframe\">\n",
       "  <thead>\n",
       "    <tr style=\"text-align: right;\">\n",
       "      <th>date</th>\n",
       "      <th>admin1</th>\n",
       "      <th>admin2</th>\n",
       "      <th>market</th>\n",
       "      <th>latitude</th>\n",
       "      <th>longitude</th>\n",
       "      <th>category</th>\n",
       "      <th>commodity</th>\n",
       "      <th>unit</th>\n",
       "      <th>priceflag</th>\n",
       "      <th>pricetype</th>\n",
       "      <th>...</th>\n",
       "      <th>price</th>\n",
       "      <th>usdprice</th>\n",
       "      <th>Maize (white)</th>\n",
       "      <th>Maize (yellow)</th>\n",
       "      <th>Wheat</th>\n",
       "      <th>year</th>\n",
       "      <th>month</th>\n",
       "      <th>price first difference</th>\n",
       "      <th>Seasonal First Difference</th>\n",
       "      <th>Price First Difference</th>\n",
       "    </tr>\n",
       "  </thead>\n",
       "  <tbody>\n",
       "    <tr>\n",
       "      <th>2000-01-15</th>\n",
       "      <td>Gauteng</td>\n",
       "      <td>West Rand District Municipality</td>\n",
       "      <td>Randfontein</td>\n",
       "      <td>-26.199</td>\n",
       "      <td>27.669</td>\n",
       "      <td>cereals and tubers</td>\n",
       "      <td>Maize (white)</td>\n",
       "      <td>KG</td>\n",
       "      <td>actual</td>\n",
       "      <td>Wholesale</td>\n",
       "      <td>...</td>\n",
       "      <td>0.80</td>\n",
       "      <td>0.1321</td>\n",
       "      <td>1</td>\n",
       "      <td>0</td>\n",
       "      <td>0</td>\n",
       "      <td>2000</td>\n",
       "      <td>1</td>\n",
       "      <td>NaN</td>\n",
       "      <td>NaN</td>\n",
       "      <td>NaN</td>\n",
       "    </tr>\n",
       "    <tr>\n",
       "      <th>2000-01-15</th>\n",
       "      <td>Gauteng</td>\n",
       "      <td>West Rand District Municipality</td>\n",
       "      <td>Randfontein</td>\n",
       "      <td>-26.199</td>\n",
       "      <td>27.669</td>\n",
       "      <td>cereals and tubers</td>\n",
       "      <td>Maize (yellow)</td>\n",
       "      <td>KG</td>\n",
       "      <td>actual</td>\n",
       "      <td>Wholesale</td>\n",
       "      <td>...</td>\n",
       "      <td>0.86</td>\n",
       "      <td>0.1413</td>\n",
       "      <td>0</td>\n",
       "      <td>1</td>\n",
       "      <td>0</td>\n",
       "      <td>2000</td>\n",
       "      <td>1</td>\n",
       "      <td>0.06</td>\n",
       "      <td>NaN</td>\n",
       "      <td>0.06</td>\n",
       "    </tr>\n",
       "    <tr>\n",
       "      <th>2000-01-15</th>\n",
       "      <td>Gauteng</td>\n",
       "      <td>West Rand District Municipality</td>\n",
       "      <td>Randfontein</td>\n",
       "      <td>-26.199</td>\n",
       "      <td>27.669</td>\n",
       "      <td>cereals and tubers</td>\n",
       "      <td>Wheat</td>\n",
       "      <td>KG</td>\n",
       "      <td>actual</td>\n",
       "      <td>Wholesale</td>\n",
       "      <td>...</td>\n",
       "      <td>0.65</td>\n",
       "      <td>0.1068</td>\n",
       "      <td>0</td>\n",
       "      <td>0</td>\n",
       "      <td>1</td>\n",
       "      <td>2000</td>\n",
       "      <td>1</td>\n",
       "      <td>-0.21</td>\n",
       "      <td>NaN</td>\n",
       "      <td>-0.21</td>\n",
       "    </tr>\n",
       "    <tr>\n",
       "      <th>2000-02-15</th>\n",
       "      <td>Gauteng</td>\n",
       "      <td>West Rand District Municipality</td>\n",
       "      <td>Randfontein</td>\n",
       "      <td>-26.199</td>\n",
       "      <td>27.669</td>\n",
       "      <td>cereals and tubers</td>\n",
       "      <td>Maize (white)</td>\n",
       "      <td>KG</td>\n",
       "      <td>actual</td>\n",
       "      <td>Wholesale</td>\n",
       "      <td>...</td>\n",
       "      <td>0.80</td>\n",
       "      <td>0.1260</td>\n",
       "      <td>1</td>\n",
       "      <td>0</td>\n",
       "      <td>0</td>\n",
       "      <td>2000</td>\n",
       "      <td>2</td>\n",
       "      <td>0.15</td>\n",
       "      <td>NaN</td>\n",
       "      <td>0.15</td>\n",
       "    </tr>\n",
       "    <tr>\n",
       "      <th>2000-02-15</th>\n",
       "      <td>Gauteng</td>\n",
       "      <td>West Rand District Municipality</td>\n",
       "      <td>Randfontein</td>\n",
       "      <td>-26.199</td>\n",
       "      <td>27.669</td>\n",
       "      <td>cereals and tubers</td>\n",
       "      <td>Maize (yellow)</td>\n",
       "      <td>KG</td>\n",
       "      <td>actual</td>\n",
       "      <td>Wholesale</td>\n",
       "      <td>...</td>\n",
       "      <td>0.83</td>\n",
       "      <td>0.1305</td>\n",
       "      <td>0</td>\n",
       "      <td>1</td>\n",
       "      <td>0</td>\n",
       "      <td>2000</td>\n",
       "      <td>2</td>\n",
       "      <td>0.03</td>\n",
       "      <td>NaN</td>\n",
       "      <td>0.03</td>\n",
       "    </tr>\n",
       "  </tbody>\n",
       "</table>\n",
       "<p>5 rows × 21 columns</p>\n",
       "</div>"
      ],
      "text/plain": [
       "date         admin1                           admin2       market latitude  \\\n",
       "2000-01-15  Gauteng  West Rand District Municipality  Randfontein  -26.199   \n",
       "2000-01-15  Gauteng  West Rand District Municipality  Randfontein  -26.199   \n",
       "2000-01-15  Gauteng  West Rand District Municipality  Randfontein  -26.199   \n",
       "2000-02-15  Gauteng  West Rand District Municipality  Randfontein  -26.199   \n",
       "2000-02-15  Gauteng  West Rand District Municipality  Randfontein  -26.199   \n",
       "\n",
       "date       longitude            category       commodity unit priceflag  \\\n",
       "2000-01-15    27.669  cereals and tubers   Maize (white)   KG    actual   \n",
       "2000-01-15    27.669  cereals and tubers  Maize (yellow)   KG    actual   \n",
       "2000-01-15    27.669  cereals and tubers           Wheat   KG    actual   \n",
       "2000-02-15    27.669  cereals and tubers   Maize (white)   KG    actual   \n",
       "2000-02-15    27.669  cereals and tubers  Maize (yellow)   KG    actual   \n",
       "\n",
       "date        pricetype  ... price  usdprice  Maize (white)  Maize (yellow)  \\\n",
       "2000-01-15  Wholesale  ...  0.80    0.1321              1               0   \n",
       "2000-01-15  Wholesale  ...  0.86    0.1413              0               1   \n",
       "2000-01-15  Wholesale  ...  0.65    0.1068              0               0   \n",
       "2000-02-15  Wholesale  ...  0.80    0.1260              1               0   \n",
       "2000-02-15  Wholesale  ...  0.83    0.1305              0               1   \n",
       "\n",
       "date        Wheat  year  month  price first difference  \\\n",
       "2000-01-15      0  2000      1                     NaN   \n",
       "2000-01-15      0  2000      1                    0.06   \n",
       "2000-01-15      1  2000      1                   -0.21   \n",
       "2000-02-15      0  2000      2                    0.15   \n",
       "2000-02-15      0  2000      2                    0.03   \n",
       "\n",
       "date        Seasonal First Difference  Price First Difference  \n",
       "2000-01-15                        NaN                     NaN  \n",
       "2000-01-15                        NaN                    0.06  \n",
       "2000-01-15                        NaN                   -0.21  \n",
       "2000-02-15                        NaN                    0.15  \n",
       "2000-02-15                        NaN                    0.03  \n",
       "\n",
       "[5 rows x 21 columns]"
      ]
     },
     "execution_count": 51,
     "metadata": {},
     "output_type": "execute_result"
    }
   ],
   "source": [
    "df.head()"
   ]
  },
  {
   "cell_type": "code",
   "execution_count": 52,
   "metadata": {},
   "outputs": [
    {
     "name": "stdout",
     "output_type": "stream",
     "text": [
      "ADF Test Statitic : -5.349831404701634\n",
      "p-value : 4.313719434325066e-06\n",
      "#Lags Used : 14\n",
      "Number of Observations Used : 783\n",
      "strong evidence against the null hypothesis(Ho), reject the null hypothesis. Data hos no unit root and is stationary\n"
     ]
    }
   ],
   "source": [
    "# again test dickey adfuller test\n",
    "adfuller_test(df['Seasonal First Difference'].dropna())"
   ]
  },
  {
   "cell_type": "code",
   "execution_count": 53,
   "metadata": {},
   "outputs": [
    {
     "data": {
      "text/plain": [
       "<AxesSubplot:>"
      ]
     },
     "execution_count": 53,
     "metadata": {},
     "output_type": "execute_result"
    },
    {
     "data": {
      "image/png": "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\n",
      "text/plain": [
       "<Figure size 432x288 with 1 Axes>"
      ]
     },
     "metadata": {
      "needs_background": "light"
     },
     "output_type": "display_data"
    }
   ],
   "source": [
    "df['Seasonal First Difference'].plot()"
   ]
  },
  {
   "cell_type": "markdown",
   "metadata": {},
   "source": [
    "### Auto Regressive Model\n",
    "\n",
    "The Autoregressive Model, or AR model for short, relies only on past period values to predict current ones. It’s a linear model, where current period values are a sum of past outcomes multiplied by a numeric factor. We denote it as AR(p), where “p” is called the order of the model and represents the number of lagged values we want to include.\n",
    "\n",
    "   ##### AR Formula\n",
    "            yt =c +ϕ1yt−1 +ϕ2yt−2 +⋯+ϕpyt−p +εt"
   ]
  },
  {
   "cell_type": "code",
   "execution_count": 57,
   "metadata": {},
   "outputs": [
    {
     "data": {
      "image/png": "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\n",
      "text/plain": [
       "<Figure size 432x288 with 1 Axes>"
      ]
     },
     "metadata": {
      "needs_background": "light"
     },
     "output_type": "display_data"
    }
   ],
   "source": [
    "from pandas.plotting import autocorrelation_plot\n",
    "autocorrelation_plot(df['price'])\n",
    "plt.show()"
   ]
  },
  {
   "cell_type": "code",
   "execution_count": 89,
   "metadata": {},
   "outputs": [
    {
     "ename": "ModuleNotFoundError",
     "evalue": "No module named 'statsmodels.graphics.tsaplot'",
     "output_type": "error",
     "traceback": [
      "\u001b[1;31m---------------------------------------------------------------------------\u001b[0m",
      "\u001b[1;31mModuleNotFoundError\u001b[0m                       Traceback (most recent call last)",
      "Input \u001b[1;32mIn [89]\u001b[0m, in \u001b[0;36m<cell line: 1>\u001b[1;34m()\u001b[0m\n\u001b[1;32m----> 1\u001b[0m \u001b[38;5;28;01mfrom\u001b[39;00m \u001b[38;5;21;01mstatsmodels\u001b[39;00m\u001b[38;5;21;01m.\u001b[39;00m\u001b[38;5;21;01mgraphics\u001b[39;00m\u001b[38;5;21;01m.\u001b[39;00m\u001b[38;5;21;01mtsaplot\u001b[39;00m \u001b[38;5;28;01mimport\u001b[39;00m plot_acf, plot_pacf\n\u001b[0;32m      2\u001b[0m \u001b[38;5;28;01mimport\u001b[39;00m \u001b[38;5;21;01mpandas\u001b[39;00m \u001b[38;5;28;01mas\u001b[39;00m \u001b[38;5;21;01mpd\u001b[39;00m\n\u001b[0;32m      3\u001b[0m \u001b[38;5;28;01mimport\u001b[39;00m \u001b[38;5;21;01mmatplotlib\u001b[39;00m\u001b[38;5;21;01m.\u001b[39;00m\u001b[38;5;21;01mpyplot\u001b[39;00m \u001b[38;5;28;01mas\u001b[39;00m \u001b[38;5;21;01mplt\u001b[39;00m\n",
      "\u001b[1;31mModuleNotFoundError\u001b[0m: No module named 'statsmodels.graphics.tsaplot'"
     ]
    }
   ],
   "source": [
    "from statsmodels.graphics.tsaplot import plot_acf, plot_pacf\n",
    "import pandas as pd\n",
    "import matplotlib.pyplot as plt\n",
    "import statsmodels.api as sm\n",
    "from . import __version__\n",
    "\n",
    "df = sm.datasets.sunspots.load_pandas().data\n",
    "#df.index = pd.Index(sm.tsa.datetools.dates_from_range('1700', '2008'))\n",
    "del dta[\"YEAR\"]\n",
    "#print if you want to visualize\n",
    "#print(dta.head())\n",
    "\n",
    "fig = plt.figure(figsize=(12,8))\n",
    "ax1 = fig.add_subplot(211)\n",
    "fig = sm.graphics.tsa.plot_acf(df['Seasonal First Difference'].iloc[13:], lags=40, ax=ax1)\n",
    "ax2 = fig.add_subplot(212)\n",
    "fig = sm.graphics.tsa.plot_pacf(df['Seasonal First Difference'].iloc[13:], lags=40, ax=ax2)"
   ]
  },
  {
   "cell_type": "markdown",
   "metadata": {},
   "source": [
    "### Modeling"
   ]
  },
  {
   "cell_type": "code",
   "execution_count": 74,
   "metadata": {},
   "outputs": [],
   "source": [
    "from statsmodels.tsa.arima_model import ARIMA"
   ]
  },
  {
   "cell_type": "code",
   "execution_count": 75,
   "metadata": {},
   "outputs": [],
   "source": [
    "df_train = df[0:25]\n",
    "df_test = df[25:36]"
   ]
  },
  {
   "cell_type": "code",
   "execution_count": 79,
   "metadata": {},
   "outputs": [
    {
     "ename": "NotImplementedError",
     "evalue": "\nstatsmodels.tsa.arima_model.ARMA and statsmodels.tsa.arima_model.ARIMA have\nbeen removed in favor of statsmodels.tsa.arima.model.ARIMA (note the .\nbetween arima and model) and statsmodels.tsa.SARIMAX.\n\nstatsmodels.tsa.arima.model.ARIMA makes use of the statespace framework and\nis both well tested and maintained. It also offers alternative specialized\nparameter estimators.\n",
     "output_type": "error",
     "traceback": [
      "\u001b[1;31m---------------------------------------------------------------------------\u001b[0m",
      "\u001b[1;31mNotImplementedError\u001b[0m                       Traceback (most recent call last)",
      "Input \u001b[1;32mIn [79]\u001b[0m, in \u001b[0;36m<cell line: 1>\u001b[1;34m()\u001b[0m\n\u001b[1;32m----> 1\u001b[0m df_model \u001b[38;5;241m=\u001b[39m \u001b[43mARIMA\u001b[49m\u001b[43m(\u001b[49m\u001b[43mdf_train\u001b[49m\u001b[43m,\u001b[49m\u001b[43m \u001b[49m\u001b[43morder\u001b[49m\u001b[38;5;241;43m=\u001b[39;49m\u001b[43m(\u001b[49m\u001b[38;5;241;43m3\u001b[39;49m\u001b[43m,\u001b[49m\u001b[38;5;241;43m2\u001b[39;49m\u001b[43m,\u001b[49m\u001b[38;5;241;43m1\u001b[39;49m\u001b[43m)\u001b[49m\u001b[43m)\u001b[49m\n",
      "File \u001b[1;32m~\\Anaconda3\\lib\\site-packages\\statsmodels\\tsa\\arima_model.py:45\u001b[0m, in \u001b[0;36mARIMA.__init__\u001b[1;34m(self, *args, **kwargs)\u001b[0m\n\u001b[0;32m     44\u001b[0m \u001b[38;5;28;01mdef\u001b[39;00m \u001b[38;5;21m__init__\u001b[39m(\u001b[38;5;28mself\u001b[39m, \u001b[38;5;241m*\u001b[39margs, \u001b[38;5;241m*\u001b[39m\u001b[38;5;241m*\u001b[39mkwargs):\n\u001b[1;32m---> 45\u001b[0m     \u001b[38;5;28msuper\u001b[39m()\u001b[38;5;241m.\u001b[39m\u001b[38;5;21m__init__\u001b[39m(\u001b[38;5;241m*\u001b[39margs, \u001b[38;5;241m*\u001b[39m\u001b[38;5;241m*\u001b[39mkwargs)\n",
      "File \u001b[1;32m~\\Anaconda3\\lib\\site-packages\\statsmodels\\tsa\\arima_model.py:29\u001b[0m, in \u001b[0;36mARMA.__init__\u001b[1;34m(self, *args, **kwargs)\u001b[0m\n\u001b[0;32m     28\u001b[0m \u001b[38;5;28;01mdef\u001b[39;00m \u001b[38;5;21m__init__\u001b[39m(\u001b[38;5;28mself\u001b[39m, \u001b[38;5;241m*\u001b[39margs, \u001b[38;5;241m*\u001b[39m\u001b[38;5;241m*\u001b[39mkwargs):\n\u001b[1;32m---> 29\u001b[0m     \u001b[38;5;28;01mraise\u001b[39;00m \u001b[38;5;167;01mNotImplementedError\u001b[39;00m(ARIMA_DEPRECATION_ERROR)\n",
      "\u001b[1;31mNotImplementedError\u001b[0m: \nstatsmodels.tsa.arima_model.ARMA and statsmodels.tsa.arima_model.ARIMA have\nbeen removed in favor of statsmodels.tsa.arima.model.ARIMA (note the .\nbetween arima and model) and statsmodels.tsa.SARIMAX.\n\nstatsmodels.tsa.arima.model.ARIMA makes use of the statespace framework and\nis both well tested and maintained. It also offers alternative specialized\nparameter estimators.\n"
     ]
    }
   ],
   "source": [
    "df_model = ARIMA(df_train, order=(3,2,1))"
   ]
  },
  {
   "cell_type": "code",
   "execution_count": 82,
   "metadata": {},
   "outputs": [
    {
     "ename": "NameError",
     "evalue": "name 'df_model' is not defined",
     "output_type": "error",
     "traceback": [
      "\u001b[1;31m---------------------------------------------------------------------------\u001b[0m",
      "\u001b[1;31mNameError\u001b[0m                                 Traceback (most recent call last)",
      "Input \u001b[1;32mIn [82]\u001b[0m, in \u001b[0;36m<cell line: 1>\u001b[1;34m()\u001b[0m\n\u001b[1;32m----> 1\u001b[0m df_model\u001b[38;5;241m.\u001b[39mfit \u001b[38;5;241m=\u001b[39m \u001b[43mdf_model\u001b[49m\u001b[38;5;241m.\u001b[39mfit()\n\u001b[0;32m      2\u001b[0m df_model\u001b[38;5;241m.\u001b[39maic\n",
      "\u001b[1;31mNameError\u001b[0m: name 'df_model' is not defined"
     ]
    }
   ],
   "source": [
    "df_model.fit = df_model.fit()\n",
    "df_model.aic"
   ]
  },
  {
   "cell_type": "code",
   "execution_count": null,
   "metadata": {},
   "outputs": [],
   "source": [
    "df_forecast = df_model_fit.forecast(steps = 11)[0]"
   ]
  },
  {
   "cell_type": "code",
   "execution_count": null,
   "metadata": {},
   "outputs": [],
   "source": [
    "np.sqrt(mean_squared_error(df_test, df_forecast))"
   ]
  },
  {
   "cell_type": "code",
   "execution_count": null,
   "metadata": {},
   "outputs": [],
   "source": [
    "p_values = range(0,5)\n",
    "d_values = range(0,3)\n",
    "q_values = range(0,5)"
   ]
  },
  {
   "cell_type": "code",
   "execution_count": null,
   "metadata": {},
   "outputs": [],
   "source": [
    "import warnings\n",
    "warnings.filterwarnings('ignore')"
   ]
  },
  {
   "cell_type": "code",
   "execution_count": null,
   "metadata": {},
   "outputs": [],
   "source": [
    "for p in p values:\n",
    "    for d in d_values:\n",
    "        for q in q_valus:\n",
    "            order = (p,d,q)\n",
    "            train,test = df[0:25], df[25:36]\n",
    "            pred = list()\n",
    "            for i in range(len(test)):\n",
    "                try:\n",
    "                    model = ARIMA(train,order)\n",
    "                    model_fit = model.fit(disp=0)\n",
    "                    pred_y = model_fit.forecast()[0]\n",
    "                    pred.append(pred_y)\n",
    "                    erroe = mean_squared_error(test,pred)\n",
    "                    print('ARIMA%S MSE = %.2f')"
   ]
  }
 ],
 "metadata": {
  "colab": {
   "authorship_tag": "ABX9TyOsY35tOXoVuFb+QGXeiHYE",
   "include_colab_link": true,
   "provenance": []
  },
  "kernelspec": {
   "display_name": "Python 3 (ipykernel)",
   "language": "python",
   "name": "python3"
  },
  "language_info": {
   "codemirror_mode": {
    "name": "ipython",
    "version": 3
   },
   "file_extension": ".py",
   "mimetype": "text/x-python",
   "name": "python",
   "nbconvert_exporter": "python",
   "pygments_lexer": "ipython3",
   "version": "3.9.12"
  }
 },
 "nbformat": 4,
 "nbformat_minor": 1
}
=======
  "nbformat": 4,
  "nbformat_minor": 0
}
>>>>>>> e31f86b8802a04a1962850d49d4f7a33f00da512
